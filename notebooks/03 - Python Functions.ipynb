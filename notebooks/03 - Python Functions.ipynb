{
 "cells": [
  {
   "cell_type": "markdown",
   "id": "4407a18e",
   "metadata": {},
   "source": [
    "# Lists (recap)"
   ]
  },
  {
   "cell_type": "markdown",
   "id": "53f2e514",
   "metadata": {},
   "source": [
    "* List methods\n",
    "* `len()` function\n",
    "* Adding, multiplying lists\n",
    "* \"`in`\" and \"`not in`\" = checking if some element is part of the list\n",
    "* Looping over a list\n",
    " * `for item in list:`\n",
    " * `for i in range(len(list):`\n",
    " * using `enumerate` to get list element numbers"
   ]
  },
  {
   "cell_type": "code",
   "execution_count": null,
   "id": "f1e8a6f3",
   "metadata": {},
   "outputs": [],
   "source": []
  },
  {
   "cell_type": "code",
   "execution_count": null,
   "id": "8176eb57",
   "metadata": {},
   "outputs": [],
   "source": []
  },
  {
   "cell_type": "markdown",
   "id": "cc719955",
   "metadata": {},
   "source": [
    "# Introduction to libraries"
   ]
  },
  {
   "cell_type": "markdown",
   "id": "b491ae1e",
   "metadata": {},
   "source": [
    "### Python standard library (\"Batteries included\")\n",
    "\n",
    "https://docs.python.org/3/library/\n",
    "\n",
    "Random module:\n",
    "https://docs.python.org/3/library/random.html\n"
   ]
  },
  {
   "cell_type": "code",
   "execution_count": null,
   "id": "1d375b68",
   "metadata": {},
   "outputs": [],
   "source": [
    "import random"
   ]
  },
  {
   "cell_type": "code",
   "execution_count": null,
   "id": "ff64df90",
   "metadata": {},
   "outputs": [],
   "source": [
    "help(random.shuffle)"
   ]
  },
  {
   "cell_type": "code",
   "execution_count": null,
   "id": "781b206a",
   "metadata": {},
   "outputs": [],
   "source": [
    "help(random.choice)"
   ]
  },
  {
   "cell_type": "code",
   "execution_count": null,
   "id": "eb50ad1e",
   "metadata": {},
   "outputs": [],
   "source": [
    "my_list = [\"pear\", \"apple\", \"rose\", \"tulip\", \"mango\"]\n",
    "\n",
    "print(random.choice(my_list))"
   ]
  },
  {
   "cell_type": "markdown",
   "id": "c8232566",
   "metadata": {},
   "source": [
    "---\n",
    "\n",
    "## Practical Exercises\n",
    "\n",
    "* Print elements of a list\n",
    " * Just print all the elements\n",
    " * Print a line with element numbers and values: \"Element #1 = pear\", ...\n",
    "* Shuffle the list\n",
    "* Print list elements again\n",
    " "
   ]
  },
  {
   "cell_type": "code",
   "execution_count": null,
   "id": "efde662f",
   "metadata": {},
   "outputs": [],
   "source": []
  },
  {
   "cell_type": "code",
   "execution_count": null,
   "id": "06b55c47",
   "metadata": {},
   "outputs": [],
   "source": []
  },
  {
   "cell_type": "markdown",
   "id": "06830933",
   "metadata": {},
   "source": [
    "---\n",
    "\n",
    "# Python Functions"
   ]
  },
  {
   "cell_type": "markdown",
   "id": "324db0a7",
   "metadata": {},
   "source": [
    "## What is a function?\n",
    "\n",
    "* A function is a block of organized, reusable code that is used to perform a single, related action.\n",
    "* Functions:\n",
    " * [usually] have a name (by which they can be called)\n",
    " * may have arguments (values passed into the function)\n",
    " * may perform some operations / calculations / ...\n",
    "   * for example: print something\n",
    " * may have a return value (that we can get back from the function)\n",
    "\n",
    "### DRY - Do not Repeat Yourself principle\n",
    "\n",
    "* *Every piece of knowledge must have a single, unambiguous, authoritative representation within a system.*\n",
    "http://wiki.c2.com/?DontRepeatYourself\n",
    "* Do not write something multiple times if it can be written just once.\n",
    "\n",
    "![Python function declaration](img/function.png)\n",
    "\n",
    "* Functions are like mini-programs = they can do something and you can call them again and again\n",
    "* Code in the function \"body\" starts with an indentation (similar how we used indentation in `if` statements)\n"
   ]
  },
  {
   "cell_type": "code",
   "execution_count": null,
   "id": "bcc7e7d3",
   "metadata": {},
   "outputs": [],
   "source": [
    "text = \"Daudz teksta\"\n",
    "print(text)\n",
    "print(text)\n",
    "print(text)"
   ]
  },
  {
   "cell_type": "code",
   "execution_count": null,
   "id": "e0578d2d",
   "metadata": {},
   "outputs": [],
   "source": [
    "def print_3x(argument):\n",
    "    print(argument)\n",
    "    print(argument)\n",
    "    print(argument)\n",
    "    \n",
    "# This function prints its argument 3 times. It does not return any value."
   ]
  },
  {
   "cell_type": "code",
   "execution_count": null,
   "id": "aef6d19f",
   "metadata": {},
   "outputs": [],
   "source": [
    "# After a function is defined, we can use it:\n",
    "\n",
    "print_3x(text)"
   ]
  },
  {
   "cell_type": "code",
   "execution_count": null,
   "id": "a86d74fe",
   "metadata": {},
   "outputs": [],
   "source": [
    "print_3x(text)\n",
    "print()   # print is also a function (just it is a built-in Python function) \n",
    "print_3x(text)"
   ]
  },
  {
   "cell_type": "code",
   "execution_count": null,
   "id": "3d087d7f",
   "metadata": {},
   "outputs": [],
   "source": [
    "# It is good to write down what a function does. We will use \"\"\"docstrings\"\"\" for that.\n",
    "# Let's re-define our function (this time with a docstring):\n",
    "\n",
    "def print_3x(argument):\n",
    "    \"\"\"\n",
    "    Print the argument 3 times.\n",
    "    \n",
    "    It's good to have documentation :)\n",
    "    \"\"\"\n",
    "    \n",
    "    print(argument)\n",
    "    print(argument)\n",
    "    print(argument)\n"
   ]
  },
  {
   "cell_type": "code",
   "execution_count": null,
   "id": "c05a1143",
   "metadata": {},
   "outputs": [],
   "source": [
    "help(print_3x)"
   ]
  },
  {
   "cell_type": "code",
   "execution_count": null,
   "id": "0a1836a5",
   "metadata": {},
   "outputs": [],
   "source": [
    "# We can use the \"return\" statement to return a value from a function.\n",
    "# The return statement stops (finishes) function execution.\n",
    "\n",
    "# This function does not have arguments and it does not do much \n",
    "# but it returns a value (= it has a return value)\n",
    "\n",
    "def get_the_answer():\n",
    "    \"\"\"\n",
    "    Return the Answer to the Ultimate Question of Life, the Universe, and Everything.    \n",
    "    \n",
    "    https://en.wikipedia.org/wiki/42_(number)#The_Hitchhiker's_Guide_to_the_Galaxy\n",
    "    \"\"\"\n",
    "\n",
    "    return 42\n",
    "    \n",
    "print(get_the_answer())"
   ]
  },
  {
   "cell_type": "markdown",
   "id": "4368e615",
   "metadata": {},
   "source": [
    "---\n",
    "\n",
    "## Practical Exercises\n",
    "\n",
    "* Define a function that converts its argument from degrees Celsuis to degrees Fahrenheit\n",
    "* Call this function 2-3 times with different argument values and print the result values\n"
   ]
  },
  {
   "cell_type": "code",
   "execution_count": null,
   "id": "7fc6d53c",
   "metadata": {},
   "outputs": [],
   "source": []
  },
  {
   "cell_type": "code",
   "execution_count": null,
   "id": "78e0b383",
   "metadata": {},
   "outputs": [],
   "source": []
  },
  {
   "cell_type": "markdown",
   "id": "4cf8a19d",
   "metadata": {},
   "source": [
    "---\n",
    "\n",
    "## Functions (continued)\n",
    "\n",
    "Functions can call other functions:"
   ]
  },
  {
   "cell_type": "code",
   "execution_count": null,
   "id": "926021cc",
   "metadata": {},
   "outputs": [],
   "source": [
    "def eat():\n",
    "    print(\"  Cooking food.\")\n",
    "    print(\"  Eating food.\")"
   ]
  },
  {
   "cell_type": "code",
   "execution_count": null,
   "id": "13178164",
   "metadata": {},
   "outputs": [],
   "source": [
    "def eating_time():\n",
    "    print(\"Breakfast:\")\n",
    "    eat()\n",
    "    \n",
    "    print(\"\")\n",
    "    print(\"Lunch:\")\n",
    "    eat()\n",
    "    \n",
    "    print(\"\")\n",
    "    print(\"Dinner:\")\n",
    "    eat()"
   ]
  },
  {
   "cell_type": "code",
   "execution_count": null,
   "id": "58a3d8b2",
   "metadata": {},
   "outputs": [],
   "source": [
    "eating_time()"
   ]
  },
  {
   "cell_type": "code",
   "execution_count": null,
   "id": "33922dc4",
   "metadata": {},
   "outputs": [],
   "source": [
    "# We can move printing to the function eat():\n",
    "\n",
    "def eat(meal_name):\n",
    "    \n",
    "    print(meal_name + \":\")\n",
    "    print(\"  Cooking food.\")\n",
    "    print(\"  Eating food.\")\n",
    "    \n",
    "def eating_time():\n",
    "    \n",
    "    eat(\"Breakfast\")\n",
    "    print()\n",
    "    \n",
    "    eat(\"Lunch\")\n",
    "    print()\n",
    "    \n",
    "    eat(\"Dinner:\")\n",
    "\n",
    "# call our function:\n",
    "\n",
    "eating_time()"
   ]
  },
  {
   "cell_type": "markdown",
   "id": "69a818e5",
   "metadata": {},
   "source": [
    "Functions can even call themselves (that's called [recursion](https://en.wikipedia.org/wiki/Recursion_(computer_science))):\n",
    "* but be careful with it (or you may end up with an infinite loop)"
   ]
  },
  {
   "cell_type": "code",
   "execution_count": null,
   "id": "edb119de",
   "metadata": {},
   "outputs": [],
   "source": [
    "def count_to_zero(number):\n",
    "    \n",
    "    if number == 0:\n",
    "        print(\"That's it!\")\n",
    "        return    # we use return here to end function execution\n",
    "    elif number < 0:\n",
    "        print(\"Negative values are not allowed!\")\n",
    "        \n",
    "    print(number)\n",
    "    \n",
    "    # recursive function call\n",
    "    count_to_zero(number-1)"
   ]
  },
  {
   "cell_type": "code",
   "execution_count": null,
   "id": "3d22a393",
   "metadata": {},
   "outputs": [],
   "source": [
    "count_to_zero(5)"
   ]
  },
  {
   "cell_type": "code",
   "execution_count": null,
   "id": "06537682",
   "metadata": {},
   "outputs": [],
   "source": [
    "# We can re-write this function not to use recursion:\n",
    "\n",
    "# ..."
   ]
  },
  {
   "cell_type": "markdown",
   "id": "c11a2435",
   "metadata": {},
   "source": [
    "---"
   ]
  },
  {
   "cell_type": "code",
   "execution_count": null,
   "id": "0b631be7",
   "metadata": {},
   "outputs": [],
   "source": [
    "# Functions may also have keyword arguments:\n",
    "#  - print function has a \"sep\" keyword argument (also: \"end\", ...)\n",
    "\n",
    "help(print)"
   ]
  },
  {
   "cell_type": "code",
   "execution_count": null,
   "id": "05d993d3",
   "metadata": {},
   "outputs": [],
   "source": [
    "print(1, 2, 3)\n",
    "print(4, 5, 6)"
   ]
  },
  {
   "cell_type": "code",
   "execution_count": null,
   "id": "b524d4cd",
   "metadata": {},
   "outputs": [],
   "source": [
    "print(1, 2, 3, end=\"; \")   # not jumping to a new line here\n",
    "print(4, 5, 6)"
   ]
  },
  {
   "cell_type": "code",
   "execution_count": null,
   "id": "b5be31ff",
   "metadata": {},
   "outputs": [],
   "source": [
    "print(1, 2, 3)\n",
    "print()\n",
    "print(1, 2, 3, sep=\", \")   # using a different separator string here"
   ]
  },
  {
   "cell_type": "markdown",
   "id": "e1c3d70c",
   "metadata": {},
   "source": [
    "---\n",
    "\n",
    "### Local and global variables (scope)"
   ]
  },
  {
   "cell_type": "code",
   "execution_count": null,
   "id": "30bc0923",
   "metadata": {},
   "outputs": [],
   "source": [
    "global_var = \"Global variable\"\n",
    "\n",
    "# the variables defined in the function are local to the function\n",
    "#  - function arguments are also local (and not \"visible\" globally)\n",
    "\n",
    "def some_function(argument_1):\n",
    "    \n",
    "    local_var = \"Local variable\"\n",
    "    \n",
    "    print(f\"Variable: {local_var}\")\n",
    "    print(f\"Argument: {argument_1}\")\n",
    "    \n",
    "    # we can also use global variable inside a function\n",
    "    #  - but better don't - pass it as an argument instead\n",
    "    print()\n",
    "    print(f\"Global var: {global_var}\")\n",
    "\n",
    "some_function(111)\n"
   ]
  },
  {
   "cell_type": "code",
   "execution_count": null,
   "id": "4aa6c770",
   "metadata": {},
   "outputs": [],
   "source": [
    "# Outside of the function (in the global scope or \n",
    "# in the scope of another function) we can not \n",
    "# access local variables and arguments:\n",
    "\n",
    "print(f\"Global var: {global_var}\")\n",
    "\n",
    "print(f\"Variable: {local_var}\")"
   ]
  },
  {
   "cell_type": "code",
   "execution_count": null,
   "id": "9ea24d9b",
   "metadata": {},
   "outputs": [],
   "source": [
    "print(f\"Argument: {argument_1}\")"
   ]
  },
  {
   "cell_type": "code",
   "execution_count": null,
   "id": "58c30f10",
   "metadata": {},
   "outputs": [],
   "source": [
    "# Changing a global variable in a function is not that simple\n",
    "# (and you should avoid doing it)\n",
    "\n",
    "def change_global():\n",
    "    \n",
    "    global_var = 111\n",
    "    \n",
    "print(global_var)\n",
    "change_global()\n",
    "print(global_var)"
   ]
  },
  {
   "cell_type": "code",
   "execution_count": null,
   "id": "f94aeebd",
   "metadata": {},
   "outputs": [],
   "source": [
    "def change_global_2():\n",
    "    global global_var\n",
    "    \n",
    "    global_var =  111\n",
    "    \n",
    "print(global_var)\n",
    "change_global_2()\n",
    "print(global_var)"
   ]
  },
  {
   "cell_type": "markdown",
   "id": "c0af6a38",
   "metadata": {},
   "source": [
    "---"
   ]
  },
  {
   "cell_type": "code",
   "execution_count": null,
   "id": "b2399f30",
   "metadata": {},
   "outputs": [],
   "source": [
    "# A function may have multiple arguments.\n",
    "# The arguments may be of different types.\n",
    "\n",
    "def add(a, b):\n",
    "    return a + b    # returns the sum of arguments"
   ]
  },
  {
   "cell_type": "code",
   "execution_count": null,
   "id": "455831f6",
   "metadata": {},
   "outputs": [],
   "source": [
    "print(add(1, 2))\n",
    "\n",
    "print(add(3.14, 2.1))\n",
    "\n",
    "print(add(\"text\", \" here\"))\n",
    "\n",
    "print(add([1, 2, 3], [4, 5]))\n"
   ]
  },
  {
   "cell_type": "code",
   "execution_count": null,
   "id": "2d97efa7",
   "metadata": {},
   "outputs": [],
   "source": [
    "add(add(1, 2), add(45, 5))"
   ]
  },
  {
   "cell_type": "code",
   "execution_count": null,
   "id": "32f13d6d",
   "metadata": {},
   "outputs": [],
   "source": [
    "# What if we do not return a value but just print the result?\n",
    "\n",
    "def another_add(a, b):\n",
    "    c = a + b    # c is local to the function\n",
    "    print(c)\n",
    "    \n",
    "print(another_add(1, 2))    # the function returns a special value None"
   ]
  },
  {
   "cell_type": "code",
   "execution_count": null,
   "id": "da1efb87",
   "metadata": {},
   "outputs": [],
   "source": [
    "# this will not work like it did for the \"add\" function:\n",
    "# (because the function does not return a value)\n",
    "\n",
    "another_add(another_add(1, 2), another_add(45, 5))"
   ]
  },
  {
   "cell_type": "markdown",
   "id": "835cb938",
   "metadata": {},
   "source": [
    "---"
   ]
  },
  {
   "cell_type": "code",
   "execution_count": null,
   "id": "8829bd5a",
   "metadata": {},
   "outputs": [],
   "source": [
    "# Functions may modify values of mutable \"things\" passed to it\n",
    "# (for example, lists)\n",
    "\n",
    "my_list = [\"Meat\", \"Potatoes\", \"Cake\"]\n",
    "\n",
    "def add_element(some_list, element):\n",
    "    some_list.append(element)\n",
    "    \n",
    "print(my_list)"
   ]
  },
  {
   "cell_type": "code",
   "execution_count": null,
   "id": "8993b650",
   "metadata": {},
   "outputs": [],
   "source": [
    "add_element(my_list, \"Water\")\n",
    "\n",
    "print(my_list)"
   ]
  },
  {
   "cell_type": "code",
   "execution_count": null,
   "id": "6e102667",
   "metadata": {},
   "outputs": [],
   "source": [
    "# Let's make a function to search for sub-elements in a list:\n",
    "\n",
    "my_list = [\"Mashed potatoes\", \"Crispy chicken\", \"Tasty cake\"]\n",
    "\n",
    "def search_for(some_list, sub_element):\n",
    "    \n",
    "    for list_element in some_list:\n",
    "        \n",
    "        if sub_element in list_element:\n",
    "            print(f\"Found [{sub_element}] in [{list_element}]\")\n",
    "            return list_element\n",
    "            \n",
    "    print(f\"Sorry, [{sub_element}] not found in the list {some_list}.\")\n",
    "\n",
    "search_for(my_list, \"cake\")"
   ]
  },
  {
   "cell_type": "code",
   "execution_count": null,
   "id": "dbb97051",
   "metadata": {},
   "outputs": [],
   "source": [
    "search_for(my_list, \"vegetables\")"
   ]
  },
  {
   "cell_type": "code",
   "execution_count": null,
   "id": "60d9bac7",
   "metadata": {},
   "outputs": [],
   "source": [
    "search_for(my_list, \"Cake\")   # comparison is \"case sensitive\"!"
   ]
  },
  {
   "cell_type": "markdown",
   "id": "8a672fda",
   "metadata": {},
   "source": [
    "Question:\n",
    "* how would you modify this function to find elements independent of lowercase / uppercase?\n",
    "\n",
    "---"
   ]
  },
  {
   "cell_type": "code",
   "execution_count": null,
   "id": "9a090b2b",
   "metadata": {},
   "outputs": [],
   "source": [
    "# Function arguments may have default values:\n",
    "\n",
    "def mix_drinks(juice=\"Apple juice\", alcohol=\"rum\"):\n",
    "    \"\"\"\n",
    "    Mixes drinks for you.\n",
    "    \n",
    "    Specify the components to mix using the \"juice\" and \"alcohol\" parameters.\n",
    "    \"\"\"\n",
    "    \n",
    "    print(f\"Have a drink: {juice} with {alcohol}\")"
   ]
  },
  {
   "cell_type": "code",
   "execution_count": null,
   "id": "df7550ac",
   "metadata": {},
   "outputs": [],
   "source": [
    "mix_drinks(\"Tomatoe juice\", \"vodka\")"
   ]
  },
  {
   "cell_type": "code",
   "execution_count": null,
   "id": "f661a259",
   "metadata": {},
   "outputs": [],
   "source": [
    "mix_drinks(\"Cola\")"
   ]
  },
  {
   "cell_type": "code",
   "execution_count": null,
   "id": "949334c8",
   "metadata": {},
   "outputs": [],
   "source": [
    "mix_drinks()"
   ]
  },
  {
   "cell_type": "markdown",
   "id": "33f2cabd",
   "metadata": {},
   "source": [
    "Question:\n",
    "* can you specify just the second argument?\n",
    "* how can you get help about this function (in Jupyter and in \"plain\" Python)?\n",
    "---"
   ]
  },
  {
   "cell_type": "markdown",
   "id": "d60c4896",
   "metadata": {},
   "source": [
    "### Returning multiple values\n",
    "\n",
    "* multiple values may be returned as a tuple"
   ]
  },
  {
   "cell_type": "code",
   "execution_count": null,
   "id": "75374f97",
   "metadata": {},
   "outputs": [],
   "source": [
    "def return_multiple(a, b):\n",
    "    \n",
    "    return a+b, a-b\n",
    "\n",
    "print(return_multiple(12, 4))"
   ]
  },
  {
   "cell_type": "code",
   "execution_count": null,
   "id": "e88f5481",
   "metadata": {},
   "outputs": [],
   "source": [
    "result = return_multiple(12, 4)"
   ]
  },
  {
   "cell_type": "code",
   "execution_count": null,
   "id": "c080b16c",
   "metadata": {},
   "outputs": [],
   "source": [
    "print(result)\n",
    "print(type(result))"
   ]
  },
  {
   "cell_type": "code",
   "execution_count": null,
   "id": "87b9180a",
   "metadata": {},
   "outputs": [],
   "source": [
    "first_val = result[0]\n",
    "print(first_val)"
   ]
  },
  {
   "cell_type": "markdown",
   "id": "35cfc978",
   "metadata": {},
   "source": [
    "---\n",
    "\n",
    "### Practical exercises\n",
    "\n",
    "* Write a function that checks if its argument is a prime number\n",
    "* Write a function that checks if a string argument is a palindrome:\n",
    " * A palindrome is a word, number, phrase, or other sequence of characters which reads the same backward as forward.\n",
    " * Examples: \"madam\", \"racecar\"."
   ]
  },
  {
   "cell_type": "markdown",
   "id": "e3856305",
   "metadata": {},
   "source": [
    "---\n",
    "\n",
    "### More information:\n",
    "\n",
    "* [\"Automate the boring stuff\" chapter about functions](https://automatetheboringstuff.com/2e/chapter3/)\n",
    "* [Python built-in functions](https://docs.python.org/3/library/functions.html)"
   ]
  }
 ],
 "metadata": {
  "kernelspec": {
   "display_name": "Python 3 (ipykernel)",
   "language": "python",
   "name": "python3"
  },
  "language_info": {
   "codemirror_mode": {
    "name": "ipython",
    "version": 3
   },
   "file_extension": ".py",
   "mimetype": "text/x-python",
   "name": "python",
   "nbconvert_exporter": "python",
   "pygments_lexer": "ipython3",
   "version": "3.7.12"
  }
 },
 "nbformat": 4,
 "nbformat_minor": 5
}
