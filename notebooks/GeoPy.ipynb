{
 "cells": [
  {
   "cell_type": "markdown",
   "id": "b169caaf",
   "metadata": {},
   "source": [
    "## GeoPy\n",
    "\n",
    "https://geopy.readthedocs.io/en/stable/"
   ]
  },
  {
   "cell_type": "code",
   "execution_count": null,
   "id": "2cb2af07",
   "metadata": {},
   "outputs": [],
   "source": [
    "# install GeoPy if needed\n",
    "# !pip install geopy"
   ]
  },
  {
   "cell_type": "code",
   "execution_count": null,
   "id": "2b544835",
   "metadata": {},
   "outputs": [],
   "source": [
    "from geopy.geocoders import Nominatim\n",
    "from pprint import pprint\n",
    "\n",
    "user_agent = \"GeoPython course\"\n",
    "\n",
    "geolocator = Nominatim(user_agent=user_agent)"
   ]
  },
  {
   "cell_type": "markdown",
   "id": "6178fc28",
   "metadata": {},
   "source": [
    "### Geolocate a query to an address and coordinates"
   ]
  },
  {
   "cell_type": "code",
   "execution_count": null,
   "id": "bd34e45c",
   "metadata": {},
   "outputs": [],
   "source": [
    "location = geolocator.geocode(\"175 5th Avenue NYC\")\n",
    "print(location.address)\n",
    "\n",
    "print()\n",
    "print((location.latitude, location.longitude))"
   ]
  },
  {
   "cell_type": "code",
   "execution_count": null,
   "id": "df31bcc2",
   "metadata": {},
   "outputs": [],
   "source": [
    "location = geolocator.geocode(\"Raina bulvaris 19, Riga\")\n",
    "print(location.address)\n",
    "\n",
    "print()\n",
    "print((location.latitude, location.longitude))"
   ]
  },
  {
   "cell_type": "code",
   "execution_count": null,
   "id": "acdee3f9",
   "metadata": {},
   "outputs": [],
   "source": [
    "pprint(location.raw)"
   ]
  },
  {
   "cell_type": "markdown",
   "id": "b9c0044b",
   "metadata": {},
   "source": [
    "### Find the address corresponding to a set of coordinates"
   ]
  },
  {
   "cell_type": "code",
   "execution_count": null,
   "id": "7d3374a9",
   "metadata": {},
   "outputs": [],
   "source": [
    "location = geolocator.reverse(\"52.509669, 13.376294\")\n",
    "print(location.address)"
   ]
  },
  {
   "cell_type": "code",
   "execution_count": null,
   "id": "4cc3e2d0",
   "metadata": {},
   "outputs": [],
   "source": [
    "location = geolocator.reverse(\"56.937357, 24.097539\")\n",
    "print(location.address)\n",
    "\n",
    "print()\n",
    "print((location.latitude, location.longitude))\n",
    "\n",
    "print()\n",
    "pprint(location.raw)"
   ]
  },
  {
   "cell_type": "markdown",
   "id": "b0b62936",
   "metadata": {},
   "source": [
    "### Calculating distance\n",
    "\n",
    "https://geopy.readthedocs.io/en/stable/#module-geopy.distance"
   ]
  },
  {
   "cell_type": "code",
   "execution_count": null,
   "id": "616caad9",
   "metadata": {},
   "outputs": [],
   "source": [
    "from geopy import distance\n",
    "\n",
    "riga = (56.9475, 24.106389)\n",
    "liepaja = (56.511667, 21.013889)\n",
    "\n",
    "print(distance.distance(riga, liepaja))"
   ]
  },
  {
   "cell_type": "code",
   "execution_count": null,
   "id": "e035c04f",
   "metadata": {},
   "outputs": [],
   "source": [
    "# You can change the ellipsoid model used by the geodesic formulas:\n",
    "\n",
    "print(distance.geodesic(riga, liepaja, ellipsoid='Airy (1830)'))"
   ]
  }
 ],
 "metadata": {
  "kernelspec": {
   "display_name": "Python 3 (ipykernel)",
   "language": "python",
   "name": "python3"
  },
  "language_info": {
   "codemirror_mode": {
    "name": "ipython",
    "version": 3
   },
   "file_extension": ".py",
   "mimetype": "text/x-python",
   "name": "python",
   "nbconvert_exporter": "python",
   "pygments_lexer": "ipython3",
   "version": "3.7.15"
  }
 },
 "nbformat": 4,
 "nbformat_minor": 5
}
