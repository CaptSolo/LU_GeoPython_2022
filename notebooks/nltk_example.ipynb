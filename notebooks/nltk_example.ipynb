{
 "cells": [
  {
   "cell_type": "markdown",
   "id": "3763a655",
   "metadata": {},
   "source": [
    "## Using NLTK for extracting word collocations from text\n",
    "\n",
    "https://www.nltk.org/howto/collocations.html"
   ]
  },
  {
   "cell_type": "code",
   "execution_count": 2,
   "id": "cb7df5a0",
   "metadata": {},
   "outputs": [],
   "source": [
    "import nltk\n",
    "from nltk.collocations import *"
   ]
  },
  {
   "cell_type": "code",
   "execution_count": 3,
   "id": "e434cea1",
   "metadata": {},
   "outputs": [],
   "source": [
    "bigram_measures = nltk.collocations.BigramAssocMeasures()"
   ]
  },
  {
   "cell_type": "code",
   "execution_count": 10,
   "id": "d7b8bd4a",
   "metadata": {},
   "outputs": [],
   "source": [
    "words = \"\"\"\n",
    "This is an example text.\n",
    "\n",
    "The Semantic Web, sometimes known as Web 3.0 (not to be confused with Web3), \n",
    "is an extension of the World Wide Web through standards set by the World Wide Web\n",
    "Consortium (W3C). The goal of the Semantic Web is to make Internet data machine-readable. \n",
    "\n",
    "These standards promote common data formats and exchange protocols on the Web, \n",
    "fundamentally the RDF. According to the W3C, \"The Semantic Web provides \n",
    "a common framework that allows data to be shared and reused across application, \n",
    "enterprise, and community boundaries.\" The Semantic Web is therefore regarded \n",
    "as an integrator across different content and information applications and systems. \n",
    "\n",
    "Berners-Lee originally expressed his vision of the Semantic Web in 1999 as follows:\n",
    "\n",
    "I have a dream for the Web [in which computers] become capable of analyzing all the data\n",
    "on the Web – the content, links, and transactions between people and computers.\n",
    "A \"Semantic Web\", which makes this possible, has yet to emerge, but when it does, \n",
    "the day-to-day mechanisms of trade, bureaucracy and our daily lives will be handled \n",
    "by machines talking to machines. The \"intelligent agents\" people have touted for ages\n",
    "will finally materialize.\n",
    "\"\"\".split()"
   ]
  },
  {
   "cell_type": "code",
   "execution_count": 11,
   "id": "8ee2bdcf",
   "metadata": {},
   "outputs": [],
   "source": [
    "finder = BigramCollocationFinder.from_words(words)"
   ]
  },
  {
   "cell_type": "code",
   "execution_count": 12,
   "id": "42d10f94",
   "metadata": {},
   "outputs": [
    {
     "data": {
      "text/plain": [
       "[('\"Semantic', 'Web\",'),\n",
       " ('\"intelligent', 'agents\"'),\n",
       " ('3.0', '(not'),\n",
       " ('A', '\"Semantic'),\n",
       " ('Berners-Lee', 'originally'),\n",
       " ('Consortium', '(W3C).'),\n",
       " ('RDF.', 'According'),\n",
       " ('W3C,', '\"The'),\n",
       " ('analyzing', 'all'),\n",
       " ('application,', 'enterprise,')]"
      ]
     },
     "execution_count": 12,
     "metadata": {},
     "output_type": "execute_result"
    }
   ],
   "source": [
    "finder.nbest(bigram_measures.pmi, 10)"
   ]
  },
  {
   "cell_type": "code",
   "execution_count": 13,
   "id": "d604640c",
   "metadata": {},
   "outputs": [],
   "source": [
    "finder.apply_freq_filter(2)"
   ]
  },
  {
   "cell_type": "code",
   "execution_count": 14,
   "id": "6becd74a",
   "metadata": {},
   "outputs": [
    {
     "data": {
      "text/plain": [
       "[('World', 'Wide'),\n",
       " ('is', 'an'),\n",
       " ('Wide', 'Web'),\n",
       " ('to', 'be'),\n",
       " ('The', 'Semantic'),\n",
       " ('Semantic', 'Web'),\n",
       " ('on', 'the'),\n",
       " ('the', 'World'),\n",
       " ('Web', 'is'),\n",
       " ('of', 'the')]"
      ]
     },
     "execution_count": 14,
     "metadata": {},
     "output_type": "execute_result"
    }
   ],
   "source": [
    "finder.nbest(bigram_measures.pmi, 10)"
   ]
  }
 ],
 "metadata": {
  "kernelspec": {
   "display_name": "Python 3 (ipykernel)",
   "language": "python",
   "name": "python3"
  },
  "language_info": {
   "codemirror_mode": {
    "name": "ipython",
    "version": 3
   },
   "file_extension": ".py",
   "mimetype": "text/x-python",
   "name": "python",
   "nbconvert_exporter": "python",
   "pygments_lexer": "ipython3",
   "version": "3.7.15"
  }
 },
 "nbformat": 4,
 "nbformat_minor": 5
}
