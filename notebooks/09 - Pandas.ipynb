{
 "cells": [
  {
   "cell_type": "markdown",
   "metadata": {},
   "source": [
    "<center><h1>Python Pandas Tutorial</h1><center>"
   ]
  },
  {
   "cell_type": "markdown",
   "metadata": {},
   "source": [
    "## Pandas is Python Data Analysis Library\n",
    "\n",
    "pandas is an open source, BSD-licensed(can use for commercial means) library providing high-performance, easy-to-use data structures and data analysis tools for the Python programming language"
   ]
  },
  {
   "cell_type": "markdown",
   "metadata": {},
   "source": [
    "* Widely used\n",
    "* Open Source\n",
    "* Active Development\n",
    "* Great Documentation\n",
    "\n",
    "Home Page: http://pandas.pydata.org/\n",
    "\n",
    "User Documentation: http://pandas.pydata.org/pandas-docs/stable/\n",
    "\n",
    "Great Cheat Sheet: https://github.com/pandas-dev/pandas/blob/master/doc/cheatsheet/Pandas_Cheat_Sheet.pdf\n",
    "\n",
    "Best book by Panda's creator Wes Kinney (3rd Edition 2022): https://wesmckinney.com/book/"
   ]
  },
  {
   "cell_type": "markdown",
   "metadata": {},
   "source": [
    "### Pandas resources\n",
    "\n",
    "- https://www.dataschool.io/easier-data-analysis-with-pandas/ (video)\n",
    "\n",
    "- Tutorials: https://pandas.pydata.org/pandas-docs/stable/getting_started/tutorials.html\n",
    "  - [\"Getting started\"](https://pandas.pydata.org/pandas-docs/stable/getting_started/index.html) - see also the \"10 minutes to pandas\" section\n",
    "  - [\"Modern Pandas\"](http://tomaugspurger.github.io/modern-1-intro.html) tutorial\n",
    "  - [Python Data Science Handbook - Pandas](https://jakevdp.github.io/PythonDataScienceHandbook/index.html#3.-Data-Manipulation-with-Pandas)\n",
    "  \n",
    "- [Pandas cheat-sheet](pandas_cheatsheet.pdf)\n"
   ]
  },
  {
   "cell_type": "code",
   "execution_count": 2,
   "metadata": {},
   "outputs": [],
   "source": [
    "import pandas as pd"
   ]
  },
  {
   "cell_type": "code",
   "execution_count": null,
   "metadata": {},
   "outputs": [],
   "source": [
    "#pd.reset_option('display.max_rows')\n",
    "pd.options.display.max_rows = 40"
   ]
  },
  {
   "cell_type": "code",
   "execution_count": null,
   "metadata": {},
   "outputs": [],
   "source": [
    "import numpy as np # another big library with various numeric functions"
   ]
  },
  {
   "cell_type": "code",
   "execution_count": null,
   "metadata": {},
   "outputs": [],
   "source": [
    "import matplotlib.pyplot as plt"
   ]
  },
  {
   "cell_type": "markdown",
   "metadata": {},
   "source": [
    "# Panda's two fundamental data structures: Series and DataFrame."
   ]
  },
  {
   "cell_type": "markdown",
   "metadata": {},
   "source": [
    "### Series\n",
    "A Series is a one-dimensional array-like object containing a sequence of values (\n",
    "similar types to NumPy types) and an associated array of data labels - index.\n",
    "Simplest Series is from an array of data."
   ]
  },
  {
   "cell_type": "code",
   "execution_count": null,
   "metadata": {},
   "outputs": [],
   "source": [
    "# Let's create some Series!"
   ]
  },
  {
   "cell_type": "code",
   "execution_count": null,
   "metadata": {},
   "outputs": [],
   "source": [
    "s = pd.Series([1,4,3.5,3,np.nan,0,-5])\n",
    "s"
   ]
  },
  {
   "cell_type": "code",
   "execution_count": null,
   "metadata": {},
   "outputs": [],
   "source": [
    "s+4"
   ]
  },
  {
   "cell_type": "code",
   "execution_count": null,
   "metadata": {},
   "outputs": [],
   "source": [
    "# NaN = Not a Number (used for missing numerical values)\n",
    "# https://pandas.pydata.org/pandas-docs/stable/user_guide/missing_data.html"
   ]
  },
  {
   "cell_type": "code",
   "execution_count": null,
   "metadata": {},
   "outputs": [],
   "source": [
    "s2 = s * 4 \n",
    "s2"
   ]
  },
  {
   "cell_type": "code",
   "execution_count": null,
   "metadata": {},
   "outputs": [],
   "source": [
    "s2**2"
   ]
  },
  {
   "cell_type": "code",
   "execution_count": null,
   "metadata": {},
   "outputs": [],
   "source": [
    "### Often you want Series with an index identifying each data point with a label "
   ]
  },
  {
   "cell_type": "code",
   "execution_count": 10,
   "metadata": {},
   "outputs": [
    {
     "data": {
      "text/plain": [
       "d    24\n",
       "e    77\n",
       "a   -35\n",
       "g    31\n",
       "dtype: int64"
      ]
     },
     "execution_count": 10,
     "metadata": {},
     "output_type": "execute_result"
    }
   ],
   "source": [
    "labeledSeries = pd.Series([24, 77, -35, 31], index=['d', 'e', 'a', 'g'])\n",
    "labeledSeries"
   ]
  },
  {
   "cell_type": "code",
   "execution_count": null,
   "metadata": {},
   "outputs": [],
   "source": [
    "## A  bit similar to dictionary isn't it?\n"
   ]
  },
  {
   "cell_type": "code",
   "execution_count": 11,
   "metadata": {},
   "outputs": [
    {
     "data": {
      "text/plain": [
       "31"
      ]
     },
     "execution_count": 11,
     "metadata": {},
     "output_type": "execute_result"
    }
   ],
   "source": [
    "labeledSeries['g']"
   ]
  },
  {
   "cell_type": "code",
   "execution_count": 12,
   "metadata": {},
   "outputs": [
    {
     "data": {
      "text/plain": [
       "Index(['d', 'e', 'a', 'g'], dtype='object')"
      ]
     },
     "execution_count": 12,
     "metadata": {},
     "output_type": "execute_result"
    }
   ],
   "source": [
    "labeledSeries.index"
   ]
  },
  {
   "cell_type": "code",
   "execution_count": 13,
   "metadata": {},
   "outputs": [
    {
     "data": {
      "text/plain": [
       "array([ 24,  77, -35,  31])"
      ]
     },
     "execution_count": 13,
     "metadata": {},
     "output_type": "execute_result"
    }
   ],
   "source": [
    "labeledSeries.values"
   ]
  },
  {
   "cell_type": "code",
   "execution_count": 14,
   "metadata": {},
   "outputs": [
    {
     "data": {
      "text/plain": [
       "a   -35\n",
       "d    24\n",
       "dtype: int64"
      ]
     },
     "execution_count": 14,
     "metadata": {},
     "output_type": "execute_result"
    }
   ],
   "source": [
    "labeledSeries[['a','d']] # NOTE double list brackets!!"
   ]
  },
  {
   "cell_type": "code",
   "execution_count": 15,
   "metadata": {},
   "outputs": [
    {
     "data": {
      "text/plain": [
       "d    False\n",
       "e     True\n",
       "a    False\n",
       "g     True\n",
       "dtype: bool"
      ]
     },
     "execution_count": 15,
     "metadata": {},
     "output_type": "execute_result"
    }
   ],
   "source": [
    "labeledSeries > 30"
   ]
  },
  {
   "cell_type": "code",
   "execution_count": 16,
   "metadata": {},
   "outputs": [
    {
     "data": {
      "text/plain": [
       "e    77\n",
       "g    31\n",
       "dtype: int64"
      ]
     },
     "execution_count": 16,
     "metadata": {},
     "output_type": "execute_result"
    }
   ],
   "source": [
    "# select values via a boolean array\n",
    "labeledSeries[labeledSeries > 30]"
   ]
  },
  {
   "cell_type": "code",
   "execution_count": null,
   "metadata": {},
   "outputs": [],
   "source": [
    "# So Series behaves like a fixed-length, ordered dictionary with extra helper methods"
   ]
  },
  {
   "cell_type": "code",
   "execution_count": 17,
   "metadata": {},
   "outputs": [
    {
     "data": {
      "text/plain": [
       "True"
      ]
     },
     "execution_count": 17,
     "metadata": {},
     "output_type": "execute_result"
    }
   ],
   "source": [
    "'d' in labeledSeries"
   ]
  },
  {
   "cell_type": "markdown",
   "metadata": {},
   "source": [
    "### Can create series from dictionary by simply passing to constructor pd.Series(mydict)"
   ]
  },
  {
   "cell_type": "code",
   "execution_count": 18,
   "metadata": {},
   "outputs": [
    {
     "data": {
      "text/plain": [
       "{'Riga': 650000, 'Tukums': 20000, 'Ogre': 25000, 'Carnikava': 3000}"
      ]
     },
     "execution_count": 18,
     "metadata": {},
     "output_type": "execute_result"
    }
   ],
   "source": [
    "citydict = {'Riga': 650000, 'Tukums':20000, 'Ogre': 25000, 'Carnikava': 3000}\n",
    "citydict"
   ]
  },
  {
   "cell_type": "code",
   "execution_count": 19,
   "metadata": {},
   "outputs": [
    {
     "data": {
      "text/plain": [
       "Riga         650000\n",
       "Tukums        20000\n",
       "Ogre          25000\n",
       "Carnikava      3000\n",
       "dtype: int64"
      ]
     },
     "execution_count": 19,
     "metadata": {},
     "output_type": "execute_result"
    }
   ],
   "source": [
    "cseries = pd.Series(citydict)\n",
    "cseries"
   ]
  },
  {
   "cell_type": "code",
   "execution_count": 20,
   "metadata": {},
   "outputs": [
    {
     "data": {
      "text/plain": [
       "Jurmala            NaN\n",
       "Riga          650000.0\n",
       "Tukums         20000.0\n",
       "Ogre           25000.0\n",
       "Daugavpils         NaN\n",
       "dtype: float64"
      ]
     },
     "execution_count": 20,
     "metadata": {},
     "output_type": "execute_result"
    }
   ],
   "source": [
    "## Overwriting default index\n",
    "clist = ['Jurmala', 'Riga', 'Tukums', 'Ogre', 'Daugavpils']\n",
    "cseries2 = pd.Series(citydict, index = clist)\n",
    "cseries2"
   ]
  },
  {
   "cell_type": "code",
   "execution_count": null,
   "metadata": {},
   "outputs": [],
   "source": [
    "# notice Carnikava was lost, since our index did not have it!\n",
    "# and order was preserved from the given index list!"
   ]
  },
  {
   "cell_type": "code",
   "execution_count": 21,
   "metadata": {},
   "outputs": [
    {
     "data": {
      "text/plain": [
       "Jurmala        True\n",
       "Riga          False\n",
       "Tukums        False\n",
       "Ogre          False\n",
       "Daugavpils     True\n",
       "dtype: bool"
      ]
     },
     "execution_count": 21,
     "metadata": {},
     "output_type": "execute_result"
    }
   ],
   "source": [
    "# For missing data\n",
    "cseries2.isnull()"
   ]
  },
  {
   "cell_type": "code",
   "execution_count": 22,
   "metadata": {},
   "outputs": [
    {
     "data": {
      "text/plain": [
       "Riga      650000.0\n",
       "Tukums     20000.0\n",
       "Ogre       25000.0\n",
       "dtype: float64"
      ]
     },
     "execution_count": 22,
     "metadata": {},
     "output_type": "execute_result"
    }
   ],
   "source": [
    "cseries2.dropna()"
   ]
  },
  {
   "cell_type": "code",
   "execution_count": 23,
   "metadata": {},
   "outputs": [
    {
     "data": {
      "text/plain": [
       "Jurmala            NaN\n",
       "Riga          650000.0\n",
       "Tukums         20000.0\n",
       "Ogre           25000.0\n",
       "Daugavpils         NaN\n",
       "dtype: float64"
      ]
     },
     "execution_count": 23,
     "metadata": {},
     "output_type": "execute_result"
    }
   ],
   "source": [
    "cseries2"
   ]
  },
  {
   "cell_type": "code",
   "execution_count": 24,
   "metadata": {},
   "outputs": [
    {
     "data": {
      "text/plain": [
       "Carnikava           NaN\n",
       "Daugavpils          NaN\n",
       "Jurmala             NaN\n",
       "Ogre            50000.0\n",
       "Riga          1300000.0\n",
       "Tukums          40000.0\n",
       "dtype: float64"
      ]
     },
     "execution_count": 24,
     "metadata": {},
     "output_type": "execute_result"
    }
   ],
   "source": [
    "cseries3 = cseries + cseries2\n",
    "cseries3"
   ]
  },
  {
   "cell_type": "code",
   "execution_count": null,
   "metadata": {},
   "outputs": [],
   "source": [
    "# So NaN + number = NaN"
   ]
  },
  {
   "cell_type": "code",
   "execution_count": 25,
   "metadata": {},
   "outputs": [
    {
     "data": {
      "text/plain": [
       "City\n",
       "Riga         650000\n",
       "Tukums        20000\n",
       "Ogre          25000\n",
       "Carnikava      3000\n",
       "Name: Latvian Cities, dtype: int64"
      ]
     },
     "execution_count": 25,
     "metadata": {},
     "output_type": "execute_result"
    }
   ],
   "source": [
    "cseries.name = \"Latvian Cities\"\n",
    "cseries.index.name = \"City\"\n",
    "cseries"
   ]
  },
  {
   "cell_type": "code",
   "execution_count": 26,
   "metadata": {},
   "outputs": [
    {
     "data": {
      "text/plain": [
       "Index(['Riga', 'Tukums', 'Ogre', 'Carnikava'], dtype='object', name='City')"
      ]
     },
     "execution_count": 26,
     "metadata": {},
     "output_type": "execute_result"
    }
   ],
   "source": [
    "cseries.index"
   ]
  },
  {
   "cell_type": "code",
   "execution_count": 27,
   "metadata": {},
   "outputs": [
    {
     "data": {
      "text/plain": [
       "CarnikavaIsNotaCity    650000\n",
       "OgreEatsHumans          20000\n",
       "RigaIsOld               25000\n",
       "TukumsSmukums            3000\n",
       "Name: Latvian Cities, dtype: int64"
      ]
     },
     "execution_count": 27,
     "metadata": {},
     "output_type": "execute_result"
    }
   ],
   "source": [
    "cseries.index = ['CarnikavaIsNotaCity','OgreEatsHumans', 'RigaIsOld', 'TukumsSmukums']\n",
    "cseries"
   ]
  },
  {
   "cell_type": "code",
   "execution_count": 28,
   "metadata": {},
   "outputs": [
    {
     "data": {
      "text/plain": [
       "CarnikavaIsNotaCity    650000\n",
       "OgreEatsHumans          20000\n",
       "RigaIsOld              625000\n",
       "TukumsSmukums            3000\n",
       "Name: Latvian Cities, dtype: int64"
      ]
     },
     "execution_count": 28,
     "metadata": {},
     "output_type": "execute_result"
    }
   ],
   "source": [
    "# Series values are mutable\n",
    "cseries['RigaIsOld']=625000\n",
    "cseries"
   ]
  },
  {
   "cell_type": "code",
   "execution_count": 29,
   "metadata": {
    "tags": [
     "raises-exception"
    ]
   },
   "outputs": [
    {
     "ename": "TypeError",
     "evalue": "Index does not support mutable operations",
     "output_type": "error",
     "traceback": [
      "\u001b[0;31m---------------------------------------------------------------------------\u001b[0m",
      "\u001b[0;31mTypeError\u001b[0m                                 Traceback (most recent call last)",
      "\u001b[0;32m<ipython-input-29-296b17159362>\u001b[0m in \u001b[0;36m<module>\u001b[0;34m\u001b[0m\n\u001b[1;32m      1\u001b[0m \u001b[0;31m# How to rename individual index elements?\u001b[0m\u001b[0;34m\u001b[0m\u001b[0;34m\u001b[0m\u001b[0;34m\u001b[0m\u001b[0m\n\u001b[0;32m----> 2\u001b[0;31m \u001b[0mcseries\u001b[0m\u001b[0;34m.\u001b[0m\u001b[0mindex\u001b[0m\u001b[0;34m[\u001b[0m\u001b[0;36m2\u001b[0m\u001b[0;34m]\u001b[0m\u001b[0;34m=\u001b[0m\u001b[0;34m'RigaIsOldButFantastic'\u001b[0m\u001b[0;34m\u001b[0m\u001b[0;34m\u001b[0m\u001b[0m\n\u001b[0m\u001b[1;32m      3\u001b[0m \u001b[0mcseries\u001b[0m\u001b[0;34m\u001b[0m\u001b[0;34m\u001b[0m\u001b[0m\n",
      "\u001b[0;32m~/_changed_stuff_/LU - BigData 2021/LU_BigData_2021/venv/lib/python3.7/site-packages/pandas/core/indexes/base.py\u001b[0m in \u001b[0;36m__setitem__\u001b[0;34m(self, key, value)\u001b[0m\n\u001b[1;32m   4275\u001b[0m     \u001b[0;34m@\u001b[0m\u001b[0mfinal\u001b[0m\u001b[0;34m\u001b[0m\u001b[0;34m\u001b[0m\u001b[0m\n\u001b[1;32m   4276\u001b[0m     \u001b[0;32mdef\u001b[0m \u001b[0m__setitem__\u001b[0m\u001b[0;34m(\u001b[0m\u001b[0mself\u001b[0m\u001b[0;34m,\u001b[0m \u001b[0mkey\u001b[0m\u001b[0;34m,\u001b[0m \u001b[0mvalue\u001b[0m\u001b[0;34m)\u001b[0m\u001b[0;34m:\u001b[0m\u001b[0;34m\u001b[0m\u001b[0;34m\u001b[0m\u001b[0m\n\u001b[0;32m-> 4277\u001b[0;31m         \u001b[0;32mraise\u001b[0m \u001b[0mTypeError\u001b[0m\u001b[0;34m(\u001b[0m\u001b[0;34m\"Index does not support mutable operations\"\u001b[0m\u001b[0;34m)\u001b[0m\u001b[0;34m\u001b[0m\u001b[0;34m\u001b[0m\u001b[0m\n\u001b[0m\u001b[1;32m   4278\u001b[0m \u001b[0;34m\u001b[0m\u001b[0m\n\u001b[1;32m   4279\u001b[0m     \u001b[0;32mdef\u001b[0m \u001b[0m__getitem__\u001b[0m\u001b[0;34m(\u001b[0m\u001b[0mself\u001b[0m\u001b[0;34m,\u001b[0m \u001b[0mkey\u001b[0m\u001b[0;34m)\u001b[0m\u001b[0;34m:\u001b[0m\u001b[0;34m\u001b[0m\u001b[0;34m\u001b[0m\u001b[0m\n",
      "\u001b[0;31mTypeError\u001b[0m: Index does not support mutable operations"
     ]
    }
   ],
   "source": [
    "# How to rename individual index elements?\n",
    "cseries.index[2]='RigaIsOldButFantastic'\n",
    "cseries"
   ]
  },
  {
   "cell_type": "code",
   "execution_count": null,
   "metadata": {},
   "outputs": [],
   "source": [
    "# We use Renaming method to rename individual elements"
   ]
  },
  {
   "cell_type": "code",
   "execution_count": 30,
   "metadata": {},
   "outputs": [
    {
     "data": {
      "text/plain": [
       "CarnikavaIsNotaCity    650000\n",
       "OgreEatsHumans          20000\n",
       "RigaRocks              625000\n",
       "TukumsSmukums            3000\n",
       "Name: Latvian Cities, dtype: int64"
      ]
     },
     "execution_count": 30,
     "metadata": {},
     "output_type": "execute_result"
    }
   ],
   "source": [
    "cseries.rename(index={'RigaIsOld':'RigaRocks'})"
   ]
  },
  {
   "cell_type": "code",
   "execution_count": null,
   "metadata": {},
   "outputs": [],
   "source": []
  },
  {
   "cell_type": "markdown",
   "metadata": {},
   "source": [
    "### Integer (Position-based) vs Label-based Indexes\n",
    "\n",
    "Working with pandas objects indexed by integers is something that often trips up\n",
    "new users due to some differences with indexing semantics on built-in Python data\n",
    "structures like lists and tuples. For example, you might not expect the following code\n",
    "to generate an error:\n",
    "\n"
   ]
  },
  {
   "cell_type": "code",
   "execution_count": 31,
   "metadata": {
    "tags": [
     "raises-exception"
    ]
   },
   "outputs": [
    {
     "data": {
      "text/plain": [
       "0    0.0\n",
       "1    1.0\n",
       "2    2.0\n",
       "dtype: float64"
      ]
     },
     "execution_count": 31,
     "metadata": {},
     "output_type": "execute_result"
    }
   ],
   "source": [
    "ser = pd.Series(np.arange(3.))\n",
    "ser"
   ]
  },
  {
   "cell_type": "code",
   "execution_count": 32,
   "metadata": {
    "scrolled": true,
    "tags": [
     "raises-exception"
    ]
   },
   "outputs": [
    {
     "ename": "KeyError",
     "evalue": "-1",
     "output_type": "error",
     "traceback": [
      "\u001b[0;31m---------------------------------------------------------------------------\u001b[0m",
      "\u001b[0;31mValueError\u001b[0m                                Traceback (most recent call last)",
      "\u001b[0;32m~/_changed_stuff_/LU - BigData 2021/LU_BigData_2021/venv/lib/python3.7/site-packages/pandas/core/indexes/range.py\u001b[0m in \u001b[0;36mget_loc\u001b[0;34m(self, key, method, tolerance)\u001b[0m\n\u001b[1;32m    350\u001b[0m                 \u001b[0;32mtry\u001b[0m\u001b[0;34m:\u001b[0m\u001b[0;34m\u001b[0m\u001b[0;34m\u001b[0m\u001b[0m\n\u001b[0;32m--> 351\u001b[0;31m                     \u001b[0;32mreturn\u001b[0m \u001b[0mself\u001b[0m\u001b[0;34m.\u001b[0m\u001b[0m_range\u001b[0m\u001b[0;34m.\u001b[0m\u001b[0mindex\u001b[0m\u001b[0;34m(\u001b[0m\u001b[0mnew_key\u001b[0m\u001b[0;34m)\u001b[0m\u001b[0;34m\u001b[0m\u001b[0;34m\u001b[0m\u001b[0m\n\u001b[0m\u001b[1;32m    352\u001b[0m                 \u001b[0;32mexcept\u001b[0m \u001b[0mValueError\u001b[0m \u001b[0;32mas\u001b[0m \u001b[0merr\u001b[0m\u001b[0;34m:\u001b[0m\u001b[0;34m\u001b[0m\u001b[0;34m\u001b[0m\u001b[0m\n",
      "\u001b[0;31mValueError\u001b[0m: -1 is not in range",
      "\nThe above exception was the direct cause of the following exception:\n",
      "\u001b[0;31mKeyError\u001b[0m                                  Traceback (most recent call last)",
      "\u001b[0;32m<ipython-input-32-44969a759c20>\u001b[0m in \u001b[0;36m<module>\u001b[0;34m\u001b[0m\n\u001b[0;32m----> 1\u001b[0;31m \u001b[0mser\u001b[0m\u001b[0;34m[\u001b[0m\u001b[0;34m-\u001b[0m\u001b[0;36m1\u001b[0m\u001b[0;34m]\u001b[0m\u001b[0;34m\u001b[0m\u001b[0;34m\u001b[0m\u001b[0m\n\u001b[0m",
      "\u001b[0;32m~/_changed_stuff_/LU - BigData 2021/LU_BigData_2021/venv/lib/python3.7/site-packages/pandas/core/series.py\u001b[0m in \u001b[0;36m__getitem__\u001b[0;34m(self, key)\u001b[0m\n\u001b[1;32m    851\u001b[0m \u001b[0;34m\u001b[0m\u001b[0m\n\u001b[1;32m    852\u001b[0m         \u001b[0;32melif\u001b[0m \u001b[0mkey_is_scalar\u001b[0m\u001b[0;34m:\u001b[0m\u001b[0;34m\u001b[0m\u001b[0;34m\u001b[0m\u001b[0m\n\u001b[0;32m--> 853\u001b[0;31m             \u001b[0;32mreturn\u001b[0m \u001b[0mself\u001b[0m\u001b[0;34m.\u001b[0m\u001b[0m_get_value\u001b[0m\u001b[0;34m(\u001b[0m\u001b[0mkey\u001b[0m\u001b[0;34m)\u001b[0m\u001b[0;34m\u001b[0m\u001b[0;34m\u001b[0m\u001b[0m\n\u001b[0m\u001b[1;32m    854\u001b[0m \u001b[0;34m\u001b[0m\u001b[0m\n\u001b[1;32m    855\u001b[0m         \u001b[0;32mif\u001b[0m \u001b[0mis_hashable\u001b[0m\u001b[0;34m(\u001b[0m\u001b[0mkey\u001b[0m\u001b[0;34m)\u001b[0m\u001b[0;34m:\u001b[0m\u001b[0;34m\u001b[0m\u001b[0;34m\u001b[0m\u001b[0m\n",
      "\u001b[0;32m~/_changed_stuff_/LU - BigData 2021/LU_BigData_2021/venv/lib/python3.7/site-packages/pandas/core/series.py\u001b[0m in \u001b[0;36m_get_value\u001b[0;34m(self, label, takeable)\u001b[0m\n\u001b[1;32m    959\u001b[0m \u001b[0;34m\u001b[0m\u001b[0m\n\u001b[1;32m    960\u001b[0m         \u001b[0;31m# Similar to Index.get_value, but we do not fall back to positional\u001b[0m\u001b[0;34m\u001b[0m\u001b[0;34m\u001b[0m\u001b[0;34m\u001b[0m\u001b[0m\n\u001b[0;32m--> 961\u001b[0;31m         \u001b[0mloc\u001b[0m \u001b[0;34m=\u001b[0m \u001b[0mself\u001b[0m\u001b[0;34m.\u001b[0m\u001b[0mindex\u001b[0m\u001b[0;34m.\u001b[0m\u001b[0mget_loc\u001b[0m\u001b[0;34m(\u001b[0m\u001b[0mlabel\u001b[0m\u001b[0;34m)\u001b[0m\u001b[0;34m\u001b[0m\u001b[0;34m\u001b[0m\u001b[0m\n\u001b[0m\u001b[1;32m    962\u001b[0m         \u001b[0;32mreturn\u001b[0m \u001b[0mself\u001b[0m\u001b[0;34m.\u001b[0m\u001b[0mindex\u001b[0m\u001b[0;34m.\u001b[0m\u001b[0m_get_values_for_loc\u001b[0m\u001b[0;34m(\u001b[0m\u001b[0mself\u001b[0m\u001b[0;34m,\u001b[0m \u001b[0mloc\u001b[0m\u001b[0;34m,\u001b[0m \u001b[0mlabel\u001b[0m\u001b[0;34m)\u001b[0m\u001b[0;34m\u001b[0m\u001b[0;34m\u001b[0m\u001b[0m\n\u001b[1;32m    963\u001b[0m \u001b[0;34m\u001b[0m\u001b[0m\n",
      "\u001b[0;32m~/_changed_stuff_/LU - BigData 2021/LU_BigData_2021/venv/lib/python3.7/site-packages/pandas/core/indexes/range.py\u001b[0m in \u001b[0;36mget_loc\u001b[0;34m(self, key, method, tolerance)\u001b[0m\n\u001b[1;32m    351\u001b[0m                     \u001b[0;32mreturn\u001b[0m \u001b[0mself\u001b[0m\u001b[0;34m.\u001b[0m\u001b[0m_range\u001b[0m\u001b[0;34m.\u001b[0m\u001b[0mindex\u001b[0m\u001b[0;34m(\u001b[0m\u001b[0mnew_key\u001b[0m\u001b[0;34m)\u001b[0m\u001b[0;34m\u001b[0m\u001b[0;34m\u001b[0m\u001b[0m\n\u001b[1;32m    352\u001b[0m                 \u001b[0;32mexcept\u001b[0m \u001b[0mValueError\u001b[0m \u001b[0;32mas\u001b[0m \u001b[0merr\u001b[0m\u001b[0;34m:\u001b[0m\u001b[0;34m\u001b[0m\u001b[0;34m\u001b[0m\u001b[0m\n\u001b[0;32m--> 353\u001b[0;31m                     \u001b[0;32mraise\u001b[0m \u001b[0mKeyError\u001b[0m\u001b[0;34m(\u001b[0m\u001b[0mkey\u001b[0m\u001b[0;34m)\u001b[0m \u001b[0;32mfrom\u001b[0m \u001b[0merr\u001b[0m\u001b[0;34m\u001b[0m\u001b[0;34m\u001b[0m\u001b[0m\n\u001b[0m\u001b[1;32m    354\u001b[0m             \u001b[0;32mraise\u001b[0m \u001b[0mKeyError\u001b[0m\u001b[0;34m(\u001b[0m\u001b[0mkey\u001b[0m\u001b[0;34m)\u001b[0m\u001b[0;34m\u001b[0m\u001b[0;34m\u001b[0m\u001b[0m\n\u001b[1;32m    355\u001b[0m         \u001b[0;32mreturn\u001b[0m \u001b[0msuper\u001b[0m\u001b[0;34m(\u001b[0m\u001b[0;34m)\u001b[0m\u001b[0;34m.\u001b[0m\u001b[0mget_loc\u001b[0m\u001b[0;34m(\u001b[0m\u001b[0mkey\u001b[0m\u001b[0;34m,\u001b[0m \u001b[0mmethod\u001b[0m\u001b[0;34m=\u001b[0m\u001b[0mmethod\u001b[0m\u001b[0;34m,\u001b[0m \u001b[0mtolerance\u001b[0m\u001b[0;34m=\u001b[0m\u001b[0mtolerance\u001b[0m\u001b[0;34m)\u001b[0m\u001b[0;34m\u001b[0m\u001b[0;34m\u001b[0m\u001b[0m\n",
      "\u001b[0;31mKeyError\u001b[0m: -1"
     ]
    }
   ],
   "source": [
    "ser[-1]"
   ]
  },
  {
   "cell_type": "markdown",
   "metadata": {},
   "source": [
    "In this case, pandas could “fall back” on integer indexing, but it’s difficult to do this in\n",
    "general without introducing subtle bugs. \n",
    "\n",
    "Here we have an index containing 0, 1, 2,\n",
    "but inferring what the user wants (label-based indexing or position-based) is difficult:\n"
   ]
  },
  {
   "cell_type": "code",
   "execution_count": 33,
   "metadata": {},
   "outputs": [
    {
     "data": {
      "text/plain": [
       "0    0.0\n",
       "1    1.0\n",
       "2    2.0\n",
       "dtype: float64"
      ]
     },
     "execution_count": 33,
     "metadata": {},
     "output_type": "execute_result"
    }
   ],
   "source": [
    "ser"
   ]
  },
  {
   "cell_type": "code",
   "execution_count": null,
   "metadata": {},
   "outputs": [],
   "source": [
    "## With a non-integer index there is no potential for ambiguity:"
   ]
  },
  {
   "cell_type": "code",
   "execution_count": 34,
   "metadata": {},
   "outputs": [
    {
     "data": {
      "text/plain": [
       "2.0"
      ]
     },
     "execution_count": 34,
     "metadata": {},
     "output_type": "execute_result"
    }
   ],
   "source": [
    "ser2 = pd.Series(np.arange(3.), index=['a', 'b', 'c'])\n",
    "ser2[-1]"
   ]
  },
  {
   "cell_type": "code",
   "execution_count": 35,
   "metadata": {
    "scrolled": true
   },
   "outputs": [
    {
     "data": {
      "text/plain": [
       "c    2.0\n",
       "b    1.0\n",
       "a    0.0\n",
       "dtype: float64"
      ]
     },
     "execution_count": 35,
     "metadata": {},
     "output_type": "execute_result"
    }
   ],
   "source": [
    "ser2[::-1]"
   ]
  },
  {
   "cell_type": "code",
   "execution_count": null,
   "metadata": {},
   "outputs": [],
   "source": [
    "## To keep things consistent, if you have an axis index containing integers, data selection\n",
    "##will always be label-oriented. \n",
    "\n",
    "# For more precise handling, use loc (for labels) or iloc (for integers):"
   ]
  },
  {
   "cell_type": "code",
   "execution_count": 36,
   "metadata": {},
   "outputs": [
    {
     "data": {
      "text/plain": [
       "1.0"
      ]
     },
     "execution_count": 36,
     "metadata": {},
     "output_type": "execute_result"
    }
   ],
   "source": [
    "ser2.loc['b']"
   ]
  },
  {
   "cell_type": "code",
   "execution_count": 37,
   "metadata": {},
   "outputs": [
    {
     "data": {
      "text/plain": [
       "0    0.0\n",
       "1    1.0\n",
       "dtype: float64"
      ]
     },
     "execution_count": 37,
     "metadata": {},
     "output_type": "execute_result"
    }
   ],
   "source": [
    "# Note: label indexing includes the endpoint, integer indexing does not\n",
    "ser.loc[:1]"
   ]
  },
  {
   "cell_type": "code",
   "execution_count": 38,
   "metadata": {
    "scrolled": true
   },
   "outputs": [
    {
     "data": {
      "text/plain": [
       "0    0.0\n",
       "dtype: float64"
      ]
     },
     "execution_count": 38,
     "metadata": {},
     "output_type": "execute_result"
    }
   ],
   "source": [
    "ser.iloc[:1]"
   ]
  },
  {
   "cell_type": "markdown",
   "metadata": {},
   "source": [
    "* loc gets rows (or columns) with particular labels from the index.\n",
    "\n",
    "* iloc gets rows (or columns) at particular positions in the index (so it only takes integers)."
   ]
  },
  {
   "cell_type": "markdown",
   "metadata": {},
   "source": [
    "# Date Range creation\n",
    "\n",
    "Date ranges are used as indexes for time series data:\n",
    "* https://pandas.pydata.org/pandas-docs/stable/getting_started/10min.html#time-series"
   ]
  },
  {
   "cell_type": "code",
   "execution_count": 39,
   "metadata": {},
   "outputs": [
    {
     "data": {
      "text/plain": [
       "DatetimeIndex(['2018-05-21', '2018-05-22', '2018-05-23', '2018-05-24',\n",
       "               '2018-05-25', '2018-05-26', '2018-05-27', '2018-05-28',\n",
       "               '2018-05-29', '2018-05-30', '2018-05-31', '2018-06-01',\n",
       "               '2018-06-02', '2018-06-03', '2018-06-04'],\n",
       "              dtype='datetime64[ns]', freq='D')"
      ]
     },
     "execution_count": 39,
     "metadata": {},
     "output_type": "execute_result"
    }
   ],
   "source": [
    "dates = pd.date_range('20180521', periods=15)\n",
    "dates"
   ]
  },
  {
   "cell_type": "code",
   "execution_count": 41,
   "metadata": {},
   "outputs": [
    {
     "data": {
      "text/plain": [
       "DatetimeIndex(['2021-04-25', '2021-05-02', '2021-05-09', '2021-05-16',\n",
       "               '2021-05-23', '2021-05-30', '2021-06-06', '2021-06-13',\n",
       "               '2021-06-20', '2021-06-27', '2021-07-04', '2021-07-11',\n",
       "               '2021-07-18', '2021-07-25', '2021-08-01'],\n",
       "              dtype='datetime64[ns]', freq='W-SUN')"
      ]
     },
     "execution_count": 41,
     "metadata": {},
     "output_type": "execute_result"
    }
   ],
   "source": [
    "pd.date_range('20210422', periods=15, freq=\"W\")"
   ]
  },
  {
   "cell_type": "code",
   "execution_count": 42,
   "metadata": {},
   "outputs": [
    {
     "data": {
      "text/plain": [
       "DatetimeIndex(['2020-04-16', '2020-04-23', '2020-04-30', '2020-05-07',\n",
       "               '2020-05-14', '2020-05-21', '2020-05-28'],\n",
       "              dtype='datetime64[ns]', freq='W-THU')"
      ]
     },
     "execution_count": 42,
     "metadata": {},
     "output_type": "execute_result"
    }
   ],
   "source": [
    "pd.date_range('20200416', periods=7, freq=\"W-THU\")"
   ]
  },
  {
   "cell_type": "code",
   "execution_count": null,
   "metadata": {},
   "outputs": [],
   "source": [
    "# more on data_range frequency here\n",
    "# https://stackoverflow.com/questions/35339139/where-is-the-documentation-on-pandas-freq-tags"
   ]
  },
  {
   "cell_type": "code",
   "execution_count": 44,
   "metadata": {},
   "outputs": [
    {
     "data": {
      "text/plain": [
       "datetime.date(2021, 4, 22)"
      ]
     },
     "execution_count": 44,
     "metadata": {},
     "output_type": "execute_result"
    }
   ],
   "source": [
    "# Datetime is in the standard library (so all Python installations will have it)\n",
    "from datetime import date\n",
    "date.today()"
   ]
  },
  {
   "cell_type": "code",
   "execution_count": 45,
   "metadata": {},
   "outputs": [
    {
     "data": {
      "text/plain": [
       "DatetimeIndex(['2021-05-03', '2021-06-01', '2021-07-01', '2021-08-02',\n",
       "               '2021-09-01', '2021-10-01', '2021-11-01', '2021-12-01',\n",
       "               '2022-01-03', '2022-02-01'],\n",
       "              dtype='datetime64[ns]', freq='BMS')"
      ]
     },
     "execution_count": 45,
     "metadata": {},
     "output_type": "execute_result"
    }
   ],
   "source": [
    "# We can get a data range starting from today\n",
    "months = pd.date_range(date.today().strftime(\"%Y-%m-%d\"), periods = 10, freq='BMS')\n",
    "months"
   ]
  },
  {
   "cell_type": "markdown",
   "metadata": {},
   "source": [
    "## Reading data files"
   ]
  },
  {
   "cell_type": "code",
   "execution_count": 46,
   "metadata": {},
   "outputs": [
    {
     "data": {
      "text/html": [
       "<div>\n",
       "<style scoped>\n",
       "    .dataframe tbody tr th:only-of-type {\n",
       "        vertical-align: middle;\n",
       "    }\n",
       "\n",
       "    .dataframe tbody tr th {\n",
       "        vertical-align: top;\n",
       "    }\n",
       "\n",
       "    .dataframe thead th {\n",
       "        text-align: right;\n",
       "    }\n",
       "</style>\n",
       "<table border=\"1\" class=\"dataframe\">\n",
       "  <thead>\n",
       "    <tr style=\"text-align: right;\">\n",
       "      <th></th>\n",
       "      <th>2018 Iedzīvotāju skaits gada sākumā</th>\n",
       "    </tr>\n",
       "    <tr>\n",
       "      <th>Teritoriālā vienība</th>\n",
       "      <th></th>\n",
       "    </tr>\n",
       "  </thead>\n",
       "  <tbody>\n",
       "    <tr>\n",
       "      <th>Rīga</th>\n",
       "      <td>637971</td>\n",
       "    </tr>\n",
       "    <tr>\n",
       "      <th>Daugavpils</th>\n",
       "      <td>83250</td>\n",
       "    </tr>\n",
       "    <tr>\n",
       "      <th>Jelgava</th>\n",
       "      <td>56383</td>\n",
       "    </tr>\n",
       "    <tr>\n",
       "      <th>Jēkabpils</th>\n",
       "      <td>22188</td>\n",
       "    </tr>\n",
       "    <tr>\n",
       "      <th>Jūrmala</th>\n",
       "      <td>49073</td>\n",
       "    </tr>\n",
       "  </tbody>\n",
       "</table>\n",
       "</div>"
      ],
      "text/plain": [
       "                     2018 Iedzīvotāju skaits gada sākumā\n",
       "Teritoriālā vienība                                     \n",
       "Rīga                                              637971\n",
       "Daugavpils                                         83250\n",
       "Jelgava                                            56383\n",
       "Jēkabpils                                          22188\n",
       "Jūrmala                                            49073"
      ]
     },
     "execution_count": 46,
     "metadata": {},
     "output_type": "execute_result"
    }
   ],
   "source": [
    "city_data = pd.read_csv(\"data/iedz_skaits_2018.csv\", index_col=0)\n",
    "city_data.head()"
   ]
  },
  {
   "cell_type": "code",
   "execution_count": 47,
   "metadata": {},
   "outputs": [
    {
     "data": {
      "text/plain": [
       "pandas.core.frame.DataFrame"
      ]
     },
     "execution_count": 47,
     "metadata": {},
     "output_type": "execute_result"
    }
   ],
   "source": [
    "type(city_data)"
   ]
  },
  {
   "cell_type": "code",
   "execution_count": 48,
   "metadata": {},
   "outputs": [
    {
     "data": {
      "text/plain": [
       "pandas.core.series.Series"
      ]
     },
     "execution_count": 48,
     "metadata": {},
     "output_type": "execute_result"
    }
   ],
   "source": [
    "city_series = city_data.squeeze()\n",
    "type(city_series)"
   ]
  },
  {
   "cell_type": "code",
   "execution_count": 49,
   "metadata": {},
   "outputs": [
    {
     "data": {
      "text/plain": [
       "Teritoriālā vienība\n",
       "Rīga          637971\n",
       "Daugavpils     83250\n",
       "Jelgava        56383\n",
       "Jēkabpils      22188\n",
       "Jūrmala        49073\n",
       "Name: 2018 Iedzīvotāju skaits gada sākumā, dtype: int64"
      ]
     },
     "execution_count": 49,
     "metadata": {},
     "output_type": "execute_result"
    }
   ],
   "source": [
    "city_series.head()"
   ]
  },
  {
   "cell_type": "code",
   "execution_count": 50,
   "metadata": {},
   "outputs": [
    {
     "data": {
      "text/plain": [
       "18071"
      ]
     },
     "execution_count": 50,
     "metadata": {},
     "output_type": "execute_result"
    }
   ],
   "source": [
    "city_series[\"Salaspils\"]"
   ]
  },
  {
   "cell_type": "code",
   "execution_count": 51,
   "metadata": {},
   "outputs": [
    {
     "data": {
      "text/plain": [
       "2254964"
      ]
     },
     "execution_count": 51,
     "metadata": {},
     "output_type": "execute_result"
    }
   ],
   "source": [
    "city_series.sum()"
   ]
  },
  {
   "cell_type": "code",
   "execution_count": 52,
   "metadata": {},
   "outputs": [
    {
     "data": {
      "text/plain": [
       "count       186.000000\n",
       "mean      12123.462366\n",
       "std       47444.415575\n",
       "min         503.000000\n",
       "25%        2660.750000\n",
       "50%        5238.500000\n",
       "75%        9831.750000\n",
       "max      637971.000000\n",
       "Name: 2018 Iedzīvotāju skaits gada sākumā, dtype: float64"
      ]
     },
     "execution_count": 52,
     "metadata": {},
     "output_type": "execute_result"
    }
   ],
   "source": [
    "city_series.describe()"
   ]
  },
  {
   "cell_type": "code",
   "execution_count": 53,
   "metadata": {},
   "outputs": [
    {
     "data": {
      "text/plain": [
       "Teritoriālā vienība\n",
       "Staicele     877\n",
       "Ape          850\n",
       "Durbe        503\n",
       "Subate       635\n",
       "Līgatne      994\n",
       "Pāvilosta    894\n",
       "Ainaži       689\n",
       "Piltene      903\n",
       "Name: 2018 Iedzīvotāju skaits gada sākumā, dtype: int64"
      ]
     },
     "execution_count": 53,
     "metadata": {},
     "output_type": "execute_result"
    }
   ],
   "source": [
    "city_series[city_series < 1000]"
   ]
  },
  {
   "cell_type": "code",
   "execution_count": 54,
   "metadata": {},
   "outputs": [
    {
     "data": {
      "text/plain": [
       "Teritoriālā vienība\n",
       "Alojas novads        False\n",
       "Priekules novads     False\n",
       "Viļaka               False\n",
       "Iecavas novads       False\n",
       "Brocēnu novads       False\n",
       "Siguldas novads      False\n",
       "Jaunjelgava          False\n",
       "Auce                 False\n",
       "Babītes novads       False\n",
       "Strenču novads       False\n",
       "Viļakas novads       False\n",
       "Lielvārdes novads    False\n",
       "Priekule             False\n",
       "Ainaži                True\n",
       "Krāslavas novads     False\n",
       "Aknīste              False\n",
       "Ludza                False\n",
       "Mazsalaca            False\n",
       "Ludzas novads        False\n",
       "Kuldīga              False\n",
       "Name: 2018 Iedzīvotāju skaits gada sākumā, dtype: bool"
      ]
     },
     "execution_count": 54,
     "metadata": {},
     "output_type": "execute_result"
    }
   ],
   "source": [
    "bitmap = city_series < 1000\n",
    "bitmap.sample(20)   # kādēļ sample() nevis head()"
   ]
  },
  {
   "cell_type": "code",
   "execution_count": 55,
   "metadata": {},
   "outputs": [
    {
     "data": {
      "text/plain": [
       "Teritoriālā vienība\n",
       "Ainaži       689\n",
       "Ape          850\n",
       "Durbe        503\n",
       "Līgatne      994\n",
       "Piltene      903\n",
       "Pāvilosta    894\n",
       "Staicele     877\n",
       "Subate       635\n",
       "Name: 2018 Iedzīvotāju skaits gada sākumā, dtype: int64"
      ]
     },
     "execution_count": 55,
     "metadata": {},
     "output_type": "execute_result"
    }
   ],
   "source": [
    "city_series[bitmap].sort_index()"
   ]
  },
  {
   "cell_type": "markdown",
   "metadata": {},
   "source": [
    "## DataFrame\n",
    "\n",
    "A DataFrame represents a rectangular table of data and contains an ordered collection of columns. \n",
    "\n",
    "Each column can be a different value type (numeric, string,\n",
    "boolean, etc.). \n",
    "\n",
    "The DataFrame has both a row and column index;\n",
    "\n",
    "Think of it \n",
    "as an ordered dict of Series all sharing the same row index. \n",
    "\n",
    "Underneath data is stored as one or more two-dimensional blocks (similar to ndarray) \n",
    "rather than a list, dict, or some other collection of\n",
    "one-dimensional arrays."
   ]
  },
  {
   "cell_type": "code",
   "execution_count": null,
   "metadata": {},
   "outputs": [],
   "source": [
    "# Many ways of Data Frame creation\n",
    "# One Common way is common is\n",
    "# from a dict of equal-length lists or NumPy arrays"
   ]
  },
  {
   "cell_type": "code",
   "execution_count": 56,
   "metadata": {},
   "outputs": [
    {
     "data": {
      "text/html": [
       "<div>\n",
       "<style scoped>\n",
       "    .dataframe tbody tr th:only-of-type {\n",
       "        vertical-align: middle;\n",
       "    }\n",
       "\n",
       "    .dataframe tbody tr th {\n",
       "        vertical-align: top;\n",
       "    }\n",
       "\n",
       "    .dataframe thead th {\n",
       "        text-align: right;\n",
       "    }\n",
       "</style>\n",
       "<table border=\"1\" class=\"dataframe\">\n",
       "  <thead>\n",
       "    <tr style=\"text-align: right;\">\n",
       "      <th></th>\n",
       "      <th>city</th>\n",
       "      <th>year</th>\n",
       "      <th>popul</th>\n",
       "    </tr>\n",
       "  </thead>\n",
       "  <tbody>\n",
       "    <tr>\n",
       "      <th>0</th>\n",
       "      <td>Riga</td>\n",
       "      <td>1990</td>\n",
       "      <td>0.90</td>\n",
       "    </tr>\n",
       "    <tr>\n",
       "      <th>1</th>\n",
       "      <td>Riga</td>\n",
       "      <td>2000</td>\n",
       "      <td>0.75</td>\n",
       "    </tr>\n",
       "    <tr>\n",
       "      <th>2</th>\n",
       "      <td>Riga</td>\n",
       "      <td>2018</td>\n",
       "      <td>0.62</td>\n",
       "    </tr>\n",
       "    <tr>\n",
       "      <th>3</th>\n",
       "      <td>Jurmala</td>\n",
       "      <td>2001</td>\n",
       "      <td>0.09</td>\n",
       "    </tr>\n",
       "    <tr>\n",
       "      <th>4</th>\n",
       "      <td>Jurmala</td>\n",
       "      <td>2002</td>\n",
       "      <td>0.08</td>\n",
       "    </tr>\n",
       "    <tr>\n",
       "      <th>5</th>\n",
       "      <td>Jurmala</td>\n",
       "      <td>2003</td>\n",
       "      <td>0.06</td>\n",
       "    </tr>\n",
       "  </tbody>\n",
       "</table>\n",
       "</div>"
      ],
      "text/plain": [
       "      city  year  popul\n",
       "0     Riga  1990   0.90\n",
       "1     Riga  2000   0.75\n",
       "2     Riga  2018   0.62\n",
       "3  Jurmala  2001   0.09\n",
       "4  Jurmala  2002   0.08\n",
       "5  Jurmala  2003   0.06"
      ]
     },
     "execution_count": 56,
     "metadata": {},
     "output_type": "execute_result"
    }
   ],
   "source": [
    "data = {'city': ['Riga', 'Riga', 'Riga', 'Jurmala', 'Jurmala', 'Jurmala'],\n",
    "        'year': [1990, 2000, 2018, 2001, 2002, 2003],\n",
    "        'popul': [0.9, 0.75, 0.62, 0.09, 0.08, 0.06]}\n",
    "\n",
    "df = pd.DataFrame(data)\n",
    "df"
   ]
  },
  {
   "cell_type": "code",
   "execution_count": 57,
   "metadata": {},
   "outputs": [
    {
     "data": {
      "text/html": [
       "<div>\n",
       "<style scoped>\n",
       "    .dataframe tbody tr th:only-of-type {\n",
       "        vertical-align: middle;\n",
       "    }\n",
       "\n",
       "    .dataframe tbody tr th {\n",
       "        vertical-align: top;\n",
       "    }\n",
       "\n",
       "    .dataframe thead th {\n",
       "        text-align: right;\n",
       "    }\n",
       "</style>\n",
       "<table border=\"1\" class=\"dataframe\">\n",
       "  <thead>\n",
       "    <tr style=\"text-align: right;\">\n",
       "      <th></th>\n",
       "      <th>year</th>\n",
       "      <th>city</th>\n",
       "      <th>popul</th>\n",
       "      <th>budget</th>\n",
       "    </tr>\n",
       "  </thead>\n",
       "  <tbody>\n",
       "    <tr>\n",
       "      <th>0</th>\n",
       "      <td>1990</td>\n",
       "      <td>Riga</td>\n",
       "      <td>0.90</td>\n",
       "      <td>NaN</td>\n",
       "    </tr>\n",
       "    <tr>\n",
       "      <th>1</th>\n",
       "      <td>2000</td>\n",
       "      <td>Riga</td>\n",
       "      <td>0.75</td>\n",
       "      <td>NaN</td>\n",
       "    </tr>\n",
       "    <tr>\n",
       "      <th>2</th>\n",
       "      <td>2018</td>\n",
       "      <td>Riga</td>\n",
       "      <td>0.62</td>\n",
       "      <td>NaN</td>\n",
       "    </tr>\n",
       "    <tr>\n",
       "      <th>3</th>\n",
       "      <td>2001</td>\n",
       "      <td>Jurmala</td>\n",
       "      <td>0.09</td>\n",
       "      <td>NaN</td>\n",
       "    </tr>\n",
       "    <tr>\n",
       "      <th>4</th>\n",
       "      <td>2002</td>\n",
       "      <td>Jurmala</td>\n",
       "      <td>0.08</td>\n",
       "      <td>NaN</td>\n",
       "    </tr>\n",
       "    <tr>\n",
       "      <th>5</th>\n",
       "      <td>2003</td>\n",
       "      <td>Jurmala</td>\n",
       "      <td>0.06</td>\n",
       "      <td>NaN</td>\n",
       "    </tr>\n",
       "  </tbody>\n",
       "</table>\n",
       "</div>"
      ],
      "text/plain": [
       "   year     city  popul budget\n",
       "0  1990     Riga   0.90    NaN\n",
       "1  2000     Riga   0.75    NaN\n",
       "2  2018     Riga   0.62    NaN\n",
       "3  2001  Jurmala   0.09    NaN\n",
       "4  2002  Jurmala   0.08    NaN\n",
       "5  2003  Jurmala   0.06    NaN"
      ]
     },
     "execution_count": 57,
     "metadata": {},
     "output_type": "execute_result"
    }
   ],
   "source": [
    "df2 = pd.DataFrame(data, columns=['year','city', 'popul','budget'])\n",
    "df2"
   ]
  },
  {
   "cell_type": "code",
   "execution_count": null,
   "metadata": {},
   "outputs": [],
   "source": [
    "# missing column simply given Nans"
   ]
  },
  {
   "cell_type": "code",
   "execution_count": 58,
   "metadata": {},
   "outputs": [
    {
     "data": {
      "text/html": [
       "<div>\n",
       "<style scoped>\n",
       "    .dataframe tbody tr th:only-of-type {\n",
       "        vertical-align: middle;\n",
       "    }\n",
       "\n",
       "    .dataframe tbody tr th {\n",
       "        vertical-align: top;\n",
       "    }\n",
       "\n",
       "    .dataframe thead th {\n",
       "        text-align: right;\n",
       "    }\n",
       "</style>\n",
       "<table border=\"1\" class=\"dataframe\">\n",
       "  <thead>\n",
       "    <tr style=\"text-align: right;\">\n",
       "      <th></th>\n",
       "      <th>year</th>\n",
       "      <th>city</th>\n",
       "      <th>popul</th>\n",
       "      <th>budget</th>\n",
       "    </tr>\n",
       "  </thead>\n",
       "  <tbody>\n",
       "    <tr>\n",
       "      <th>0</th>\n",
       "      <td>1990</td>\n",
       "      <td>Riga</td>\n",
       "      <td>0.90</td>\n",
       "      <td>300000000</td>\n",
       "    </tr>\n",
       "    <tr>\n",
       "      <th>1</th>\n",
       "      <td>2000</td>\n",
       "      <td>Riga</td>\n",
       "      <td>0.75</td>\n",
       "      <td>300000000</td>\n",
       "    </tr>\n",
       "    <tr>\n",
       "      <th>2</th>\n",
       "      <td>2018</td>\n",
       "      <td>Riga</td>\n",
       "      <td>0.62</td>\n",
       "      <td>300000000</td>\n",
       "    </tr>\n",
       "    <tr>\n",
       "      <th>3</th>\n",
       "      <td>2001</td>\n",
       "      <td>Jurmala</td>\n",
       "      <td>0.09</td>\n",
       "      <td>300000000</td>\n",
       "    </tr>\n",
       "    <tr>\n",
       "      <th>4</th>\n",
       "      <td>2002</td>\n",
       "      <td>Jurmala</td>\n",
       "      <td>0.08</td>\n",
       "      <td>300000000</td>\n",
       "    </tr>\n",
       "    <tr>\n",
       "      <th>5</th>\n",
       "      <td>2003</td>\n",
       "      <td>Jurmala</td>\n",
       "      <td>0.06</td>\n",
       "      <td>300000000</td>\n",
       "    </tr>\n",
       "  </tbody>\n",
       "</table>\n",
       "</div>"
      ],
      "text/plain": [
       "   year     city  popul     budget\n",
       "0  1990     Riga   0.90  300000000\n",
       "1  2000     Riga   0.75  300000000\n",
       "2  2018     Riga   0.62  300000000\n",
       "3  2001  Jurmala   0.09  300000000\n",
       "4  2002  Jurmala   0.08  300000000\n",
       "5  2003  Jurmala   0.06  300000000"
      ]
     },
     "execution_count": 58,
     "metadata": {},
     "output_type": "execute_result"
    }
   ],
   "source": [
    "df2['budget']=300000000\n",
    "df2"
   ]
  },
  {
   "cell_type": "code",
   "execution_count": 59,
   "metadata": {},
   "outputs": [
    {
     "data": {
      "text/html": [
       "<div>\n",
       "<style scoped>\n",
       "    .dataframe tbody tr th:only-of-type {\n",
       "        vertical-align: middle;\n",
       "    }\n",
       "\n",
       "    .dataframe tbody tr th {\n",
       "        vertical-align: top;\n",
       "    }\n",
       "\n",
       "    .dataframe thead th {\n",
       "        text-align: right;\n",
       "    }\n",
       "</style>\n",
       "<table border=\"1\" class=\"dataframe\">\n",
       "  <thead>\n",
       "    <tr style=\"text-align: right;\">\n",
       "      <th></th>\n",
       "      <th>year</th>\n",
       "      <th>city</th>\n",
       "      <th>popul</th>\n",
       "      <th>budget</th>\n",
       "    </tr>\n",
       "  </thead>\n",
       "  <tbody>\n",
       "    <tr>\n",
       "      <th>0</th>\n",
       "      <td>1990</td>\n",
       "      <td>Riga</td>\n",
       "      <td>0.90</td>\n",
       "      <td>300000</td>\n",
       "    </tr>\n",
       "    <tr>\n",
       "      <th>1</th>\n",
       "      <td>2000</td>\n",
       "      <td>Riga</td>\n",
       "      <td>0.75</td>\n",
       "      <td>250000</td>\n",
       "    </tr>\n",
       "    <tr>\n",
       "      <th>2</th>\n",
       "      <td>2018</td>\n",
       "      <td>Riga</td>\n",
       "      <td>0.62</td>\n",
       "      <td>400000</td>\n",
       "    </tr>\n",
       "    <tr>\n",
       "      <th>3</th>\n",
       "      <td>2001</td>\n",
       "      <td>Jurmala</td>\n",
       "      <td>0.09</td>\n",
       "      <td>200000</td>\n",
       "    </tr>\n",
       "    <tr>\n",
       "      <th>4</th>\n",
       "      <td>2002</td>\n",
       "      <td>Jurmala</td>\n",
       "      <td>0.08</td>\n",
       "      <td>250000</td>\n",
       "    </tr>\n",
       "    <tr>\n",
       "      <th>5</th>\n",
       "      <td>2003</td>\n",
       "      <td>Jurmala</td>\n",
       "      <td>0.06</td>\n",
       "      <td>200000</td>\n",
       "    </tr>\n",
       "  </tbody>\n",
       "</table>\n",
       "</div>"
      ],
      "text/plain": [
       "   year     city  popul  budget\n",
       "0  1990     Riga   0.90  300000\n",
       "1  2000     Riga   0.75  250000\n",
       "2  2018     Riga   0.62  400000\n",
       "3  2001  Jurmala   0.09  200000\n",
       "4  2002  Jurmala   0.08  250000\n",
       "5  2003  Jurmala   0.06  200000"
      ]
     },
     "execution_count": 59,
     "metadata": {},
     "output_type": "execute_result"
    }
   ],
   "source": [
    "df2['budget']=[300000, 250000, 400000, 200000, 250000, 200000] # need to pass all values\n",
    "df2"
   ]
  },
  {
   "cell_type": "code",
   "execution_count": null,
   "metadata": {},
   "outputs": [],
   "source": [
    "# Many ways of changing individual values\n",
    "\n",
    "## Recommended way of changing in place (same dataframe)\n"
   ]
  },
  {
   "cell_type": "code",
   "execution_count": 60,
   "metadata": {},
   "outputs": [
    {
     "data": {
      "text/html": [
       "<div>\n",
       "<style scoped>\n",
       "    .dataframe tbody tr th:only-of-type {\n",
       "        vertical-align: middle;\n",
       "    }\n",
       "\n",
       "    .dataframe tbody tr th {\n",
       "        vertical-align: top;\n",
       "    }\n",
       "\n",
       "    .dataframe thead th {\n",
       "        text-align: right;\n",
       "    }\n",
       "</style>\n",
       "<table border=\"1\" class=\"dataframe\">\n",
       "  <thead>\n",
       "    <tr style=\"text-align: right;\">\n",
       "      <th></th>\n",
       "      <th>year</th>\n",
       "      <th>city</th>\n",
       "      <th>popul</th>\n",
       "      <th>budget</th>\n",
       "    </tr>\n",
       "  </thead>\n",
       "  <tbody>\n",
       "    <tr>\n",
       "      <th>0</th>\n",
       "      <td>1990</td>\n",
       "      <td>Riga</td>\n",
       "      <td>0.900</td>\n",
       "      <td>300000</td>\n",
       "    </tr>\n",
       "    <tr>\n",
       "      <th>1</th>\n",
       "      <td>2000</td>\n",
       "      <td>Riga</td>\n",
       "      <td>0.750</td>\n",
       "      <td>250000</td>\n",
       "    </tr>\n",
       "    <tr>\n",
       "      <th>2</th>\n",
       "      <td>2018</td>\n",
       "      <td>Riga</td>\n",
       "      <td>0.620</td>\n",
       "      <td>400000</td>\n",
       "    </tr>\n",
       "    <tr>\n",
       "      <th>3</th>\n",
       "      <td>2001</td>\n",
       "      <td>Jurmala</td>\n",
       "      <td>0.063</td>\n",
       "      <td>200000</td>\n",
       "    </tr>\n",
       "    <tr>\n",
       "      <th>4</th>\n",
       "      <td>2002</td>\n",
       "      <td>Jurmala</td>\n",
       "      <td>0.080</td>\n",
       "      <td>250000</td>\n",
       "    </tr>\n",
       "    <tr>\n",
       "      <th>5</th>\n",
       "      <td>2003</td>\n",
       "      <td>Jurmala</td>\n",
       "      <td>0.060</td>\n",
       "      <td>200000</td>\n",
       "    </tr>\n",
       "  </tbody>\n",
       "</table>\n",
       "</div>"
      ],
      "text/plain": [
       "   year     city  popul  budget\n",
       "0  1990     Riga  0.900  300000\n",
       "1  2000     Riga  0.750  250000\n",
       "2  2018     Riga  0.620  400000\n",
       "3  2001  Jurmala  0.063  200000\n",
       "4  2002  Jurmala  0.080  250000\n",
       "5  2003  Jurmala  0.060  200000"
      ]
     },
     "execution_count": 60,
     "metadata": {},
     "output_type": "execute_result"
    }
   ],
   "source": [
    "df2.iat[3,2]=0.063\n",
    "df2"
   ]
  },
  {
   "cell_type": "code",
   "execution_count": 61,
   "metadata": {},
   "outputs": [
    {
     "data": {
      "text/plain": [
       "0    300000\n",
       "1    250000\n",
       "2    400000\n",
       "3    200000\n",
       "4    250000\n",
       "5    200000\n",
       "Name: budget, dtype: int64"
      ]
     },
     "execution_count": 61,
     "metadata": {},
     "output_type": "execute_result"
    }
   ],
   "source": [
    "df2[\"budget\"]"
   ]
  },
  {
   "cell_type": "code",
   "execution_count": 63,
   "metadata": {},
   "outputs": [
    {
     "data": {
      "text/plain": [
       "pandas.core.series.Series"
      ]
     },
     "execution_count": 63,
     "metadata": {},
     "output_type": "execute_result"
    }
   ],
   "source": [
    "type(df2[\"budget\"])"
   ]
  },
  {
   "cell_type": "code",
   "execution_count": 64,
   "metadata": {},
   "outputs": [
    {
     "data": {
      "text/html": [
       "<div>\n",
       "<style scoped>\n",
       "    .dataframe tbody tr th:only-of-type {\n",
       "        vertical-align: middle;\n",
       "    }\n",
       "\n",
       "    .dataframe tbody tr th {\n",
       "        vertical-align: top;\n",
       "    }\n",
       "\n",
       "    .dataframe thead th {\n",
       "        text-align: right;\n",
       "    }\n",
       "</style>\n",
       "<table border=\"1\" class=\"dataframe\">\n",
       "  <thead>\n",
       "    <tr style=\"text-align: right;\">\n",
       "      <th></th>\n",
       "      <th>year</th>\n",
       "      <th>city</th>\n",
       "      <th>popul</th>\n",
       "    </tr>\n",
       "  </thead>\n",
       "  <tbody>\n",
       "    <tr>\n",
       "      <th>0</th>\n",
       "      <td>1990</td>\n",
       "      <td>Riga</td>\n",
       "      <td>0.900</td>\n",
       "    </tr>\n",
       "    <tr>\n",
       "      <th>1</th>\n",
       "      <td>2000</td>\n",
       "      <td>Riga</td>\n",
       "      <td>0.750</td>\n",
       "    </tr>\n",
       "    <tr>\n",
       "      <th>2</th>\n",
       "      <td>2018</td>\n",
       "      <td>Riga</td>\n",
       "      <td>0.620</td>\n",
       "    </tr>\n",
       "    <tr>\n",
       "      <th>3</th>\n",
       "      <td>2001</td>\n",
       "      <td>Jurmala</td>\n",
       "      <td>0.063</td>\n",
       "    </tr>\n",
       "    <tr>\n",
       "      <th>4</th>\n",
       "      <td>2002</td>\n",
       "      <td>Jurmala</td>\n",
       "      <td>0.080</td>\n",
       "    </tr>\n",
       "    <tr>\n",
       "      <th>5</th>\n",
       "      <td>2003</td>\n",
       "      <td>Jurmala</td>\n",
       "      <td>0.060</td>\n",
       "    </tr>\n",
       "  </tbody>\n",
       "</table>\n",
       "</div>"
      ],
      "text/plain": [
       "   year     city  popul\n",
       "0  1990     Riga  0.900\n",
       "1  2000     Riga  0.750\n",
       "2  2018     Riga  0.620\n",
       "3  2001  Jurmala  0.063\n",
       "4  2002  Jurmala  0.080\n",
       "5  2003  Jurmala  0.060"
      ]
     },
     "execution_count": 64,
     "metadata": {},
     "output_type": "execute_result"
    }
   ],
   "source": [
    "# delete column by its name\n",
    "del df2[\"budget\"]\n",
    "df2"
   ]
  },
  {
   "cell_type": "code",
   "execution_count": 65,
   "metadata": {},
   "outputs": [
    {
     "data": {
      "text/html": [
       "<div>\n",
       "<style scoped>\n",
       "    .dataframe tbody tr th:only-of-type {\n",
       "        vertical-align: middle;\n",
       "    }\n",
       "\n",
       "    .dataframe tbody tr th {\n",
       "        vertical-align: top;\n",
       "    }\n",
       "\n",
       "    .dataframe thead th {\n",
       "        text-align: right;\n",
       "    }\n",
       "</style>\n",
       "<table border=\"1\" class=\"dataframe\">\n",
       "  <thead>\n",
       "    <tr style=\"text-align: right;\">\n",
       "      <th></th>\n",
       "      <th>A</th>\n",
       "      <th>B</th>\n",
       "      <th>C</th>\n",
       "      <th>D</th>\n",
       "      <th>E</th>\n",
       "    </tr>\n",
       "  </thead>\n",
       "  <tbody>\n",
       "    <tr>\n",
       "      <th>2018-05-21</th>\n",
       "      <td>0.721049</td>\n",
       "      <td>0.019420</td>\n",
       "      <td>0.532527</td>\n",
       "      <td>-0.858175</td>\n",
       "      <td>1.739109</td>\n",
       "    </tr>\n",
       "    <tr>\n",
       "      <th>2018-05-22</th>\n",
       "      <td>-0.751767</td>\n",
       "      <td>-0.557334</td>\n",
       "      <td>0.442134</td>\n",
       "      <td>1.336626</td>\n",
       "      <td>0.370737</td>\n",
       "    </tr>\n",
       "    <tr>\n",
       "      <th>2018-05-23</th>\n",
       "      <td>0.631718</td>\n",
       "      <td>0.391248</td>\n",
       "      <td>-0.016768</td>\n",
       "      <td>1.385145</td>\n",
       "      <td>-0.930659</td>\n",
       "    </tr>\n",
       "    <tr>\n",
       "      <th>2018-05-24</th>\n",
       "      <td>0.867740</td>\n",
       "      <td>0.553484</td>\n",
       "      <td>-0.921000</td>\n",
       "      <td>0.483510</td>\n",
       "      <td>0.525265</td>\n",
       "    </tr>\n",
       "    <tr>\n",
       "      <th>2018-05-25</th>\n",
       "      <td>1.648864</td>\n",
       "      <td>1.821448</td>\n",
       "      <td>-2.168256</td>\n",
       "      <td>1.873933</td>\n",
       "      <td>-1.621497</td>\n",
       "    </tr>\n",
       "    <tr>\n",
       "      <th>2018-05-26</th>\n",
       "      <td>-0.138812</td>\n",
       "      <td>2.426672</td>\n",
       "      <td>-0.713728</td>\n",
       "      <td>0.858514</td>\n",
       "      <td>-0.311827</td>\n",
       "    </tr>\n",
       "    <tr>\n",
       "      <th>2018-05-27</th>\n",
       "      <td>-0.578854</td>\n",
       "      <td>-1.799046</td>\n",
       "      <td>-0.013709</td>\n",
       "      <td>0.491469</td>\n",
       "      <td>-0.169685</td>\n",
       "    </tr>\n",
       "    <tr>\n",
       "      <th>2018-05-28</th>\n",
       "      <td>0.328426</td>\n",
       "      <td>-0.057727</td>\n",
       "      <td>1.072547</td>\n",
       "      <td>0.177570</td>\n",
       "      <td>0.642694</td>\n",
       "    </tr>\n",
       "    <tr>\n",
       "      <th>2018-05-29</th>\n",
       "      <td>-0.233350</td>\n",
       "      <td>-0.494728</td>\n",
       "      <td>-0.145300</td>\n",
       "      <td>2.131749</td>\n",
       "      <td>-0.950209</td>\n",
       "    </tr>\n",
       "    <tr>\n",
       "      <th>2018-05-30</th>\n",
       "      <td>1.018628</td>\n",
       "      <td>-0.441224</td>\n",
       "      <td>-0.810934</td>\n",
       "      <td>-3.808978</td>\n",
       "      <td>0.714674</td>\n",
       "    </tr>\n",
       "    <tr>\n",
       "      <th>2018-05-31</th>\n",
       "      <td>1.126841</td>\n",
       "      <td>-1.340706</td>\n",
       "      <td>0.241627</td>\n",
       "      <td>-1.034646</td>\n",
       "      <td>-0.836399</td>\n",
       "    </tr>\n",
       "    <tr>\n",
       "      <th>2018-06-01</th>\n",
       "      <td>0.266433</td>\n",
       "      <td>0.497163</td>\n",
       "      <td>0.169295</td>\n",
       "      <td>-1.463903</td>\n",
       "      <td>0.920211</td>\n",
       "    </tr>\n",
       "    <tr>\n",
       "      <th>2018-06-02</th>\n",
       "      <td>-0.399290</td>\n",
       "      <td>-0.513238</td>\n",
       "      <td>-1.466636</td>\n",
       "      <td>-0.517236</td>\n",
       "      <td>0.396924</td>\n",
       "    </tr>\n",
       "    <tr>\n",
       "      <th>2018-06-03</th>\n",
       "      <td>0.651787</td>\n",
       "      <td>-0.265913</td>\n",
       "      <td>0.271687</td>\n",
       "      <td>0.711061</td>\n",
       "      <td>1.030110</td>\n",
       "    </tr>\n",
       "    <tr>\n",
       "      <th>2018-06-04</th>\n",
       "      <td>-1.147195</td>\n",
       "      <td>0.217811</td>\n",
       "      <td>1.386582</td>\n",
       "      <td>0.214082</td>\n",
       "      <td>-1.731895</td>\n",
       "    </tr>\n",
       "  </tbody>\n",
       "</table>\n",
       "</div>"
      ],
      "text/plain": [
       "                   A         B         C         D         E\n",
       "2018-05-21  0.721049  0.019420  0.532527 -0.858175  1.739109\n",
       "2018-05-22 -0.751767 -0.557334  0.442134  1.336626  0.370737\n",
       "2018-05-23  0.631718  0.391248 -0.016768  1.385145 -0.930659\n",
       "2018-05-24  0.867740  0.553484 -0.921000  0.483510  0.525265\n",
       "2018-05-25  1.648864  1.821448 -2.168256  1.873933 -1.621497\n",
       "2018-05-26 -0.138812  2.426672 -0.713728  0.858514 -0.311827\n",
       "2018-05-27 -0.578854 -1.799046 -0.013709  0.491469 -0.169685\n",
       "2018-05-28  0.328426 -0.057727  1.072547  0.177570  0.642694\n",
       "2018-05-29 -0.233350 -0.494728 -0.145300  2.131749 -0.950209\n",
       "2018-05-30  1.018628 -0.441224 -0.810934 -3.808978  0.714674\n",
       "2018-05-31  1.126841 -1.340706  0.241627 -1.034646 -0.836399\n",
       "2018-06-01  0.266433  0.497163  0.169295 -1.463903  0.920211\n",
       "2018-06-02 -0.399290 -0.513238 -1.466636 -0.517236  0.396924\n",
       "2018-06-03  0.651787 -0.265913  0.271687  0.711061  1.030110\n",
       "2018-06-04 -1.147195  0.217811  1.386582  0.214082 -1.731895"
      ]
     },
     "execution_count": 65,
     "metadata": {},
     "output_type": "execute_result"
    }
   ],
   "source": [
    "df = pd.DataFrame(np.random.randn(15,5), index=dates, columns=list('ABCDE'))\n",
    "# We passed 15 rows of 5 random elements and set index to dates and columns to our basic list elements\n",
    "df"
   ]
  },
  {
   "cell_type": "code",
   "execution_count": 66,
   "metadata": {},
   "outputs": [
    {
     "data": {
      "text/html": [
       "<div>\n",
       "<style scoped>\n",
       "    .dataframe tbody tr th:only-of-type {\n",
       "        vertical-align: middle;\n",
       "    }\n",
       "\n",
       "    .dataframe tbody tr th {\n",
       "        vertical-align: top;\n",
       "    }\n",
       "\n",
       "    .dataframe thead th {\n",
       "        text-align: right;\n",
       "    }\n",
       "</style>\n",
       "<table border=\"1\" class=\"dataframe\">\n",
       "  <thead>\n",
       "    <tr style=\"text-align: right;\">\n",
       "      <th></th>\n",
       "      <th>A</th>\n",
       "      <th>B</th>\n",
       "      <th>C</th>\n",
       "      <th>D</th>\n",
       "      <th>E</th>\n",
       "      <th>F</th>\n",
       "    </tr>\n",
       "  </thead>\n",
       "  <tbody>\n",
       "    <tr>\n",
       "      <th>0</th>\n",
       "      <td>1.0</td>\n",
       "      <td>2013-01-02</td>\n",
       "      <td>1.0</td>\n",
       "      <td>3</td>\n",
       "      <td>test</td>\n",
       "      <td>foo</td>\n",
       "    </tr>\n",
       "    <tr>\n",
       "      <th>1</th>\n",
       "      <td>1.0</td>\n",
       "      <td>2013-01-02</td>\n",
       "      <td>1.0</td>\n",
       "      <td>3</td>\n",
       "      <td>train</td>\n",
       "      <td>foo</td>\n",
       "    </tr>\n",
       "    <tr>\n",
       "      <th>2</th>\n",
       "      <td>1.0</td>\n",
       "      <td>2013-01-02</td>\n",
       "      <td>1.0</td>\n",
       "      <td>3</td>\n",
       "      <td>test</td>\n",
       "      <td>foo</td>\n",
       "    </tr>\n",
       "    <tr>\n",
       "      <th>3</th>\n",
       "      <td>1.0</td>\n",
       "      <td>2013-01-02</td>\n",
       "      <td>1.0</td>\n",
       "      <td>3</td>\n",
       "      <td>train</td>\n",
       "      <td>foo</td>\n",
       "    </tr>\n",
       "  </tbody>\n",
       "</table>\n",
       "</div>"
      ],
      "text/plain": [
       "     A          B    C  D      E    F\n",
       "0  1.0 2013-01-02  1.0  3   test  foo\n",
       "1  1.0 2013-01-02  1.0  3  train  foo\n",
       "2  1.0 2013-01-02  1.0  3   test  foo\n",
       "3  1.0 2013-01-02  1.0  3  train  foo"
      ]
     },
     "execution_count": 66,
     "metadata": {},
     "output_type": "execute_result"
    }
   ],
   "source": [
    "df2 = pd.DataFrame({ 'A' : 1.,\n",
    "                      'B' : pd.Timestamp('20130102'),\n",
    "                      'C' : pd.Series(1,index=list(range(4)),dtype='float32'),\n",
    "                      'D' : np.array([3] * 4,dtype='int32'),\n",
    "                      'E' : pd.Categorical([\"test\",\"train\",\"test\",\"train\"]),\n",
    "                      'F' : 'foo' })\n",
    "df2"
   ]
  },
  {
   "cell_type": "code",
   "execution_count": null,
   "metadata": {},
   "outputs": [],
   "source": [
    "#most columns need matching length!"
   ]
  },
  {
   "cell_type": "markdown",
   "metadata": {},
   "source": [
    "Categorical data type:\n",
    "https://pandas.pydata.org/pandas-docs/stable/user_guide/categorical.html\n",
    "    "
   ]
  },
  {
   "cell_type": "code",
   "execution_count": 68,
   "metadata": {},
   "outputs": [
    {
     "data": {
      "text/plain": [
       "0    1.0\n",
       "1    4.0\n",
       "2    3.5\n",
       "3    3.0\n",
       "4    NaN\n",
       "5    0.0\n",
       "6   -5.0\n",
       "dtype: float64"
      ]
     },
     "execution_count": 68,
     "metadata": {},
     "output_type": "execute_result"
    }
   ],
   "source": [
    "s = pd.Series([1,4,3.5,3,np.nan,0,-5])\n",
    "s"
   ]
  },
  {
   "cell_type": "code",
   "execution_count": 69,
   "metadata": {},
   "outputs": [
    {
     "data": {
      "text/html": [
       "<div>\n",
       "<style scoped>\n",
       "    .dataframe tbody tr th:only-of-type {\n",
       "        vertical-align: middle;\n",
       "    }\n",
       "\n",
       "    .dataframe tbody tr th {\n",
       "        vertical-align: top;\n",
       "    }\n",
       "\n",
       "    .dataframe thead th {\n",
       "        text-align: right;\n",
       "    }\n",
       "</style>\n",
       "<table border=\"1\" class=\"dataframe\">\n",
       "  <thead>\n",
       "    <tr style=\"text-align: right;\">\n",
       "      <th></th>\n",
       "      <th>A</th>\n",
       "      <th>B</th>\n",
       "      <th>C</th>\n",
       "      <th>D</th>\n",
       "      <th>E</th>\n",
       "      <th>F</th>\n",
       "    </tr>\n",
       "  </thead>\n",
       "  <tbody>\n",
       "    <tr>\n",
       "      <th>0</th>\n",
       "      <td>1.0</td>\n",
       "      <td>2018-05-23</td>\n",
       "      <td>1.0</td>\n",
       "      <td>0</td>\n",
       "      <td>test</td>\n",
       "      <td>aha</td>\n",
       "    </tr>\n",
       "    <tr>\n",
       "      <th>1</th>\n",
       "      <td>1.0</td>\n",
       "      <td>2018-05-23</td>\n",
       "      <td>4.0</td>\n",
       "      <td>1</td>\n",
       "      <td>train</td>\n",
       "      <td>aha</td>\n",
       "    </tr>\n",
       "    <tr>\n",
       "      <th>2</th>\n",
       "      <td>1.0</td>\n",
       "      <td>2018-05-23</td>\n",
       "      <td>3.5</td>\n",
       "      <td>4</td>\n",
       "      <td>test</td>\n",
       "      <td>aha</td>\n",
       "    </tr>\n",
       "    <tr>\n",
       "      <th>3</th>\n",
       "      <td>1.0</td>\n",
       "      <td>2018-05-23</td>\n",
       "      <td>3.0</td>\n",
       "      <td>9</td>\n",
       "      <td>train</td>\n",
       "      <td>aha</td>\n",
       "    </tr>\n",
       "    <tr>\n",
       "      <th>4</th>\n",
       "      <td>1.0</td>\n",
       "      <td>2018-05-23</td>\n",
       "      <td>NaN</td>\n",
       "      <td>16</td>\n",
       "      <td>test</td>\n",
       "      <td>aha</td>\n",
       "    </tr>\n",
       "    <tr>\n",
       "      <th>5</th>\n",
       "      <td>1.0</td>\n",
       "      <td>2018-05-23</td>\n",
       "      <td>0.0</td>\n",
       "      <td>25</td>\n",
       "      <td>train</td>\n",
       "      <td>aha</td>\n",
       "    </tr>\n",
       "    <tr>\n",
       "      <th>6</th>\n",
       "      <td>1.0</td>\n",
       "      <td>2018-05-23</td>\n",
       "      <td>-5.0</td>\n",
       "      <td>36</td>\n",
       "      <td>train</td>\n",
       "      <td>aha</td>\n",
       "    </tr>\n",
       "  </tbody>\n",
       "</table>\n",
       "</div>"
      ],
      "text/plain": [
       "     A          B    C   D      E    F\n",
       "0  1.0 2018-05-23  1.0   0   test  aha\n",
       "1  1.0 2018-05-23  4.0   1  train  aha\n",
       "2  1.0 2018-05-23  3.5   4   test  aha\n",
       "3  1.0 2018-05-23  3.0   9  train  aha\n",
       "4  1.0 2018-05-23  NaN  16   test  aha\n",
       "5  1.0 2018-05-23  0.0  25  train  aha\n",
       "6  1.0 2018-05-23 -5.0  36  train  aha"
      ]
     },
     "execution_count": 69,
     "metadata": {},
     "output_type": "execute_result"
    }
   ],
   "source": [
    "df3 = pd.DataFrame({ 'A' : 1.,\n",
    "                   'B' : pd.Timestamp('20180523'),\n",
    "                   'C' : s,\n",
    "                   'D' : [x**2 for x in range(7)],\n",
    "                   'E' : pd.Categorical(['test','train']*3+[\"train\"]),\n",
    "                   'F' : 'aha'\n",
    "                   })\n",
    "df3"
   ]
  },
  {
   "cell_type": "code",
   "execution_count": null,
   "metadata": {},
   "outputs": [],
   "source": [
    "## different datatypes for columns! "
   ]
  },
  {
   "cell_type": "code",
   "execution_count": 70,
   "metadata": {},
   "outputs": [
    {
     "data": {
      "text/plain": [
       "A           float64\n",
       "B    datetime64[ns]\n",
       "C           float64\n",
       "D             int64\n",
       "E          category\n",
       "F            object\n",
       "dtype: object"
      ]
     },
     "execution_count": 70,
     "metadata": {},
     "output_type": "execute_result"
    }
   ],
   "source": [
    "df3.dtypes"
   ]
  },
  {
   "cell_type": "code",
   "execution_count": 71,
   "metadata": {},
   "outputs": [
    {
     "data": {
      "text/html": [
       "<div>\n",
       "<style scoped>\n",
       "    .dataframe tbody tr th:only-of-type {\n",
       "        vertical-align: middle;\n",
       "    }\n",
       "\n",
       "    .dataframe tbody tr th {\n",
       "        vertical-align: top;\n",
       "    }\n",
       "\n",
       "    .dataframe thead th {\n",
       "        text-align: right;\n",
       "    }\n",
       "</style>\n",
       "<table border=\"1\" class=\"dataframe\">\n",
       "  <thead>\n",
       "    <tr style=\"text-align: right;\">\n",
       "      <th></th>\n",
       "      <th>A</th>\n",
       "      <th>B</th>\n",
       "      <th>C</th>\n",
       "      <th>D</th>\n",
       "      <th>E</th>\n",
       "      <th>F</th>\n",
       "    </tr>\n",
       "  </thead>\n",
       "  <tbody>\n",
       "    <tr>\n",
       "      <th>0</th>\n",
       "      <td>1.0</td>\n",
       "      <td>2018-05-23</td>\n",
       "      <td>1.0</td>\n",
       "      <td>0</td>\n",
       "      <td>test</td>\n",
       "      <td>aha</td>\n",
       "    </tr>\n",
       "    <tr>\n",
       "      <th>1</th>\n",
       "      <td>1.0</td>\n",
       "      <td>2018-05-23</td>\n",
       "      <td>4.0</td>\n",
       "      <td>1</td>\n",
       "      <td>train</td>\n",
       "      <td>aha</td>\n",
       "    </tr>\n",
       "    <tr>\n",
       "      <th>2</th>\n",
       "      <td>1.0</td>\n",
       "      <td>2018-05-23</td>\n",
       "      <td>3.5</td>\n",
       "      <td>4</td>\n",
       "      <td>test</td>\n",
       "      <td>aha</td>\n",
       "    </tr>\n",
       "    <tr>\n",
       "      <th>3</th>\n",
       "      <td>1.0</td>\n",
       "      <td>2018-05-23</td>\n",
       "      <td>3.0</td>\n",
       "      <td>9</td>\n",
       "      <td>train</td>\n",
       "      <td>aha</td>\n",
       "    </tr>\n",
       "    <tr>\n",
       "      <th>4</th>\n",
       "      <td>1.0</td>\n",
       "      <td>2018-05-23</td>\n",
       "      <td>NaN</td>\n",
       "      <td>16</td>\n",
       "      <td>test</td>\n",
       "      <td>aha</td>\n",
       "    </tr>\n",
       "  </tbody>\n",
       "</table>\n",
       "</div>"
      ],
      "text/plain": [
       "     A          B    C   D      E    F\n",
       "0  1.0 2018-05-23  1.0   0   test  aha\n",
       "1  1.0 2018-05-23  4.0   1  train  aha\n",
       "2  1.0 2018-05-23  3.5   4   test  aha\n",
       "3  1.0 2018-05-23  3.0   9  train  aha\n",
       "4  1.0 2018-05-23  NaN  16   test  aha"
      ]
     },
     "execution_count": 71,
     "metadata": {},
     "output_type": "execute_result"
    }
   ],
   "source": [
    "df3.head()"
   ]
  },
  {
   "cell_type": "code",
   "execution_count": 72,
   "metadata": {},
   "outputs": [
    {
     "data": {
      "text/html": [
       "<div>\n",
       "<style scoped>\n",
       "    .dataframe tbody tr th:only-of-type {\n",
       "        vertical-align: middle;\n",
       "    }\n",
       "\n",
       "    .dataframe tbody tr th {\n",
       "        vertical-align: top;\n",
       "    }\n",
       "\n",
       "    .dataframe thead th {\n",
       "        text-align: right;\n",
       "    }\n",
       "</style>\n",
       "<table border=\"1\" class=\"dataframe\">\n",
       "  <thead>\n",
       "    <tr style=\"text-align: right;\">\n",
       "      <th></th>\n",
       "      <th>A</th>\n",
       "      <th>B</th>\n",
       "      <th>C</th>\n",
       "      <th>D</th>\n",
       "      <th>E</th>\n",
       "      <th>F</th>\n",
       "    </tr>\n",
       "  </thead>\n",
       "  <tbody>\n",
       "    <tr>\n",
       "      <th>4</th>\n",
       "      <td>1.0</td>\n",
       "      <td>2018-05-23</td>\n",
       "      <td>NaN</td>\n",
       "      <td>16</td>\n",
       "      <td>test</td>\n",
       "      <td>aha</td>\n",
       "    </tr>\n",
       "    <tr>\n",
       "      <th>5</th>\n",
       "      <td>1.0</td>\n",
       "      <td>2018-05-23</td>\n",
       "      <td>0.0</td>\n",
       "      <td>25</td>\n",
       "      <td>train</td>\n",
       "      <td>aha</td>\n",
       "    </tr>\n",
       "    <tr>\n",
       "      <th>6</th>\n",
       "      <td>1.0</td>\n",
       "      <td>2018-05-23</td>\n",
       "      <td>-5.0</td>\n",
       "      <td>36</td>\n",
       "      <td>train</td>\n",
       "      <td>aha</td>\n",
       "    </tr>\n",
       "  </tbody>\n",
       "</table>\n",
       "</div>"
      ],
      "text/plain": [
       "     A          B    C   D      E    F\n",
       "4  1.0 2018-05-23  NaN  16   test  aha\n",
       "5  1.0 2018-05-23  0.0  25  train  aha\n",
       "6  1.0 2018-05-23 -5.0  36  train  aha"
      ]
     },
     "execution_count": 72,
     "metadata": {},
     "output_type": "execute_result"
    }
   ],
   "source": [
    "df3.tail(3)"
   ]
  },
  {
   "cell_type": "code",
   "execution_count": 73,
   "metadata": {},
   "outputs": [
    {
     "data": {
      "text/plain": [
       "DatetimeIndex(['2018-05-21', '2018-05-22', '2018-05-23', '2018-05-24',\n",
       "               '2018-05-25', '2018-05-26', '2018-05-27', '2018-05-28',\n",
       "               '2018-05-29', '2018-05-30', '2018-05-31', '2018-06-01',\n",
       "               '2018-06-02', '2018-06-03', '2018-06-04'],\n",
       "              dtype='datetime64[ns]', freq='D')"
      ]
     },
     "execution_count": 73,
     "metadata": {},
     "output_type": "execute_result"
    }
   ],
   "source": [
    "df.index"
   ]
  },
  {
   "cell_type": "code",
   "execution_count": 74,
   "metadata": {},
   "outputs": [
    {
     "data": {
      "text/plain": [
       "RangeIndex(start=0, stop=7, step=1)"
      ]
     },
     "execution_count": 74,
     "metadata": {},
     "output_type": "execute_result"
    }
   ],
   "source": [
    "df3.index"
   ]
  },
  {
   "cell_type": "code",
   "execution_count": 75,
   "metadata": {},
   "outputs": [
    {
     "data": {
      "text/plain": [
       "array([[1.0, Timestamp('2018-05-23 00:00:00'), 1.0, 0, 'test', 'aha'],\n",
       "       [1.0, Timestamp('2018-05-23 00:00:00'), 4.0, 1, 'train', 'aha'],\n",
       "       [1.0, Timestamp('2018-05-23 00:00:00'), 3.5, 4, 'test', 'aha'],\n",
       "       [1.0, Timestamp('2018-05-23 00:00:00'), 3.0, 9, 'train', 'aha'],\n",
       "       [1.0, Timestamp('2018-05-23 00:00:00'), nan, 16, 'test', 'aha'],\n",
       "       [1.0, Timestamp('2018-05-23 00:00:00'), 0.0, 25, 'train', 'aha'],\n",
       "       [1.0, Timestamp('2018-05-23 00:00:00'), -5.0, 36, 'train', 'aha']],\n",
       "      dtype=object)"
      ]
     },
     "execution_count": 75,
     "metadata": {},
     "output_type": "execute_result"
    }
   ],
   "source": [
    "df3.values"
   ]
  },
  {
   "cell_type": "code",
   "execution_count": 76,
   "metadata": {},
   "outputs": [
    {
     "data": {
      "text/html": [
       "<div>\n",
       "<style scoped>\n",
       "    .dataframe tbody tr th:only-of-type {\n",
       "        vertical-align: middle;\n",
       "    }\n",
       "\n",
       "    .dataframe tbody tr th {\n",
       "        vertical-align: top;\n",
       "    }\n",
       "\n",
       "    .dataframe thead th {\n",
       "        text-align: right;\n",
       "    }\n",
       "</style>\n",
       "<table border=\"1\" class=\"dataframe\">\n",
       "  <thead>\n",
       "    <tr style=\"text-align: right;\">\n",
       "      <th></th>\n",
       "      <th>A</th>\n",
       "      <th>C</th>\n",
       "      <th>D</th>\n",
       "    </tr>\n",
       "  </thead>\n",
       "  <tbody>\n",
       "    <tr>\n",
       "      <th>count</th>\n",
       "      <td>7.0</td>\n",
       "      <td>6.000000</td>\n",
       "      <td>7.000000</td>\n",
       "    </tr>\n",
       "    <tr>\n",
       "      <th>mean</th>\n",
       "      <td>1.0</td>\n",
       "      <td>1.083333</td>\n",
       "      <td>13.000000</td>\n",
       "    </tr>\n",
       "    <tr>\n",
       "      <th>std</th>\n",
       "      <td>0.0</td>\n",
       "      <td>3.352859</td>\n",
       "      <td>13.490738</td>\n",
       "    </tr>\n",
       "    <tr>\n",
       "      <th>min</th>\n",
       "      <td>1.0</td>\n",
       "      <td>-5.000000</td>\n",
       "      <td>0.000000</td>\n",
       "    </tr>\n",
       "    <tr>\n",
       "      <th>25%</th>\n",
       "      <td>1.0</td>\n",
       "      <td>0.250000</td>\n",
       "      <td>2.500000</td>\n",
       "    </tr>\n",
       "    <tr>\n",
       "      <th>50%</th>\n",
       "      <td>1.0</td>\n",
       "      <td>2.000000</td>\n",
       "      <td>9.000000</td>\n",
       "    </tr>\n",
       "    <tr>\n",
       "      <th>75%</th>\n",
       "      <td>1.0</td>\n",
       "      <td>3.375000</td>\n",
       "      <td>20.500000</td>\n",
       "    </tr>\n",
       "    <tr>\n",
       "      <th>max</th>\n",
       "      <td>1.0</td>\n",
       "      <td>4.000000</td>\n",
       "      <td>36.000000</td>\n",
       "    </tr>\n",
       "  </tbody>\n",
       "</table>\n",
       "</div>"
      ],
      "text/plain": [
       "         A         C          D\n",
       "count  7.0  6.000000   7.000000\n",
       "mean   1.0  1.083333  13.000000\n",
       "std    0.0  3.352859  13.490738\n",
       "min    1.0 -5.000000   0.000000\n",
       "25%    1.0  0.250000   2.500000\n",
       "50%    1.0  2.000000   9.000000\n",
       "75%    1.0  3.375000  20.500000\n",
       "max    1.0  4.000000  36.000000"
      ]
     },
     "execution_count": 76,
     "metadata": {},
     "output_type": "execute_result"
    }
   ],
   "source": [
    "df3.describe()"
   ]
  },
  {
   "cell_type": "code",
   "execution_count": 77,
   "metadata": {},
   "outputs": [
    {
     "name": "stdout",
     "output_type": "stream",
     "text": [
      "<class 'pandas.core.frame.DataFrame'>\n",
      "DatetimeIndex: 15 entries, 2018-05-21 to 2018-06-04\n",
      "Freq: D\n",
      "Data columns (total 5 columns):\n",
      " #   Column  Non-Null Count  Dtype  \n",
      "---  ------  --------------  -----  \n",
      " 0   A       15 non-null     float64\n",
      " 1   B       15 non-null     float64\n",
      " 2   C       15 non-null     float64\n",
      " 3   D       15 non-null     float64\n",
      " 4   E       15 non-null     float64\n",
      "dtypes: float64(5)\n",
      "memory usage: 720.0 bytes\n"
     ]
    }
   ],
   "source": [
    "df.info()"
   ]
  },
  {
   "cell_type": "code",
   "execution_count": null,
   "metadata": {},
   "outputs": [],
   "source": []
  },
  {
   "cell_type": "code",
   "execution_count": null,
   "metadata": {},
   "outputs": [],
   "source": [
    "# Transpose"
   ]
  },
  {
   "cell_type": "code",
   "execution_count": 78,
   "metadata": {},
   "outputs": [
    {
     "data": {
      "text/html": [
       "<div>\n",
       "<style scoped>\n",
       "    .dataframe tbody tr th:only-of-type {\n",
       "        vertical-align: middle;\n",
       "    }\n",
       "\n",
       "    .dataframe tbody tr th {\n",
       "        vertical-align: top;\n",
       "    }\n",
       "\n",
       "    .dataframe thead th {\n",
       "        text-align: right;\n",
       "    }\n",
       "</style>\n",
       "<table border=\"1\" class=\"dataframe\">\n",
       "  <thead>\n",
       "    <tr style=\"text-align: right;\">\n",
       "      <th></th>\n",
       "      <th>0</th>\n",
       "      <th>1</th>\n",
       "      <th>2</th>\n",
       "      <th>3</th>\n",
       "      <th>4</th>\n",
       "      <th>5</th>\n",
       "      <th>6</th>\n",
       "    </tr>\n",
       "  </thead>\n",
       "  <tbody>\n",
       "    <tr>\n",
       "      <th>A</th>\n",
       "      <td>1.0</td>\n",
       "      <td>1.0</td>\n",
       "      <td>1.0</td>\n",
       "      <td>1.0</td>\n",
       "      <td>1.0</td>\n",
       "      <td>1.0</td>\n",
       "      <td>1.0</td>\n",
       "    </tr>\n",
       "    <tr>\n",
       "      <th>B</th>\n",
       "      <td>2018-05-23 00:00:00</td>\n",
       "      <td>2018-05-23 00:00:00</td>\n",
       "      <td>2018-05-23 00:00:00</td>\n",
       "      <td>2018-05-23 00:00:00</td>\n",
       "      <td>2018-05-23 00:00:00</td>\n",
       "      <td>2018-05-23 00:00:00</td>\n",
       "      <td>2018-05-23 00:00:00</td>\n",
       "    </tr>\n",
       "    <tr>\n",
       "      <th>C</th>\n",
       "      <td>1.0</td>\n",
       "      <td>4.0</td>\n",
       "      <td>3.5</td>\n",
       "      <td>3.0</td>\n",
       "      <td>NaN</td>\n",
       "      <td>0.0</td>\n",
       "      <td>-5.0</td>\n",
       "    </tr>\n",
       "    <tr>\n",
       "      <th>D</th>\n",
       "      <td>0</td>\n",
       "      <td>1</td>\n",
       "      <td>4</td>\n",
       "      <td>9</td>\n",
       "      <td>16</td>\n",
       "      <td>25</td>\n",
       "      <td>36</td>\n",
       "    </tr>\n",
       "    <tr>\n",
       "      <th>E</th>\n",
       "      <td>test</td>\n",
       "      <td>train</td>\n",
       "      <td>test</td>\n",
       "      <td>train</td>\n",
       "      <td>test</td>\n",
       "      <td>train</td>\n",
       "      <td>train</td>\n",
       "    </tr>\n",
       "    <tr>\n",
       "      <th>F</th>\n",
       "      <td>aha</td>\n",
       "      <td>aha</td>\n",
       "      <td>aha</td>\n",
       "      <td>aha</td>\n",
       "      <td>aha</td>\n",
       "      <td>aha</td>\n",
       "      <td>aha</td>\n",
       "    </tr>\n",
       "  </tbody>\n",
       "</table>\n",
       "</div>"
      ],
      "text/plain": [
       "                     0                    1                    2  \\\n",
       "A                  1.0                  1.0                  1.0   \n",
       "B  2018-05-23 00:00:00  2018-05-23 00:00:00  2018-05-23 00:00:00   \n",
       "C                  1.0                  4.0                  3.5   \n",
       "D                    0                    1                    4   \n",
       "E                 test                train                 test   \n",
       "F                  aha                  aha                  aha   \n",
       "\n",
       "                     3                    4                    5  \\\n",
       "A                  1.0                  1.0                  1.0   \n",
       "B  2018-05-23 00:00:00  2018-05-23 00:00:00  2018-05-23 00:00:00   \n",
       "C                  3.0                  NaN                  0.0   \n",
       "D                    9                   16                   25   \n",
       "E                train                 test                train   \n",
       "F                  aha                  aha                  aha   \n",
       "\n",
       "                     6  \n",
       "A                  1.0  \n",
       "B  2018-05-23 00:00:00  \n",
       "C                 -5.0  \n",
       "D                   36  \n",
       "E                train  \n",
       "F                  aha  "
      ]
     },
     "execution_count": 78,
     "metadata": {},
     "output_type": "execute_result"
    }
   ],
   "source": [
    "df3.T"
   ]
  },
  {
   "cell_type": "code",
   "execution_count": 79,
   "metadata": {
    "scrolled": true
   },
   "outputs": [
    {
     "data": {
      "text/html": [
       "<div>\n",
       "<style scoped>\n",
       "    .dataframe tbody tr th:only-of-type {\n",
       "        vertical-align: middle;\n",
       "    }\n",
       "\n",
       "    .dataframe tbody tr th {\n",
       "        vertical-align: top;\n",
       "    }\n",
       "\n",
       "    .dataframe thead th {\n",
       "        text-align: right;\n",
       "    }\n",
       "</style>\n",
       "<table border=\"1\" class=\"dataframe\">\n",
       "  <thead>\n",
       "    <tr style=\"text-align: right;\">\n",
       "      <th></th>\n",
       "      <th>A</th>\n",
       "      <th>B</th>\n",
       "      <th>C</th>\n",
       "      <th>D</th>\n",
       "      <th>E</th>\n",
       "    </tr>\n",
       "  </thead>\n",
       "  <tbody>\n",
       "    <tr>\n",
       "      <th>2018-05-21</th>\n",
       "      <td>0.721049</td>\n",
       "      <td>0.019420</td>\n",
       "      <td>0.532527</td>\n",
       "      <td>-0.858175</td>\n",
       "      <td>1.739109</td>\n",
       "    </tr>\n",
       "    <tr>\n",
       "      <th>2018-05-22</th>\n",
       "      <td>-0.751767</td>\n",
       "      <td>-0.557334</td>\n",
       "      <td>0.442134</td>\n",
       "      <td>1.336626</td>\n",
       "      <td>0.370737</td>\n",
       "    </tr>\n",
       "    <tr>\n",
       "      <th>2018-05-23</th>\n",
       "      <td>0.631718</td>\n",
       "      <td>0.391248</td>\n",
       "      <td>-0.016768</td>\n",
       "      <td>1.385145</td>\n",
       "      <td>-0.930659</td>\n",
       "    </tr>\n",
       "    <tr>\n",
       "      <th>2018-05-24</th>\n",
       "      <td>0.867740</td>\n",
       "      <td>0.553484</td>\n",
       "      <td>-0.921000</td>\n",
       "      <td>0.483510</td>\n",
       "      <td>0.525265</td>\n",
       "    </tr>\n",
       "    <tr>\n",
       "      <th>2018-05-25</th>\n",
       "      <td>1.648864</td>\n",
       "      <td>1.821448</td>\n",
       "      <td>-2.168256</td>\n",
       "      <td>1.873933</td>\n",
       "      <td>-1.621497</td>\n",
       "    </tr>\n",
       "    <tr>\n",
       "      <th>2018-05-26</th>\n",
       "      <td>-0.138812</td>\n",
       "      <td>2.426672</td>\n",
       "      <td>-0.713728</td>\n",
       "      <td>0.858514</td>\n",
       "      <td>-0.311827</td>\n",
       "    </tr>\n",
       "    <tr>\n",
       "      <th>2018-05-27</th>\n",
       "      <td>-0.578854</td>\n",
       "      <td>-1.799046</td>\n",
       "      <td>-0.013709</td>\n",
       "      <td>0.491469</td>\n",
       "      <td>-0.169685</td>\n",
       "    </tr>\n",
       "    <tr>\n",
       "      <th>2018-05-28</th>\n",
       "      <td>0.328426</td>\n",
       "      <td>-0.057727</td>\n",
       "      <td>1.072547</td>\n",
       "      <td>0.177570</td>\n",
       "      <td>0.642694</td>\n",
       "    </tr>\n",
       "    <tr>\n",
       "      <th>2018-05-29</th>\n",
       "      <td>-0.233350</td>\n",
       "      <td>-0.494728</td>\n",
       "      <td>-0.145300</td>\n",
       "      <td>2.131749</td>\n",
       "      <td>-0.950209</td>\n",
       "    </tr>\n",
       "    <tr>\n",
       "      <th>2018-05-30</th>\n",
       "      <td>1.018628</td>\n",
       "      <td>-0.441224</td>\n",
       "      <td>-0.810934</td>\n",
       "      <td>-3.808978</td>\n",
       "      <td>0.714674</td>\n",
       "    </tr>\n",
       "    <tr>\n",
       "      <th>2018-05-31</th>\n",
       "      <td>1.126841</td>\n",
       "      <td>-1.340706</td>\n",
       "      <td>0.241627</td>\n",
       "      <td>-1.034646</td>\n",
       "      <td>-0.836399</td>\n",
       "    </tr>\n",
       "    <tr>\n",
       "      <th>2018-06-01</th>\n",
       "      <td>0.266433</td>\n",
       "      <td>0.497163</td>\n",
       "      <td>0.169295</td>\n",
       "      <td>-1.463903</td>\n",
       "      <td>0.920211</td>\n",
       "    </tr>\n",
       "    <tr>\n",
       "      <th>2018-06-02</th>\n",
       "      <td>-0.399290</td>\n",
       "      <td>-0.513238</td>\n",
       "      <td>-1.466636</td>\n",
       "      <td>-0.517236</td>\n",
       "      <td>0.396924</td>\n",
       "    </tr>\n",
       "    <tr>\n",
       "      <th>2018-06-03</th>\n",
       "      <td>0.651787</td>\n",
       "      <td>-0.265913</td>\n",
       "      <td>0.271687</td>\n",
       "      <td>0.711061</td>\n",
       "      <td>1.030110</td>\n",
       "    </tr>\n",
       "    <tr>\n",
       "      <th>2018-06-04</th>\n",
       "      <td>-1.147195</td>\n",
       "      <td>0.217811</td>\n",
       "      <td>1.386582</td>\n",
       "      <td>0.214082</td>\n",
       "      <td>-1.731895</td>\n",
       "    </tr>\n",
       "  </tbody>\n",
       "</table>\n",
       "</div>"
      ],
      "text/plain": [
       "                   A         B         C         D         E\n",
       "2018-05-21  0.721049  0.019420  0.532527 -0.858175  1.739109\n",
       "2018-05-22 -0.751767 -0.557334  0.442134  1.336626  0.370737\n",
       "2018-05-23  0.631718  0.391248 -0.016768  1.385145 -0.930659\n",
       "2018-05-24  0.867740  0.553484 -0.921000  0.483510  0.525265\n",
       "2018-05-25  1.648864  1.821448 -2.168256  1.873933 -1.621497\n",
       "2018-05-26 -0.138812  2.426672 -0.713728  0.858514 -0.311827\n",
       "2018-05-27 -0.578854 -1.799046 -0.013709  0.491469 -0.169685\n",
       "2018-05-28  0.328426 -0.057727  1.072547  0.177570  0.642694\n",
       "2018-05-29 -0.233350 -0.494728 -0.145300  2.131749 -0.950209\n",
       "2018-05-30  1.018628 -0.441224 -0.810934 -3.808978  0.714674\n",
       "2018-05-31  1.126841 -1.340706  0.241627 -1.034646 -0.836399\n",
       "2018-06-01  0.266433  0.497163  0.169295 -1.463903  0.920211\n",
       "2018-06-02 -0.399290 -0.513238 -1.466636 -0.517236  0.396924\n",
       "2018-06-03  0.651787 -0.265913  0.271687  0.711061  1.030110\n",
       "2018-06-04 -1.147195  0.217811  1.386582  0.214082 -1.731895"
      ]
     },
     "execution_count": 79,
     "metadata": {},
     "output_type": "execute_result"
    }
   ],
   "source": [
    "df.sort_index(axis=1,ascending=True)"
   ]
  },
  {
   "cell_type": "code",
   "execution_count": null,
   "metadata": {},
   "outputs": [],
   "source": [
    "## Sort by Axis in reverse"
   ]
  },
  {
   "cell_type": "code",
   "execution_count": 80,
   "metadata": {},
   "outputs": [
    {
     "data": {
      "text/html": [
       "<div>\n",
       "<style scoped>\n",
       "    .dataframe tbody tr th:only-of-type {\n",
       "        vertical-align: middle;\n",
       "    }\n",
       "\n",
       "    .dataframe tbody tr th {\n",
       "        vertical-align: top;\n",
       "    }\n",
       "\n",
       "    .dataframe thead th {\n",
       "        text-align: right;\n",
       "    }\n",
       "</style>\n",
       "<table border=\"1\" class=\"dataframe\">\n",
       "  <thead>\n",
       "    <tr style=\"text-align: right;\">\n",
       "      <th></th>\n",
       "      <th>E</th>\n",
       "      <th>D</th>\n",
       "      <th>C</th>\n",
       "      <th>B</th>\n",
       "      <th>A</th>\n",
       "    </tr>\n",
       "  </thead>\n",
       "  <tbody>\n",
       "    <tr>\n",
       "      <th>2018-05-21</th>\n",
       "      <td>1.739109</td>\n",
       "      <td>-0.858175</td>\n",
       "      <td>0.532527</td>\n",
       "      <td>0.019420</td>\n",
       "      <td>0.721049</td>\n",
       "    </tr>\n",
       "    <tr>\n",
       "      <th>2018-05-22</th>\n",
       "      <td>0.370737</td>\n",
       "      <td>1.336626</td>\n",
       "      <td>0.442134</td>\n",
       "      <td>-0.557334</td>\n",
       "      <td>-0.751767</td>\n",
       "    </tr>\n",
       "    <tr>\n",
       "      <th>2018-05-23</th>\n",
       "      <td>-0.930659</td>\n",
       "      <td>1.385145</td>\n",
       "      <td>-0.016768</td>\n",
       "      <td>0.391248</td>\n",
       "      <td>0.631718</td>\n",
       "    </tr>\n",
       "    <tr>\n",
       "      <th>2018-05-24</th>\n",
       "      <td>0.525265</td>\n",
       "      <td>0.483510</td>\n",
       "      <td>-0.921000</td>\n",
       "      <td>0.553484</td>\n",
       "      <td>0.867740</td>\n",
       "    </tr>\n",
       "    <tr>\n",
       "      <th>2018-05-25</th>\n",
       "      <td>-1.621497</td>\n",
       "      <td>1.873933</td>\n",
       "      <td>-2.168256</td>\n",
       "      <td>1.821448</td>\n",
       "      <td>1.648864</td>\n",
       "    </tr>\n",
       "    <tr>\n",
       "      <th>2018-05-26</th>\n",
       "      <td>-0.311827</td>\n",
       "      <td>0.858514</td>\n",
       "      <td>-0.713728</td>\n",
       "      <td>2.426672</td>\n",
       "      <td>-0.138812</td>\n",
       "    </tr>\n",
       "    <tr>\n",
       "      <th>2018-05-27</th>\n",
       "      <td>-0.169685</td>\n",
       "      <td>0.491469</td>\n",
       "      <td>-0.013709</td>\n",
       "      <td>-1.799046</td>\n",
       "      <td>-0.578854</td>\n",
       "    </tr>\n",
       "    <tr>\n",
       "      <th>2018-05-28</th>\n",
       "      <td>0.642694</td>\n",
       "      <td>0.177570</td>\n",
       "      <td>1.072547</td>\n",
       "      <td>-0.057727</td>\n",
       "      <td>0.328426</td>\n",
       "    </tr>\n",
       "    <tr>\n",
       "      <th>2018-05-29</th>\n",
       "      <td>-0.950209</td>\n",
       "      <td>2.131749</td>\n",
       "      <td>-0.145300</td>\n",
       "      <td>-0.494728</td>\n",
       "      <td>-0.233350</td>\n",
       "    </tr>\n",
       "    <tr>\n",
       "      <th>2018-05-30</th>\n",
       "      <td>0.714674</td>\n",
       "      <td>-3.808978</td>\n",
       "      <td>-0.810934</td>\n",
       "      <td>-0.441224</td>\n",
       "      <td>1.018628</td>\n",
       "    </tr>\n",
       "    <tr>\n",
       "      <th>2018-05-31</th>\n",
       "      <td>-0.836399</td>\n",
       "      <td>-1.034646</td>\n",
       "      <td>0.241627</td>\n",
       "      <td>-1.340706</td>\n",
       "      <td>1.126841</td>\n",
       "    </tr>\n",
       "    <tr>\n",
       "      <th>2018-06-01</th>\n",
       "      <td>0.920211</td>\n",
       "      <td>-1.463903</td>\n",
       "      <td>0.169295</td>\n",
       "      <td>0.497163</td>\n",
       "      <td>0.266433</td>\n",
       "    </tr>\n",
       "    <tr>\n",
       "      <th>2018-06-02</th>\n",
       "      <td>0.396924</td>\n",
       "      <td>-0.517236</td>\n",
       "      <td>-1.466636</td>\n",
       "      <td>-0.513238</td>\n",
       "      <td>-0.399290</td>\n",
       "    </tr>\n",
       "    <tr>\n",
       "      <th>2018-06-03</th>\n",
       "      <td>1.030110</td>\n",
       "      <td>0.711061</td>\n",
       "      <td>0.271687</td>\n",
       "      <td>-0.265913</td>\n",
       "      <td>0.651787</td>\n",
       "    </tr>\n",
       "    <tr>\n",
       "      <th>2018-06-04</th>\n",
       "      <td>-1.731895</td>\n",
       "      <td>0.214082</td>\n",
       "      <td>1.386582</td>\n",
       "      <td>0.217811</td>\n",
       "      <td>-1.147195</td>\n",
       "    </tr>\n",
       "  </tbody>\n",
       "</table>\n",
       "</div>"
      ],
      "text/plain": [
       "                   E         D         C         B         A\n",
       "2018-05-21  1.739109 -0.858175  0.532527  0.019420  0.721049\n",
       "2018-05-22  0.370737  1.336626  0.442134 -0.557334 -0.751767\n",
       "2018-05-23 -0.930659  1.385145 -0.016768  0.391248  0.631718\n",
       "2018-05-24  0.525265  0.483510 -0.921000  0.553484  0.867740\n",
       "2018-05-25 -1.621497  1.873933 -2.168256  1.821448  1.648864\n",
       "2018-05-26 -0.311827  0.858514 -0.713728  2.426672 -0.138812\n",
       "2018-05-27 -0.169685  0.491469 -0.013709 -1.799046 -0.578854\n",
       "2018-05-28  0.642694  0.177570  1.072547 -0.057727  0.328426\n",
       "2018-05-29 -0.950209  2.131749 -0.145300 -0.494728 -0.233350\n",
       "2018-05-30  0.714674 -3.808978 -0.810934 -0.441224  1.018628\n",
       "2018-05-31 -0.836399 -1.034646  0.241627 -1.340706  1.126841\n",
       "2018-06-01  0.920211 -1.463903  0.169295  0.497163  0.266433\n",
       "2018-06-02  0.396924 -0.517236 -1.466636 -0.513238 -0.399290\n",
       "2018-06-03  1.030110  0.711061  0.271687 -0.265913  0.651787\n",
       "2018-06-04 -1.731895  0.214082  1.386582  0.217811 -1.147195"
      ]
     },
     "execution_count": 80,
     "metadata": {},
     "output_type": "execute_result"
    }
   ],
   "source": [
    "df.sort_index(axis=1,ascending=False)"
   ]
  },
  {
   "cell_type": "code",
   "execution_count": 81,
   "metadata": {},
   "outputs": [
    {
     "data": {
      "text/html": [
       "<div>\n",
       "<style scoped>\n",
       "    .dataframe tbody tr th:only-of-type {\n",
       "        vertical-align: middle;\n",
       "    }\n",
       "\n",
       "    .dataframe tbody tr th {\n",
       "        vertical-align: top;\n",
       "    }\n",
       "\n",
       "    .dataframe thead th {\n",
       "        text-align: right;\n",
       "    }\n",
       "</style>\n",
       "<table border=\"1\" class=\"dataframe\">\n",
       "  <thead>\n",
       "    <tr style=\"text-align: right;\">\n",
       "      <th></th>\n",
       "      <th>A</th>\n",
       "      <th>B</th>\n",
       "      <th>C</th>\n",
       "      <th>D</th>\n",
       "      <th>E</th>\n",
       "      <th>F</th>\n",
       "    </tr>\n",
       "  </thead>\n",
       "  <tbody>\n",
       "    <tr>\n",
       "      <th>1</th>\n",
       "      <td>1.0</td>\n",
       "      <td>2018-05-23</td>\n",
       "      <td>4.0</td>\n",
       "      <td>1</td>\n",
       "      <td>train</td>\n",
       "      <td>aha</td>\n",
       "    </tr>\n",
       "    <tr>\n",
       "      <th>2</th>\n",
       "      <td>1.0</td>\n",
       "      <td>2018-05-23</td>\n",
       "      <td>3.5</td>\n",
       "      <td>4</td>\n",
       "      <td>test</td>\n",
       "      <td>aha</td>\n",
       "    </tr>\n",
       "    <tr>\n",
       "      <th>3</th>\n",
       "      <td>1.0</td>\n",
       "      <td>2018-05-23</td>\n",
       "      <td>3.0</td>\n",
       "      <td>9</td>\n",
       "      <td>train</td>\n",
       "      <td>aha</td>\n",
       "    </tr>\n",
       "    <tr>\n",
       "      <th>0</th>\n",
       "      <td>1.0</td>\n",
       "      <td>2018-05-23</td>\n",
       "      <td>1.0</td>\n",
       "      <td>0</td>\n",
       "      <td>test</td>\n",
       "      <td>aha</td>\n",
       "    </tr>\n",
       "    <tr>\n",
       "      <th>5</th>\n",
       "      <td>1.0</td>\n",
       "      <td>2018-05-23</td>\n",
       "      <td>0.0</td>\n",
       "      <td>25</td>\n",
       "      <td>train</td>\n",
       "      <td>aha</td>\n",
       "    </tr>\n",
       "    <tr>\n",
       "      <th>6</th>\n",
       "      <td>1.0</td>\n",
       "      <td>2018-05-23</td>\n",
       "      <td>-5.0</td>\n",
       "      <td>36</td>\n",
       "      <td>train</td>\n",
       "      <td>aha</td>\n",
       "    </tr>\n",
       "    <tr>\n",
       "      <th>4</th>\n",
       "      <td>1.0</td>\n",
       "      <td>2018-05-23</td>\n",
       "      <td>NaN</td>\n",
       "      <td>16</td>\n",
       "      <td>test</td>\n",
       "      <td>aha</td>\n",
       "    </tr>\n",
       "  </tbody>\n",
       "</table>\n",
       "</div>"
      ],
      "text/plain": [
       "     A          B    C   D      E    F\n",
       "1  1.0 2018-05-23  4.0   1  train  aha\n",
       "2  1.0 2018-05-23  3.5   4   test  aha\n",
       "3  1.0 2018-05-23  3.0   9  train  aha\n",
       "0  1.0 2018-05-23  1.0   0   test  aha\n",
       "5  1.0 2018-05-23  0.0  25  train  aha\n",
       "6  1.0 2018-05-23 -5.0  36  train  aha\n",
       "4  1.0 2018-05-23  NaN  16   test  aha"
      ]
     },
     "execution_count": 81,
     "metadata": {},
     "output_type": "execute_result"
    }
   ],
   "source": [
    "df3.sort_values(by='C', ascending=False)"
   ]
  },
  {
   "cell_type": "code",
   "execution_count": null,
   "metadata": {},
   "outputs": [],
   "source": [
    "# Notice NaN gets last"
   ]
  },
  {
   "cell_type": "markdown",
   "metadata": {},
   "source": [
    "### Selection \n",
    "\n",
    "Note: while standard Python / Numpy expressions for selecting and setting are intuitive and come in handy for interactive work, for production code, we recommend the optimized pandas data access methods, .at, .iat, .loc and .iloc."
   ]
  },
  {
   "cell_type": "code",
   "execution_count": 82,
   "metadata": {},
   "outputs": [
    {
     "data": {
      "text/plain": [
       "0     0\n",
       "1     1\n",
       "2     4\n",
       "3     9\n",
       "4    16\n",
       "5    25\n",
       "6    36\n",
       "Name: D, dtype: int64"
      ]
     },
     "execution_count": 82,
     "metadata": {},
     "output_type": "execute_result"
    }
   ],
   "source": [
    "df3['D']"
   ]
  },
  {
   "cell_type": "code",
   "execution_count": 83,
   "metadata": {},
   "outputs": [
    {
     "data": {
      "text/html": [
       "<div>\n",
       "<style scoped>\n",
       "    .dataframe tbody tr th:only-of-type {\n",
       "        vertical-align: middle;\n",
       "    }\n",
       "\n",
       "    .dataframe tbody tr th {\n",
       "        vertical-align: top;\n",
       "    }\n",
       "\n",
       "    .dataframe thead th {\n",
       "        text-align: right;\n",
       "    }\n",
       "</style>\n",
       "<table border=\"1\" class=\"dataframe\">\n",
       "  <thead>\n",
       "    <tr style=\"text-align: right;\">\n",
       "      <th></th>\n",
       "      <th>A</th>\n",
       "      <th>B</th>\n",
       "      <th>C</th>\n",
       "      <th>D</th>\n",
       "      <th>E</th>\n",
       "      <th>F</th>\n",
       "    </tr>\n",
       "  </thead>\n",
       "  <tbody>\n",
       "    <tr>\n",
       "      <th>0</th>\n",
       "      <td>1.0</td>\n",
       "      <td>2018-05-23</td>\n",
       "      <td>1.0</td>\n",
       "      <td>0</td>\n",
       "      <td>test</td>\n",
       "      <td>aha</td>\n",
       "    </tr>\n",
       "    <tr>\n",
       "      <th>1</th>\n",
       "      <td>1.0</td>\n",
       "      <td>2018-05-23</td>\n",
       "      <td>4.0</td>\n",
       "      <td>1</td>\n",
       "      <td>train</td>\n",
       "      <td>aha</td>\n",
       "    </tr>\n",
       "    <tr>\n",
       "      <th>2</th>\n",
       "      <td>1.0</td>\n",
       "      <td>2018-05-23</td>\n",
       "      <td>3.5</td>\n",
       "      <td>4</td>\n",
       "      <td>test</td>\n",
       "      <td>aha</td>\n",
       "    </tr>\n",
       "    <tr>\n",
       "      <th>3</th>\n",
       "      <td>1.0</td>\n",
       "      <td>2018-05-23</td>\n",
       "      <td>3.0</td>\n",
       "      <td>9</td>\n",
       "      <td>train</td>\n",
       "      <td>aha</td>\n",
       "    </tr>\n",
       "    <tr>\n",
       "      <th>4</th>\n",
       "      <td>1.0</td>\n",
       "      <td>2018-05-23</td>\n",
       "      <td>NaN</td>\n",
       "      <td>16</td>\n",
       "      <td>test</td>\n",
       "      <td>aha</td>\n",
       "    </tr>\n",
       "  </tbody>\n",
       "</table>\n",
       "</div>"
      ],
      "text/plain": [
       "     A          B    C   D      E    F\n",
       "0  1.0 2018-05-23  1.0   0   test  aha\n",
       "1  1.0 2018-05-23  4.0   1  train  aha\n",
       "2  1.0 2018-05-23  3.5   4   test  aha\n",
       "3  1.0 2018-05-23  3.0   9  train  aha\n",
       "4  1.0 2018-05-23  NaN  16   test  aha"
      ]
     },
     "execution_count": 83,
     "metadata": {},
     "output_type": "execute_result"
    }
   ],
   "source": [
    "df3[:5]"
   ]
  },
  {
   "cell_type": "code",
   "execution_count": 84,
   "metadata": {},
   "outputs": [
    {
     "data": {
      "text/html": [
       "<div>\n",
       "<style scoped>\n",
       "    .dataframe tbody tr th:only-of-type {\n",
       "        vertical-align: middle;\n",
       "    }\n",
       "\n",
       "    .dataframe tbody tr th {\n",
       "        vertical-align: top;\n",
       "    }\n",
       "\n",
       "    .dataframe thead th {\n",
       "        text-align: right;\n",
       "    }\n",
       "</style>\n",
       "<table border=\"1\" class=\"dataframe\">\n",
       "  <thead>\n",
       "    <tr style=\"text-align: right;\">\n",
       "      <th></th>\n",
       "      <th>A</th>\n",
       "      <th>B</th>\n",
       "      <th>C</th>\n",
       "      <th>D</th>\n",
       "      <th>E</th>\n",
       "      <th>F</th>\n",
       "    </tr>\n",
       "  </thead>\n",
       "  <tbody>\n",
       "    <tr>\n",
       "      <th>2</th>\n",
       "      <td>1.0</td>\n",
       "      <td>2018-05-23</td>\n",
       "      <td>3.5</td>\n",
       "      <td>4</td>\n",
       "      <td>test</td>\n",
       "      <td>aha</td>\n",
       "    </tr>\n",
       "    <tr>\n",
       "      <th>3</th>\n",
       "      <td>1.0</td>\n",
       "      <td>2018-05-23</td>\n",
       "      <td>3.0</td>\n",
       "      <td>9</td>\n",
       "      <td>train</td>\n",
       "      <td>aha</td>\n",
       "    </tr>\n",
       "    <tr>\n",
       "      <th>4</th>\n",
       "      <td>1.0</td>\n",
       "      <td>2018-05-23</td>\n",
       "      <td>NaN</td>\n",
       "      <td>16</td>\n",
       "      <td>test</td>\n",
       "      <td>aha</td>\n",
       "    </tr>\n",
       "  </tbody>\n",
       "</table>\n",
       "</div>"
      ],
      "text/plain": [
       "     A          B    C   D      E    F\n",
       "2  1.0 2018-05-23  3.5   4   test  aha\n",
       "3  1.0 2018-05-23  3.0   9  train  aha\n",
       "4  1.0 2018-05-23  NaN  16   test  aha"
      ]
     },
     "execution_count": 84,
     "metadata": {},
     "output_type": "execute_result"
    }
   ],
   "source": [
    "df3[2:5]"
   ]
  },
  {
   "cell_type": "code",
   "execution_count": 85,
   "metadata": {},
   "outputs": [
    {
     "data": {
      "text/html": [
       "<div>\n",
       "<style scoped>\n",
       "    .dataframe tbody tr th:only-of-type {\n",
       "        vertical-align: middle;\n",
       "    }\n",
       "\n",
       "    .dataframe tbody tr th {\n",
       "        vertical-align: top;\n",
       "    }\n",
       "\n",
       "    .dataframe thead th {\n",
       "        text-align: right;\n",
       "    }\n",
       "</style>\n",
       "<table border=\"1\" class=\"dataframe\">\n",
       "  <thead>\n",
       "    <tr style=\"text-align: right;\">\n",
       "      <th></th>\n",
       "      <th>A</th>\n",
       "      <th>B</th>\n",
       "      <th>C</th>\n",
       "      <th>D</th>\n",
       "      <th>E</th>\n",
       "      <th>F</th>\n",
       "    </tr>\n",
       "  </thead>\n",
       "  <tbody>\n",
       "    <tr>\n",
       "      <th>2</th>\n",
       "      <td>1.0</td>\n",
       "      <td>2018-05-23</td>\n",
       "      <td>3.5</td>\n",
       "      <td>4</td>\n",
       "      <td>test</td>\n",
       "      <td>aha</td>\n",
       "    </tr>\n",
       "    <tr>\n",
       "      <th>4</th>\n",
       "      <td>1.0</td>\n",
       "      <td>2018-05-23</td>\n",
       "      <td>NaN</td>\n",
       "      <td>16</td>\n",
       "      <td>test</td>\n",
       "      <td>aha</td>\n",
       "    </tr>\n",
       "  </tbody>\n",
       "</table>\n",
       "</div>"
      ],
      "text/plain": [
       "     A          B    C   D     E    F\n",
       "2  1.0 2018-05-23  3.5   4  test  aha\n",
       "4  1.0 2018-05-23  NaN  16  test  aha"
      ]
     },
     "execution_count": 85,
     "metadata": {},
     "output_type": "execute_result"
    }
   ],
   "source": [
    "df3[2:5:2]"
   ]
  },
  {
   "cell_type": "code",
   "execution_count": 86,
   "metadata": {},
   "outputs": [
    {
     "data": {
      "text/html": [
       "<div>\n",
       "<style scoped>\n",
       "    .dataframe tbody tr th:only-of-type {\n",
       "        vertical-align: middle;\n",
       "    }\n",
       "\n",
       "    .dataframe tbody tr th {\n",
       "        vertical-align: top;\n",
       "    }\n",
       "\n",
       "    .dataframe thead th {\n",
       "        text-align: right;\n",
       "    }\n",
       "</style>\n",
       "<table border=\"1\" class=\"dataframe\">\n",
       "  <thead>\n",
       "    <tr style=\"text-align: right;\">\n",
       "      <th></th>\n",
       "      <th>A</th>\n",
       "      <th>B</th>\n",
       "      <th>C</th>\n",
       "      <th>D</th>\n",
       "      <th>E</th>\n",
       "      <th>F</th>\n",
       "    </tr>\n",
       "  </thead>\n",
       "  <tbody>\n",
       "    <tr>\n",
       "      <th>6</th>\n",
       "      <td>1.0</td>\n",
       "      <td>2018-05-23</td>\n",
       "      <td>-5.0</td>\n",
       "      <td>36</td>\n",
       "      <td>train</td>\n",
       "      <td>aha</td>\n",
       "    </tr>\n",
       "    <tr>\n",
       "      <th>5</th>\n",
       "      <td>1.0</td>\n",
       "      <td>2018-05-23</td>\n",
       "      <td>0.0</td>\n",
       "      <td>25</td>\n",
       "      <td>train</td>\n",
       "      <td>aha</td>\n",
       "    </tr>\n",
       "    <tr>\n",
       "      <th>4</th>\n",
       "      <td>1.0</td>\n",
       "      <td>2018-05-23</td>\n",
       "      <td>NaN</td>\n",
       "      <td>16</td>\n",
       "      <td>test</td>\n",
       "      <td>aha</td>\n",
       "    </tr>\n",
       "    <tr>\n",
       "      <th>3</th>\n",
       "      <td>1.0</td>\n",
       "      <td>2018-05-23</td>\n",
       "      <td>3.0</td>\n",
       "      <td>9</td>\n",
       "      <td>train</td>\n",
       "      <td>aha</td>\n",
       "    </tr>\n",
       "    <tr>\n",
       "      <th>2</th>\n",
       "      <td>1.0</td>\n",
       "      <td>2018-05-23</td>\n",
       "      <td>3.5</td>\n",
       "      <td>4</td>\n",
       "      <td>test</td>\n",
       "      <td>aha</td>\n",
       "    </tr>\n",
       "    <tr>\n",
       "      <th>1</th>\n",
       "      <td>1.0</td>\n",
       "      <td>2018-05-23</td>\n",
       "      <td>4.0</td>\n",
       "      <td>1</td>\n",
       "      <td>train</td>\n",
       "      <td>aha</td>\n",
       "    </tr>\n",
       "    <tr>\n",
       "      <th>0</th>\n",
       "      <td>1.0</td>\n",
       "      <td>2018-05-23</td>\n",
       "      <td>1.0</td>\n",
       "      <td>0</td>\n",
       "      <td>test</td>\n",
       "      <td>aha</td>\n",
       "    </tr>\n",
       "  </tbody>\n",
       "</table>\n",
       "</div>"
      ],
      "text/plain": [
       "     A          B    C   D      E    F\n",
       "6  1.0 2018-05-23 -5.0  36  train  aha\n",
       "5  1.0 2018-05-23  0.0  25  train  aha\n",
       "4  1.0 2018-05-23  NaN  16   test  aha\n",
       "3  1.0 2018-05-23  3.0   9  train  aha\n",
       "2  1.0 2018-05-23  3.5   4   test  aha\n",
       "1  1.0 2018-05-23  4.0   1  train  aha\n",
       "0  1.0 2018-05-23  1.0   0   test  aha"
      ]
     },
     "execution_count": 86,
     "metadata": {},
     "output_type": "execute_result"
    }
   ],
   "source": [
    "df3[::-1]"
   ]
  },
  {
   "cell_type": "markdown",
   "metadata": {},
   "source": [
    "## Selection by Label\n",
    "\n",
    "For getting a cross section using a label:"
   ]
  },
  {
   "cell_type": "code",
   "execution_count": 87,
   "metadata": {
    "scrolled": false
   },
   "outputs": [
    {
     "data": {
      "text/html": [
       "<div>\n",
       "<style scoped>\n",
       "    .dataframe tbody tr th:only-of-type {\n",
       "        vertical-align: middle;\n",
       "    }\n",
       "\n",
       "    .dataframe tbody tr th {\n",
       "        vertical-align: top;\n",
       "    }\n",
       "\n",
       "    .dataframe thead th {\n",
       "        text-align: right;\n",
       "    }\n",
       "</style>\n",
       "<table border=\"1\" class=\"dataframe\">\n",
       "  <thead>\n",
       "    <tr style=\"text-align: right;\">\n",
       "      <th></th>\n",
       "      <th>A</th>\n",
       "      <th>B</th>\n",
       "      <th>C</th>\n",
       "      <th>D</th>\n",
       "      <th>E</th>\n",
       "    </tr>\n",
       "  </thead>\n",
       "  <tbody>\n",
       "    <tr>\n",
       "      <th>2018-05-21</th>\n",
       "      <td>0.721049</td>\n",
       "      <td>0.019420</td>\n",
       "      <td>0.532527</td>\n",
       "      <td>-0.858175</td>\n",
       "      <td>1.739109</td>\n",
       "    </tr>\n",
       "    <tr>\n",
       "      <th>2018-05-22</th>\n",
       "      <td>-0.751767</td>\n",
       "      <td>-0.557334</td>\n",
       "      <td>0.442134</td>\n",
       "      <td>1.336626</td>\n",
       "      <td>0.370737</td>\n",
       "    </tr>\n",
       "    <tr>\n",
       "      <th>2018-05-23</th>\n",
       "      <td>0.631718</td>\n",
       "      <td>0.391248</td>\n",
       "      <td>-0.016768</td>\n",
       "      <td>1.385145</td>\n",
       "      <td>-0.930659</td>\n",
       "    </tr>\n",
       "    <tr>\n",
       "      <th>2018-05-24</th>\n",
       "      <td>0.867740</td>\n",
       "      <td>0.553484</td>\n",
       "      <td>-0.921000</td>\n",
       "      <td>0.483510</td>\n",
       "      <td>0.525265</td>\n",
       "    </tr>\n",
       "    <tr>\n",
       "      <th>2018-05-25</th>\n",
       "      <td>1.648864</td>\n",
       "      <td>1.821448</td>\n",
       "      <td>-2.168256</td>\n",
       "      <td>1.873933</td>\n",
       "      <td>-1.621497</td>\n",
       "    </tr>\n",
       "    <tr>\n",
       "      <th>2018-05-26</th>\n",
       "      <td>-0.138812</td>\n",
       "      <td>2.426672</td>\n",
       "      <td>-0.713728</td>\n",
       "      <td>0.858514</td>\n",
       "      <td>-0.311827</td>\n",
       "    </tr>\n",
       "    <tr>\n",
       "      <th>2018-05-27</th>\n",
       "      <td>-0.578854</td>\n",
       "      <td>-1.799046</td>\n",
       "      <td>-0.013709</td>\n",
       "      <td>0.491469</td>\n",
       "      <td>-0.169685</td>\n",
       "    </tr>\n",
       "    <tr>\n",
       "      <th>2018-05-28</th>\n",
       "      <td>0.328426</td>\n",
       "      <td>-0.057727</td>\n",
       "      <td>1.072547</td>\n",
       "      <td>0.177570</td>\n",
       "      <td>0.642694</td>\n",
       "    </tr>\n",
       "    <tr>\n",
       "      <th>2018-05-29</th>\n",
       "      <td>-0.233350</td>\n",
       "      <td>-0.494728</td>\n",
       "      <td>-0.145300</td>\n",
       "      <td>2.131749</td>\n",
       "      <td>-0.950209</td>\n",
       "    </tr>\n",
       "    <tr>\n",
       "      <th>2018-05-30</th>\n",
       "      <td>1.018628</td>\n",
       "      <td>-0.441224</td>\n",
       "      <td>-0.810934</td>\n",
       "      <td>-3.808978</td>\n",
       "      <td>0.714674</td>\n",
       "    </tr>\n",
       "    <tr>\n",
       "      <th>2018-05-31</th>\n",
       "      <td>1.126841</td>\n",
       "      <td>-1.340706</td>\n",
       "      <td>0.241627</td>\n",
       "      <td>-1.034646</td>\n",
       "      <td>-0.836399</td>\n",
       "    </tr>\n",
       "    <tr>\n",
       "      <th>2018-06-01</th>\n",
       "      <td>0.266433</td>\n",
       "      <td>0.497163</td>\n",
       "      <td>0.169295</td>\n",
       "      <td>-1.463903</td>\n",
       "      <td>0.920211</td>\n",
       "    </tr>\n",
       "    <tr>\n",
       "      <th>2018-06-02</th>\n",
       "      <td>-0.399290</td>\n",
       "      <td>-0.513238</td>\n",
       "      <td>-1.466636</td>\n",
       "      <td>-0.517236</td>\n",
       "      <td>0.396924</td>\n",
       "    </tr>\n",
       "    <tr>\n",
       "      <th>2018-06-03</th>\n",
       "      <td>0.651787</td>\n",
       "      <td>-0.265913</td>\n",
       "      <td>0.271687</td>\n",
       "      <td>0.711061</td>\n",
       "      <td>1.030110</td>\n",
       "    </tr>\n",
       "    <tr>\n",
       "      <th>2018-06-04</th>\n",
       "      <td>-1.147195</td>\n",
       "      <td>0.217811</td>\n",
       "      <td>1.386582</td>\n",
       "      <td>0.214082</td>\n",
       "      <td>-1.731895</td>\n",
       "    </tr>\n",
       "  </tbody>\n",
       "</table>\n",
       "</div>"
      ],
      "text/plain": [
       "                   A         B         C         D         E\n",
       "2018-05-21  0.721049  0.019420  0.532527 -0.858175  1.739109\n",
       "2018-05-22 -0.751767 -0.557334  0.442134  1.336626  0.370737\n",
       "2018-05-23  0.631718  0.391248 -0.016768  1.385145 -0.930659\n",
       "2018-05-24  0.867740  0.553484 -0.921000  0.483510  0.525265\n",
       "2018-05-25  1.648864  1.821448 -2.168256  1.873933 -1.621497\n",
       "2018-05-26 -0.138812  2.426672 -0.713728  0.858514 -0.311827\n",
       "2018-05-27 -0.578854 -1.799046 -0.013709  0.491469 -0.169685\n",
       "2018-05-28  0.328426 -0.057727  1.072547  0.177570  0.642694\n",
       "2018-05-29 -0.233350 -0.494728 -0.145300  2.131749 -0.950209\n",
       "2018-05-30  1.018628 -0.441224 -0.810934 -3.808978  0.714674\n",
       "2018-05-31  1.126841 -1.340706  0.241627 -1.034646 -0.836399\n",
       "2018-06-01  0.266433  0.497163  0.169295 -1.463903  0.920211\n",
       "2018-06-02 -0.399290 -0.513238 -1.466636 -0.517236  0.396924\n",
       "2018-06-03  0.651787 -0.265913  0.271687  0.711061  1.030110\n",
       "2018-06-04 -1.147195  0.217811  1.386582  0.214082 -1.731895"
      ]
     },
     "execution_count": 87,
     "metadata": {},
     "output_type": "execute_result"
    }
   ],
   "source": [
    "df"
   ]
  },
  {
   "cell_type": "code",
   "execution_count": 88,
   "metadata": {},
   "outputs": [
    {
     "data": {
      "text/plain": [
       "A    0.721049\n",
       "B    0.019420\n",
       "C    0.532527\n",
       "D   -0.858175\n",
       "E    1.739109\n",
       "Name: 2018-05-21 00:00:00, dtype: float64"
      ]
     },
     "execution_count": 88,
     "metadata": {},
     "output_type": "execute_result"
    }
   ],
   "source": [
    "df.loc[dates[0]]"
   ]
  },
  {
   "cell_type": "code",
   "execution_count": 89,
   "metadata": {},
   "outputs": [
    {
     "data": {
      "text/html": [
       "<div>\n",
       "<style scoped>\n",
       "    .dataframe tbody tr th:only-of-type {\n",
       "        vertical-align: middle;\n",
       "    }\n",
       "\n",
       "    .dataframe tbody tr th {\n",
       "        vertical-align: top;\n",
       "    }\n",
       "\n",
       "    .dataframe thead th {\n",
       "        text-align: right;\n",
       "    }\n",
       "</style>\n",
       "<table border=\"1\" class=\"dataframe\">\n",
       "  <thead>\n",
       "    <tr style=\"text-align: right;\">\n",
       "      <th></th>\n",
       "      <th>A</th>\n",
       "      <th>B</th>\n",
       "      <th>C</th>\n",
       "      <th>D</th>\n",
       "      <th>E</th>\n",
       "    </tr>\n",
       "  </thead>\n",
       "  <tbody>\n",
       "    <tr>\n",
       "      <th>2018-05-23</th>\n",
       "      <td>0.631718</td>\n",
       "      <td>0.391248</td>\n",
       "      <td>-0.016768</td>\n",
       "      <td>1.385145</td>\n",
       "      <td>-0.930659</td>\n",
       "    </tr>\n",
       "    <tr>\n",
       "      <th>2018-05-24</th>\n",
       "      <td>0.867740</td>\n",
       "      <td>0.553484</td>\n",
       "      <td>-0.921000</td>\n",
       "      <td>0.483510</td>\n",
       "      <td>0.525265</td>\n",
       "    </tr>\n",
       "    <tr>\n",
       "      <th>2018-05-25</th>\n",
       "      <td>1.648864</td>\n",
       "      <td>1.821448</td>\n",
       "      <td>-2.168256</td>\n",
       "      <td>1.873933</td>\n",
       "      <td>-1.621497</td>\n",
       "    </tr>\n",
       "  </tbody>\n",
       "</table>\n",
       "</div>"
      ],
      "text/plain": [
       "                   A         B         C         D         E\n",
       "2018-05-23  0.631718  0.391248 -0.016768  1.385145 -0.930659\n",
       "2018-05-24  0.867740  0.553484 -0.921000  0.483510  0.525265\n",
       "2018-05-25  1.648864  1.821448 -2.168256  1.873933 -1.621497"
      ]
     },
     "execution_count": 89,
     "metadata": {},
     "output_type": "execute_result"
    }
   ],
   "source": [
    "df.loc[dates[2:5]]"
   ]
  },
  {
   "cell_type": "code",
   "execution_count": null,
   "metadata": {},
   "outputs": [],
   "source": [
    "## Selecting on a multi-axis by label:"
   ]
  },
  {
   "cell_type": "code",
   "execution_count": 90,
   "metadata": {},
   "outputs": [
    {
     "data": {
      "text/html": [
       "<div>\n",
       "<style scoped>\n",
       "    .dataframe tbody tr th:only-of-type {\n",
       "        vertical-align: middle;\n",
       "    }\n",
       "\n",
       "    .dataframe tbody tr th {\n",
       "        vertical-align: top;\n",
       "    }\n",
       "\n",
       "    .dataframe thead th {\n",
       "        text-align: right;\n",
       "    }\n",
       "</style>\n",
       "<table border=\"1\" class=\"dataframe\">\n",
       "  <thead>\n",
       "    <tr style=\"text-align: right;\">\n",
       "      <th></th>\n",
       "      <th>A</th>\n",
       "      <th>B</th>\n",
       "      <th>C</th>\n",
       "    </tr>\n",
       "  </thead>\n",
       "  <tbody>\n",
       "    <tr>\n",
       "      <th>2018-05-21</th>\n",
       "      <td>0.721049</td>\n",
       "      <td>0.019420</td>\n",
       "      <td>0.532527</td>\n",
       "    </tr>\n",
       "    <tr>\n",
       "      <th>2018-05-22</th>\n",
       "      <td>-0.751767</td>\n",
       "      <td>-0.557334</td>\n",
       "      <td>0.442134</td>\n",
       "    </tr>\n",
       "    <tr>\n",
       "      <th>2018-05-23</th>\n",
       "      <td>0.631718</td>\n",
       "      <td>0.391248</td>\n",
       "      <td>-0.016768</td>\n",
       "    </tr>\n",
       "    <tr>\n",
       "      <th>2018-05-24</th>\n",
       "      <td>0.867740</td>\n",
       "      <td>0.553484</td>\n",
       "      <td>-0.921000</td>\n",
       "    </tr>\n",
       "    <tr>\n",
       "      <th>2018-05-25</th>\n",
       "      <td>1.648864</td>\n",
       "      <td>1.821448</td>\n",
       "      <td>-2.168256</td>\n",
       "    </tr>\n",
       "    <tr>\n",
       "      <th>2018-05-26</th>\n",
       "      <td>-0.138812</td>\n",
       "      <td>2.426672</td>\n",
       "      <td>-0.713728</td>\n",
       "    </tr>\n",
       "    <tr>\n",
       "      <th>2018-05-27</th>\n",
       "      <td>-0.578854</td>\n",
       "      <td>-1.799046</td>\n",
       "      <td>-0.013709</td>\n",
       "    </tr>\n",
       "    <tr>\n",
       "      <th>2018-05-28</th>\n",
       "      <td>0.328426</td>\n",
       "      <td>-0.057727</td>\n",
       "      <td>1.072547</td>\n",
       "    </tr>\n",
       "    <tr>\n",
       "      <th>2018-05-29</th>\n",
       "      <td>-0.233350</td>\n",
       "      <td>-0.494728</td>\n",
       "      <td>-0.145300</td>\n",
       "    </tr>\n",
       "    <tr>\n",
       "      <th>2018-05-30</th>\n",
       "      <td>1.018628</td>\n",
       "      <td>-0.441224</td>\n",
       "      <td>-0.810934</td>\n",
       "    </tr>\n",
       "    <tr>\n",
       "      <th>2018-05-31</th>\n",
       "      <td>1.126841</td>\n",
       "      <td>-1.340706</td>\n",
       "      <td>0.241627</td>\n",
       "    </tr>\n",
       "    <tr>\n",
       "      <th>2018-06-01</th>\n",
       "      <td>0.266433</td>\n",
       "      <td>0.497163</td>\n",
       "      <td>0.169295</td>\n",
       "    </tr>\n",
       "    <tr>\n",
       "      <th>2018-06-02</th>\n",
       "      <td>-0.399290</td>\n",
       "      <td>-0.513238</td>\n",
       "      <td>-1.466636</td>\n",
       "    </tr>\n",
       "    <tr>\n",
       "      <th>2018-06-03</th>\n",
       "      <td>0.651787</td>\n",
       "      <td>-0.265913</td>\n",
       "      <td>0.271687</td>\n",
       "    </tr>\n",
       "    <tr>\n",
       "      <th>2018-06-04</th>\n",
       "      <td>-1.147195</td>\n",
       "      <td>0.217811</td>\n",
       "      <td>1.386582</td>\n",
       "    </tr>\n",
       "  </tbody>\n",
       "</table>\n",
       "</div>"
      ],
      "text/plain": [
       "                   A         B         C\n",
       "2018-05-21  0.721049  0.019420  0.532527\n",
       "2018-05-22 -0.751767 -0.557334  0.442134\n",
       "2018-05-23  0.631718  0.391248 -0.016768\n",
       "2018-05-24  0.867740  0.553484 -0.921000\n",
       "2018-05-25  1.648864  1.821448 -2.168256\n",
       "2018-05-26 -0.138812  2.426672 -0.713728\n",
       "2018-05-27 -0.578854 -1.799046 -0.013709\n",
       "2018-05-28  0.328426 -0.057727  1.072547\n",
       "2018-05-29 -0.233350 -0.494728 -0.145300\n",
       "2018-05-30  1.018628 -0.441224 -0.810934\n",
       "2018-05-31  1.126841 -1.340706  0.241627\n",
       "2018-06-01  0.266433  0.497163  0.169295\n",
       "2018-06-02 -0.399290 -0.513238 -1.466636\n",
       "2018-06-03  0.651787 -0.265913  0.271687\n",
       "2018-06-04 -1.147195  0.217811  1.386582"
      ]
     },
     "execution_count": 90,
     "metadata": {},
     "output_type": "execute_result"
    }
   ],
   "source": [
    "df.loc[:, ['A','B','C']]"
   ]
  },
  {
   "cell_type": "code",
   "execution_count": 91,
   "metadata": {},
   "outputs": [
    {
     "data": {
      "text/html": [
       "<div>\n",
       "<style scoped>\n",
       "    .dataframe tbody tr th:only-of-type {\n",
       "        vertical-align: middle;\n",
       "    }\n",
       "\n",
       "    .dataframe tbody tr th {\n",
       "        vertical-align: top;\n",
       "    }\n",
       "\n",
       "    .dataframe thead th {\n",
       "        text-align: right;\n",
       "    }\n",
       "</style>\n",
       "<table border=\"1\" class=\"dataframe\">\n",
       "  <thead>\n",
       "    <tr style=\"text-align: right;\">\n",
       "      <th></th>\n",
       "      <th>A</th>\n",
       "      <th>B</th>\n",
       "      <th>C</th>\n",
       "    </tr>\n",
       "  </thead>\n",
       "  <tbody>\n",
       "    <tr>\n",
       "      <th>2018-05-23</th>\n",
       "      <td>0.631718</td>\n",
       "      <td>0.391248</td>\n",
       "      <td>-0.016768</td>\n",
       "    </tr>\n",
       "    <tr>\n",
       "      <th>2018-05-24</th>\n",
       "      <td>0.867740</td>\n",
       "      <td>0.553484</td>\n",
       "      <td>-0.921000</td>\n",
       "    </tr>\n",
       "    <tr>\n",
       "      <th>2018-05-25</th>\n",
       "      <td>1.648864</td>\n",
       "      <td>1.821448</td>\n",
       "      <td>-2.168256</td>\n",
       "    </tr>\n",
       "  </tbody>\n",
       "</table>\n",
       "</div>"
      ],
      "text/plain": [
       "                   A         B         C\n",
       "2018-05-23  0.631718  0.391248 -0.016768\n",
       "2018-05-24  0.867740  0.553484 -0.921000\n",
       "2018-05-25  1.648864  1.821448 -2.168256"
      ]
     },
     "execution_count": 91,
     "metadata": {},
     "output_type": "execute_result"
    }
   ],
   "source": [
    "df.loc[dates[2:5], ['A','B','C']]"
   ]
  },
  {
   "cell_type": "code",
   "execution_count": 92,
   "metadata": {},
   "outputs": [
    {
     "data": {
      "text/html": [
       "<div>\n",
       "<style scoped>\n",
       "    .dataframe tbody tr th:only-of-type {\n",
       "        vertical-align: middle;\n",
       "    }\n",
       "\n",
       "    .dataframe tbody tr th {\n",
       "        vertical-align: top;\n",
       "    }\n",
       "\n",
       "    .dataframe thead th {\n",
       "        text-align: right;\n",
       "    }\n",
       "</style>\n",
       "<table border=\"1\" class=\"dataframe\">\n",
       "  <thead>\n",
       "    <tr style=\"text-align: right;\">\n",
       "      <th></th>\n",
       "      <th>B</th>\n",
       "      <th>C</th>\n",
       "    </tr>\n",
       "  </thead>\n",
       "  <tbody>\n",
       "    <tr>\n",
       "      <th>2018-05-25</th>\n",
       "      <td>1.821448</td>\n",
       "      <td>-2.168256</td>\n",
       "    </tr>\n",
       "    <tr>\n",
       "      <th>2018-05-26</th>\n",
       "      <td>2.426672</td>\n",
       "      <td>-0.713728</td>\n",
       "    </tr>\n",
       "    <tr>\n",
       "      <th>2018-05-27</th>\n",
       "      <td>-1.799046</td>\n",
       "      <td>-0.013709</td>\n",
       "    </tr>\n",
       "    <tr>\n",
       "      <th>2018-05-28</th>\n",
       "      <td>-0.057727</td>\n",
       "      <td>1.072547</td>\n",
       "    </tr>\n",
       "    <tr>\n",
       "      <th>2018-05-29</th>\n",
       "      <td>-0.494728</td>\n",
       "      <td>-0.145300</td>\n",
       "    </tr>\n",
       "    <tr>\n",
       "      <th>2018-05-30</th>\n",
       "      <td>-0.441224</td>\n",
       "      <td>-0.810934</td>\n",
       "    </tr>\n",
       "    <tr>\n",
       "      <th>2018-05-31</th>\n",
       "      <td>-1.340706</td>\n",
       "      <td>0.241627</td>\n",
       "    </tr>\n",
       "    <tr>\n",
       "      <th>2018-06-01</th>\n",
       "      <td>0.497163</td>\n",
       "      <td>0.169295</td>\n",
       "    </tr>\n",
       "  </tbody>\n",
       "</table>\n",
       "</div>"
      ],
      "text/plain": [
       "                   B         C\n",
       "2018-05-25  1.821448 -2.168256\n",
       "2018-05-26  2.426672 -0.713728\n",
       "2018-05-27 -1.799046 -0.013709\n",
       "2018-05-28 -0.057727  1.072547\n",
       "2018-05-29 -0.494728 -0.145300\n",
       "2018-05-30 -0.441224 -0.810934\n",
       "2018-05-31 -1.340706  0.241627\n",
       "2018-06-01  0.497163  0.169295"
      ]
     },
     "execution_count": 92,
     "metadata": {},
     "output_type": "execute_result"
    }
   ],
   "source": [
    "df.loc['20180525':'20180601',['B','C']]"
   ]
  },
  {
   "cell_type": "code",
   "execution_count": null,
   "metadata": {},
   "outputs": [],
   "source": [
    "# Reduction in the dimensions of the returned object:"
   ]
  },
  {
   "cell_type": "code",
   "execution_count": 93,
   "metadata": {},
   "outputs": [
    {
     "data": {
      "text/plain": [
       "B    2.426672\n",
       "D    0.858514\n",
       "Name: 2018-05-26 00:00:00, dtype: float64"
      ]
     },
     "execution_count": 93,
     "metadata": {},
     "output_type": "execute_result"
    }
   ],
   "source": [
    "df.loc['20180526', [\"B\", \"D\"]]"
   ]
  },
  {
   "cell_type": "code",
   "execution_count": null,
   "metadata": {},
   "outputs": [],
   "source": [
    "## Getting scalars (single values)"
   ]
  },
  {
   "cell_type": "code",
   "execution_count": 94,
   "metadata": {},
   "outputs": [
    {
     "data": {
      "text/plain": [
       "D    0.858514\n",
       "Name: 2018-05-26 00:00:00, dtype: float64"
      ]
     },
     "execution_count": 94,
     "metadata": {},
     "output_type": "execute_result"
    }
   ],
   "source": [
    "df.loc['20180526', [\"D\"]]"
   ]
  },
  {
   "cell_type": "code",
   "execution_count": null,
   "metadata": {},
   "outputs": [],
   "source": [
    "# same as above"
   ]
  },
  {
   "cell_type": "code",
   "execution_count": 95,
   "metadata": {},
   "outputs": [
    {
     "data": {
      "text/plain": [
       "0.8585135893446018"
      ]
     },
     "execution_count": 95,
     "metadata": {},
     "output_type": "execute_result"
    }
   ],
   "source": [
    "df.at[dates[5],'D']"
   ]
  },
  {
   "cell_type": "code",
   "execution_count": null,
   "metadata": {},
   "outputs": [],
   "source": [
    "## Selection by Position"
   ]
  },
  {
   "cell_type": "code",
   "execution_count": 96,
   "metadata": {},
   "outputs": [
    {
     "data": {
      "text/plain": [
       "A    0.867740\n",
       "B    0.553484\n",
       "C   -0.921000\n",
       "D    0.483510\n",
       "E    0.525265\n",
       "Name: 2018-05-24 00:00:00, dtype: float64"
      ]
     },
     "execution_count": 96,
     "metadata": {},
     "output_type": "execute_result"
    }
   ],
   "source": [
    "df.iloc[3]"
   ]
  },
  {
   "cell_type": "code",
   "execution_count": null,
   "metadata": {},
   "outputs": [],
   "source": [
    "# By integer slices, acting similar to numpy/python:"
   ]
  },
  {
   "cell_type": "code",
   "execution_count": 97,
   "metadata": {},
   "outputs": [
    {
     "data": {
      "text/html": [
       "<div>\n",
       "<style scoped>\n",
       "    .dataframe tbody tr th:only-of-type {\n",
       "        vertical-align: middle;\n",
       "    }\n",
       "\n",
       "    .dataframe tbody tr th {\n",
       "        vertical-align: top;\n",
       "    }\n",
       "\n",
       "    .dataframe thead th {\n",
       "        text-align: right;\n",
       "    }\n",
       "</style>\n",
       "<table border=\"1\" class=\"dataframe\">\n",
       "  <thead>\n",
       "    <tr style=\"text-align: right;\">\n",
       "      <th></th>\n",
       "      <th>A</th>\n",
       "      <th>B</th>\n",
       "    </tr>\n",
       "  </thead>\n",
       "  <tbody>\n",
       "    <tr>\n",
       "      <th>2018-05-23</th>\n",
       "      <td>0.631718</td>\n",
       "      <td>0.391248</td>\n",
       "    </tr>\n",
       "    <tr>\n",
       "      <th>2018-05-24</th>\n",
       "      <td>0.867740</td>\n",
       "      <td>0.553484</td>\n",
       "    </tr>\n",
       "    <tr>\n",
       "      <th>2018-05-25</th>\n",
       "      <td>1.648864</td>\n",
       "      <td>1.821448</td>\n",
       "    </tr>\n",
       "  </tbody>\n",
       "</table>\n",
       "</div>"
      ],
      "text/plain": [
       "                   A         B\n",
       "2018-05-23  0.631718  0.391248\n",
       "2018-05-24  0.867740  0.553484\n",
       "2018-05-25  1.648864  1.821448"
      ]
     },
     "execution_count": 97,
     "metadata": {},
     "output_type": "execute_result"
    }
   ],
   "source": [
    "df.iloc[2:5,:2]"
   ]
  },
  {
   "cell_type": "code",
   "execution_count": null,
   "metadata": {},
   "outputs": [],
   "source": []
  },
  {
   "cell_type": "code",
   "execution_count": null,
   "metadata": {},
   "outputs": [],
   "source": [
    "# By lists of integer position locations, similar to the numpy/python style:"
   ]
  },
  {
   "cell_type": "code",
   "execution_count": 98,
   "metadata": {
    "scrolled": true
   },
   "outputs": [
    {
     "data": {
      "text/html": [
       "<div>\n",
       "<style scoped>\n",
       "    .dataframe tbody tr th:only-of-type {\n",
       "        vertical-align: middle;\n",
       "    }\n",
       "\n",
       "    .dataframe tbody tr th {\n",
       "        vertical-align: top;\n",
       "    }\n",
       "\n",
       "    .dataframe thead th {\n",
       "        text-align: right;\n",
       "    }\n",
       "</style>\n",
       "<table border=\"1\" class=\"dataframe\">\n",
       "  <thead>\n",
       "    <tr style=\"text-align: right;\">\n",
       "      <th></th>\n",
       "      <th>B</th>\n",
       "      <th>E</th>\n",
       "      <th>C</th>\n",
       "    </tr>\n",
       "  </thead>\n",
       "  <tbody>\n",
       "    <tr>\n",
       "      <th>2018-05-24</th>\n",
       "      <td>0.553484</td>\n",
       "      <td>0.525265</td>\n",
       "      <td>-0.921000</td>\n",
       "    </tr>\n",
       "    <tr>\n",
       "      <th>2018-05-26</th>\n",
       "      <td>2.426672</td>\n",
       "      <td>-0.311827</td>\n",
       "      <td>-0.713728</td>\n",
       "    </tr>\n",
       "    <tr>\n",
       "      <th>2018-05-22</th>\n",
       "      <td>-0.557334</td>\n",
       "      <td>0.370737</td>\n",
       "      <td>0.442134</td>\n",
       "    </tr>\n",
       "  </tbody>\n",
       "</table>\n",
       "</div>"
      ],
      "text/plain": [
       "                   B         E         C\n",
       "2018-05-24  0.553484  0.525265 -0.921000\n",
       "2018-05-26  2.426672 -0.311827 -0.713728\n",
       "2018-05-22 -0.557334  0.370737  0.442134"
      ]
     },
     "execution_count": 98,
     "metadata": {},
     "output_type": "execute_result"
    }
   ],
   "source": [
    "df.iloc[[3,5,1],[1,4,2]]"
   ]
  },
  {
   "cell_type": "code",
   "execution_count": 99,
   "metadata": {},
   "outputs": [
    {
     "data": {
      "text/plain": [
       "-0.016768007585128503"
      ]
     },
     "execution_count": 99,
     "metadata": {},
     "output_type": "execute_result"
    }
   ],
   "source": [
    "df.iloc[2,2]"
   ]
  },
  {
   "cell_type": "code",
   "execution_count": null,
   "metadata": {},
   "outputs": [],
   "source": [
    "# For getting fast access to a scalar (equivalent to the prior method):"
   ]
  },
  {
   "cell_type": "code",
   "execution_count": 100,
   "metadata": {},
   "outputs": [
    {
     "data": {
      "text/plain": [
       "-0.016768007585128503"
      ]
     },
     "execution_count": 100,
     "metadata": {},
     "output_type": "execute_result"
    }
   ],
   "source": [
    "df.iat[2,2]"
   ]
  },
  {
   "cell_type": "markdown",
   "metadata": {},
   "source": [
    "## Boolean Indexing"
   ]
  },
  {
   "cell_type": "code",
   "execution_count": null,
   "metadata": {},
   "outputs": [],
   "source": [
    "## Using a single column’s values to select data."
   ]
  },
  {
   "cell_type": "code",
   "execution_count": 101,
   "metadata": {},
   "outputs": [
    {
     "data": {
      "text/html": [
       "<div>\n",
       "<style scoped>\n",
       "    .dataframe tbody tr th:only-of-type {\n",
       "        vertical-align: middle;\n",
       "    }\n",
       "\n",
       "    .dataframe tbody tr th {\n",
       "        vertical-align: top;\n",
       "    }\n",
       "\n",
       "    .dataframe thead th {\n",
       "        text-align: right;\n",
       "    }\n",
       "</style>\n",
       "<table border=\"1\" class=\"dataframe\">\n",
       "  <thead>\n",
       "    <tr style=\"text-align: right;\">\n",
       "      <th></th>\n",
       "      <th>A</th>\n",
       "      <th>B</th>\n",
       "      <th>C</th>\n",
       "      <th>D</th>\n",
       "      <th>E</th>\n",
       "    </tr>\n",
       "  </thead>\n",
       "  <tbody>\n",
       "    <tr>\n",
       "      <th>2018-05-21</th>\n",
       "      <td>0.721049</td>\n",
       "      <td>0.019420</td>\n",
       "      <td>0.532527</td>\n",
       "      <td>-0.858175</td>\n",
       "      <td>1.739109</td>\n",
       "    </tr>\n",
       "    <tr>\n",
       "      <th>2018-05-23</th>\n",
       "      <td>0.631718</td>\n",
       "      <td>0.391248</td>\n",
       "      <td>-0.016768</td>\n",
       "      <td>1.385145</td>\n",
       "      <td>-0.930659</td>\n",
       "    </tr>\n",
       "    <tr>\n",
       "      <th>2018-05-24</th>\n",
       "      <td>0.867740</td>\n",
       "      <td>0.553484</td>\n",
       "      <td>-0.921000</td>\n",
       "      <td>0.483510</td>\n",
       "      <td>0.525265</td>\n",
       "    </tr>\n",
       "    <tr>\n",
       "      <th>2018-05-25</th>\n",
       "      <td>1.648864</td>\n",
       "      <td>1.821448</td>\n",
       "      <td>-2.168256</td>\n",
       "      <td>1.873933</td>\n",
       "      <td>-1.621497</td>\n",
       "    </tr>\n",
       "    <tr>\n",
       "      <th>2018-05-28</th>\n",
       "      <td>0.328426</td>\n",
       "      <td>-0.057727</td>\n",
       "      <td>1.072547</td>\n",
       "      <td>0.177570</td>\n",
       "      <td>0.642694</td>\n",
       "    </tr>\n",
       "    <tr>\n",
       "      <th>2018-05-30</th>\n",
       "      <td>1.018628</td>\n",
       "      <td>-0.441224</td>\n",
       "      <td>-0.810934</td>\n",
       "      <td>-3.808978</td>\n",
       "      <td>0.714674</td>\n",
       "    </tr>\n",
       "    <tr>\n",
       "      <th>2018-05-31</th>\n",
       "      <td>1.126841</td>\n",
       "      <td>-1.340706</td>\n",
       "      <td>0.241627</td>\n",
       "      <td>-1.034646</td>\n",
       "      <td>-0.836399</td>\n",
       "    </tr>\n",
       "    <tr>\n",
       "      <th>2018-06-01</th>\n",
       "      <td>0.266433</td>\n",
       "      <td>0.497163</td>\n",
       "      <td>0.169295</td>\n",
       "      <td>-1.463903</td>\n",
       "      <td>0.920211</td>\n",
       "    </tr>\n",
       "    <tr>\n",
       "      <th>2018-06-03</th>\n",
       "      <td>0.651787</td>\n",
       "      <td>-0.265913</td>\n",
       "      <td>0.271687</td>\n",
       "      <td>0.711061</td>\n",
       "      <td>1.030110</td>\n",
       "    </tr>\n",
       "  </tbody>\n",
       "</table>\n",
       "</div>"
      ],
      "text/plain": [
       "                   A         B         C         D         E\n",
       "2018-05-21  0.721049  0.019420  0.532527 -0.858175  1.739109\n",
       "2018-05-23  0.631718  0.391248 -0.016768  1.385145 -0.930659\n",
       "2018-05-24  0.867740  0.553484 -0.921000  0.483510  0.525265\n",
       "2018-05-25  1.648864  1.821448 -2.168256  1.873933 -1.621497\n",
       "2018-05-28  0.328426 -0.057727  1.072547  0.177570  0.642694\n",
       "2018-05-30  1.018628 -0.441224 -0.810934 -3.808978  0.714674\n",
       "2018-05-31  1.126841 -1.340706  0.241627 -1.034646 -0.836399\n",
       "2018-06-01  0.266433  0.497163  0.169295 -1.463903  0.920211\n",
       "2018-06-03  0.651787 -0.265913  0.271687  0.711061  1.030110"
      ]
     },
     "execution_count": 101,
     "metadata": {},
     "output_type": "execute_result"
    }
   ],
   "source": [
    "df[df.A > 0.2]"
   ]
  },
  {
   "cell_type": "code",
   "execution_count": 102,
   "metadata": {},
   "outputs": [
    {
     "data": {
      "text/html": [
       "<div>\n",
       "<style scoped>\n",
       "    .dataframe tbody tr th:only-of-type {\n",
       "        vertical-align: middle;\n",
       "    }\n",
       "\n",
       "    .dataframe tbody tr th {\n",
       "        vertical-align: top;\n",
       "    }\n",
       "\n",
       "    .dataframe thead th {\n",
       "        text-align: right;\n",
       "    }\n",
       "</style>\n",
       "<table border=\"1\" class=\"dataframe\">\n",
       "  <thead>\n",
       "    <tr style=\"text-align: right;\">\n",
       "      <th></th>\n",
       "      <th>A</th>\n",
       "      <th>B</th>\n",
       "      <th>C</th>\n",
       "      <th>D</th>\n",
       "      <th>E</th>\n",
       "    </tr>\n",
       "  </thead>\n",
       "  <tbody>\n",
       "    <tr>\n",
       "      <th>2018-05-21</th>\n",
       "      <td>0.721049</td>\n",
       "      <td>0.019420</td>\n",
       "      <td>0.532527</td>\n",
       "      <td>NaN</td>\n",
       "      <td>1.739109</td>\n",
       "    </tr>\n",
       "    <tr>\n",
       "      <th>2018-05-22</th>\n",
       "      <td>NaN</td>\n",
       "      <td>NaN</td>\n",
       "      <td>0.442134</td>\n",
       "      <td>1.336626</td>\n",
       "      <td>0.370737</td>\n",
       "    </tr>\n",
       "    <tr>\n",
       "      <th>2018-05-23</th>\n",
       "      <td>0.631718</td>\n",
       "      <td>0.391248</td>\n",
       "      <td>NaN</td>\n",
       "      <td>1.385145</td>\n",
       "      <td>NaN</td>\n",
       "    </tr>\n",
       "    <tr>\n",
       "      <th>2018-05-24</th>\n",
       "      <td>0.867740</td>\n",
       "      <td>0.553484</td>\n",
       "      <td>NaN</td>\n",
       "      <td>0.483510</td>\n",
       "      <td>0.525265</td>\n",
       "    </tr>\n",
       "    <tr>\n",
       "      <th>2018-05-25</th>\n",
       "      <td>1.648864</td>\n",
       "      <td>1.821448</td>\n",
       "      <td>NaN</td>\n",
       "      <td>1.873933</td>\n",
       "      <td>NaN</td>\n",
       "    </tr>\n",
       "    <tr>\n",
       "      <th>2018-05-26</th>\n",
       "      <td>NaN</td>\n",
       "      <td>2.426672</td>\n",
       "      <td>NaN</td>\n",
       "      <td>0.858514</td>\n",
       "      <td>NaN</td>\n",
       "    </tr>\n",
       "    <tr>\n",
       "      <th>2018-05-27</th>\n",
       "      <td>NaN</td>\n",
       "      <td>NaN</td>\n",
       "      <td>NaN</td>\n",
       "      <td>0.491469</td>\n",
       "      <td>NaN</td>\n",
       "    </tr>\n",
       "    <tr>\n",
       "      <th>2018-05-28</th>\n",
       "      <td>0.328426</td>\n",
       "      <td>NaN</td>\n",
       "      <td>1.072547</td>\n",
       "      <td>0.177570</td>\n",
       "      <td>0.642694</td>\n",
       "    </tr>\n",
       "    <tr>\n",
       "      <th>2018-05-29</th>\n",
       "      <td>NaN</td>\n",
       "      <td>NaN</td>\n",
       "      <td>NaN</td>\n",
       "      <td>2.131749</td>\n",
       "      <td>NaN</td>\n",
       "    </tr>\n",
       "    <tr>\n",
       "      <th>2018-05-30</th>\n",
       "      <td>1.018628</td>\n",
       "      <td>NaN</td>\n",
       "      <td>NaN</td>\n",
       "      <td>NaN</td>\n",
       "      <td>0.714674</td>\n",
       "    </tr>\n",
       "    <tr>\n",
       "      <th>2018-05-31</th>\n",
       "      <td>1.126841</td>\n",
       "      <td>NaN</td>\n",
       "      <td>0.241627</td>\n",
       "      <td>NaN</td>\n",
       "      <td>NaN</td>\n",
       "    </tr>\n",
       "    <tr>\n",
       "      <th>2018-06-01</th>\n",
       "      <td>0.266433</td>\n",
       "      <td>0.497163</td>\n",
       "      <td>0.169295</td>\n",
       "      <td>NaN</td>\n",
       "      <td>0.920211</td>\n",
       "    </tr>\n",
       "    <tr>\n",
       "      <th>2018-06-02</th>\n",
       "      <td>NaN</td>\n",
       "      <td>NaN</td>\n",
       "      <td>NaN</td>\n",
       "      <td>NaN</td>\n",
       "      <td>0.396924</td>\n",
       "    </tr>\n",
       "    <tr>\n",
       "      <th>2018-06-03</th>\n",
       "      <td>0.651787</td>\n",
       "      <td>NaN</td>\n",
       "      <td>0.271687</td>\n",
       "      <td>0.711061</td>\n",
       "      <td>1.030110</td>\n",
       "    </tr>\n",
       "    <tr>\n",
       "      <th>2018-06-04</th>\n",
       "      <td>NaN</td>\n",
       "      <td>0.217811</td>\n",
       "      <td>1.386582</td>\n",
       "      <td>0.214082</td>\n",
       "      <td>NaN</td>\n",
       "    </tr>\n",
       "  </tbody>\n",
       "</table>\n",
       "</div>"
      ],
      "text/plain": [
       "                   A         B         C         D         E\n",
       "2018-05-21  0.721049  0.019420  0.532527       NaN  1.739109\n",
       "2018-05-22       NaN       NaN  0.442134  1.336626  0.370737\n",
       "2018-05-23  0.631718  0.391248       NaN  1.385145       NaN\n",
       "2018-05-24  0.867740  0.553484       NaN  0.483510  0.525265\n",
       "2018-05-25  1.648864  1.821448       NaN  1.873933       NaN\n",
       "2018-05-26       NaN  2.426672       NaN  0.858514       NaN\n",
       "2018-05-27       NaN       NaN       NaN  0.491469       NaN\n",
       "2018-05-28  0.328426       NaN  1.072547  0.177570  0.642694\n",
       "2018-05-29       NaN       NaN       NaN  2.131749       NaN\n",
       "2018-05-30  1.018628       NaN       NaN       NaN  0.714674\n",
       "2018-05-31  1.126841       NaN  0.241627       NaN       NaN\n",
       "2018-06-01  0.266433  0.497163  0.169295       NaN  0.920211\n",
       "2018-06-02       NaN       NaN       NaN       NaN  0.396924\n",
       "2018-06-03  0.651787       NaN  0.271687  0.711061  1.030110\n",
       "2018-06-04       NaN  0.217811  1.386582  0.214082       NaN"
      ]
     },
     "execution_count": 102,
     "metadata": {},
     "output_type": "execute_result"
    }
   ],
   "source": [
    "df[df > 0]"
   ]
  },
  {
   "cell_type": "code",
   "execution_count": 103,
   "metadata": {},
   "outputs": [
    {
     "data": {
      "text/html": [
       "<div>\n",
       "<style scoped>\n",
       "    .dataframe tbody tr th:only-of-type {\n",
       "        vertical-align: middle;\n",
       "    }\n",
       "\n",
       "    .dataframe tbody tr th {\n",
       "        vertical-align: top;\n",
       "    }\n",
       "\n",
       "    .dataframe thead th {\n",
       "        text-align: right;\n",
       "    }\n",
       "</style>\n",
       "<table border=\"1\" class=\"dataframe\">\n",
       "  <thead>\n",
       "    <tr style=\"text-align: right;\">\n",
       "      <th></th>\n",
       "      <th>A</th>\n",
       "      <th>B</th>\n",
       "      <th>C</th>\n",
       "      <th>D</th>\n",
       "      <th>E</th>\n",
       "    </tr>\n",
       "  </thead>\n",
       "  <tbody>\n",
       "    <tr>\n",
       "      <th>2018-05-21</th>\n",
       "      <td>NaN</td>\n",
       "      <td>NaN</td>\n",
       "      <td>NaN</td>\n",
       "      <td>NaN</td>\n",
       "      <td>1.739109</td>\n",
       "    </tr>\n",
       "    <tr>\n",
       "      <th>2018-05-22</th>\n",
       "      <td>NaN</td>\n",
       "      <td>NaN</td>\n",
       "      <td>NaN</td>\n",
       "      <td>1.336626</td>\n",
       "      <td>NaN</td>\n",
       "    </tr>\n",
       "    <tr>\n",
       "      <th>2018-05-23</th>\n",
       "      <td>NaN</td>\n",
       "      <td>NaN</td>\n",
       "      <td>NaN</td>\n",
       "      <td>1.385145</td>\n",
       "      <td>NaN</td>\n",
       "    </tr>\n",
       "    <tr>\n",
       "      <th>2018-05-24</th>\n",
       "      <td>NaN</td>\n",
       "      <td>NaN</td>\n",
       "      <td>NaN</td>\n",
       "      <td>NaN</td>\n",
       "      <td>NaN</td>\n",
       "    </tr>\n",
       "    <tr>\n",
       "      <th>2018-05-25</th>\n",
       "      <td>1.648864</td>\n",
       "      <td>1.821448</td>\n",
       "      <td>NaN</td>\n",
       "      <td>1.873933</td>\n",
       "      <td>NaN</td>\n",
       "    </tr>\n",
       "    <tr>\n",
       "      <th>2018-05-26</th>\n",
       "      <td>NaN</td>\n",
       "      <td>2.426672</td>\n",
       "      <td>NaN</td>\n",
       "      <td>NaN</td>\n",
       "      <td>NaN</td>\n",
       "    </tr>\n",
       "    <tr>\n",
       "      <th>2018-05-27</th>\n",
       "      <td>NaN</td>\n",
       "      <td>NaN</td>\n",
       "      <td>NaN</td>\n",
       "      <td>NaN</td>\n",
       "      <td>NaN</td>\n",
       "    </tr>\n",
       "    <tr>\n",
       "      <th>2018-05-28</th>\n",
       "      <td>NaN</td>\n",
       "      <td>NaN</td>\n",
       "      <td>1.072547</td>\n",
       "      <td>NaN</td>\n",
       "      <td>NaN</td>\n",
       "    </tr>\n",
       "    <tr>\n",
       "      <th>2018-05-29</th>\n",
       "      <td>NaN</td>\n",
       "      <td>NaN</td>\n",
       "      <td>NaN</td>\n",
       "      <td>2.131749</td>\n",
       "      <td>NaN</td>\n",
       "    </tr>\n",
       "    <tr>\n",
       "      <th>2018-05-30</th>\n",
       "      <td>1.018628</td>\n",
       "      <td>NaN</td>\n",
       "      <td>NaN</td>\n",
       "      <td>NaN</td>\n",
       "      <td>NaN</td>\n",
       "    </tr>\n",
       "    <tr>\n",
       "      <th>2018-05-31</th>\n",
       "      <td>1.126841</td>\n",
       "      <td>NaN</td>\n",
       "      <td>NaN</td>\n",
       "      <td>NaN</td>\n",
       "      <td>NaN</td>\n",
       "    </tr>\n",
       "    <tr>\n",
       "      <th>2018-06-01</th>\n",
       "      <td>NaN</td>\n",
       "      <td>NaN</td>\n",
       "      <td>NaN</td>\n",
       "      <td>NaN</td>\n",
       "      <td>NaN</td>\n",
       "    </tr>\n",
       "    <tr>\n",
       "      <th>2018-06-02</th>\n",
       "      <td>NaN</td>\n",
       "      <td>NaN</td>\n",
       "      <td>NaN</td>\n",
       "      <td>NaN</td>\n",
       "      <td>NaN</td>\n",
       "    </tr>\n",
       "    <tr>\n",
       "      <th>2018-06-03</th>\n",
       "      <td>NaN</td>\n",
       "      <td>NaN</td>\n",
       "      <td>NaN</td>\n",
       "      <td>NaN</td>\n",
       "      <td>1.030110</td>\n",
       "    </tr>\n",
       "    <tr>\n",
       "      <th>2018-06-04</th>\n",
       "      <td>NaN</td>\n",
       "      <td>NaN</td>\n",
       "      <td>1.386582</td>\n",
       "      <td>NaN</td>\n",
       "      <td>NaN</td>\n",
       "    </tr>\n",
       "  </tbody>\n",
       "</table>\n",
       "</div>"
      ],
      "text/plain": [
       "                   A         B         C         D         E\n",
       "2018-05-21       NaN       NaN       NaN       NaN  1.739109\n",
       "2018-05-22       NaN       NaN       NaN  1.336626       NaN\n",
       "2018-05-23       NaN       NaN       NaN  1.385145       NaN\n",
       "2018-05-24       NaN       NaN       NaN       NaN       NaN\n",
       "2018-05-25  1.648864  1.821448       NaN  1.873933       NaN\n",
       "2018-05-26       NaN  2.426672       NaN       NaN       NaN\n",
       "2018-05-27       NaN       NaN       NaN       NaN       NaN\n",
       "2018-05-28       NaN       NaN  1.072547       NaN       NaN\n",
       "2018-05-29       NaN       NaN       NaN  2.131749       NaN\n",
       "2018-05-30  1.018628       NaN       NaN       NaN       NaN\n",
       "2018-05-31  1.126841       NaN       NaN       NaN       NaN\n",
       "2018-06-01       NaN       NaN       NaN       NaN       NaN\n",
       "2018-06-02       NaN       NaN       NaN       NaN       NaN\n",
       "2018-06-03       NaN       NaN       NaN       NaN  1.030110\n",
       "2018-06-04       NaN       NaN  1.386582       NaN       NaN"
      ]
     },
     "execution_count": 103,
     "metadata": {},
     "output_type": "execute_result"
    }
   ],
   "source": [
    "df[df > 1]"
   ]
  },
  {
   "cell_type": "code",
   "execution_count": 105,
   "metadata": {},
   "outputs": [
    {
     "data": {
      "text/plain": [
       "2018-05-21       0\n",
       "2018-05-22       1\n",
       "2018-05-23       8\n",
       "2018-05-24      27\n",
       "2018-05-25      64\n",
       "2018-05-26     125\n",
       "2018-05-27     216\n",
       "2018-05-28     343\n",
       "2018-05-29     512\n",
       "2018-05-30     729\n",
       "2018-05-31    1000\n",
       "2018-06-01    1331\n",
       "2018-06-02    1728\n",
       "2018-06-03    2197\n",
       "2018-06-04    2744\n",
       "Freq: D, dtype: int64"
      ]
     },
     "execution_count": 105,
     "metadata": {},
     "output_type": "execute_result"
    }
   ],
   "source": [
    "s1 = pd.Series([x**3 for x in range(15)], index=pd.date_range('20180521', periods=15))\n",
    "s1"
   ]
  },
  {
   "cell_type": "code",
   "execution_count": 106,
   "metadata": {},
   "outputs": [
    {
     "data": {
      "text/html": [
       "<div>\n",
       "<style scoped>\n",
       "    .dataframe tbody tr th:only-of-type {\n",
       "        vertical-align: middle;\n",
       "    }\n",
       "\n",
       "    .dataframe tbody tr th {\n",
       "        vertical-align: top;\n",
       "    }\n",
       "\n",
       "    .dataframe thead th {\n",
       "        text-align: right;\n",
       "    }\n",
       "</style>\n",
       "<table border=\"1\" class=\"dataframe\">\n",
       "  <thead>\n",
       "    <tr style=\"text-align: right;\">\n",
       "      <th></th>\n",
       "      <th>A</th>\n",
       "      <th>B</th>\n",
       "      <th>C</th>\n",
       "      <th>D</th>\n",
       "      <th>E</th>\n",
       "    </tr>\n",
       "  </thead>\n",
       "  <tbody>\n",
       "    <tr>\n",
       "      <th>2018-05-21</th>\n",
       "      <td>0.721049</td>\n",
       "      <td>0.019420</td>\n",
       "      <td>0.532527</td>\n",
       "      <td>-0.858175</td>\n",
       "      <td>1.739109</td>\n",
       "    </tr>\n",
       "    <tr>\n",
       "      <th>2018-05-22</th>\n",
       "      <td>-0.751767</td>\n",
       "      <td>-0.557334</td>\n",
       "      <td>0.442134</td>\n",
       "      <td>1.336626</td>\n",
       "      <td>0.370737</td>\n",
       "    </tr>\n",
       "    <tr>\n",
       "      <th>2018-05-23</th>\n",
       "      <td>0.631718</td>\n",
       "      <td>0.391248</td>\n",
       "      <td>-0.016768</td>\n",
       "      <td>1.385145</td>\n",
       "      <td>-0.930659</td>\n",
       "    </tr>\n",
       "    <tr>\n",
       "      <th>2018-05-24</th>\n",
       "      <td>0.867740</td>\n",
       "      <td>0.553484</td>\n",
       "      <td>-0.921000</td>\n",
       "      <td>0.483510</td>\n",
       "      <td>0.525265</td>\n",
       "    </tr>\n",
       "    <tr>\n",
       "      <th>2018-05-25</th>\n",
       "      <td>1.648864</td>\n",
       "      <td>1.821448</td>\n",
       "      <td>-2.168256</td>\n",
       "      <td>1.873933</td>\n",
       "      <td>-1.621497</td>\n",
       "    </tr>\n",
       "    <tr>\n",
       "      <th>2018-05-26</th>\n",
       "      <td>-0.138812</td>\n",
       "      <td>2.426672</td>\n",
       "      <td>-0.713728</td>\n",
       "      <td>0.858514</td>\n",
       "      <td>-0.311827</td>\n",
       "    </tr>\n",
       "    <tr>\n",
       "      <th>2018-05-27</th>\n",
       "      <td>-0.578854</td>\n",
       "      <td>-1.799046</td>\n",
       "      <td>-0.013709</td>\n",
       "      <td>0.491469</td>\n",
       "      <td>-0.169685</td>\n",
       "    </tr>\n",
       "    <tr>\n",
       "      <th>2018-05-28</th>\n",
       "      <td>0.328426</td>\n",
       "      <td>-0.057727</td>\n",
       "      <td>1.072547</td>\n",
       "      <td>0.177570</td>\n",
       "      <td>0.642694</td>\n",
       "    </tr>\n",
       "    <tr>\n",
       "      <th>2018-05-29</th>\n",
       "      <td>-0.233350</td>\n",
       "      <td>-0.494728</td>\n",
       "      <td>-0.145300</td>\n",
       "      <td>2.131749</td>\n",
       "      <td>-0.950209</td>\n",
       "    </tr>\n",
       "    <tr>\n",
       "      <th>2018-05-30</th>\n",
       "      <td>1.018628</td>\n",
       "      <td>-0.441224</td>\n",
       "      <td>-0.810934</td>\n",
       "      <td>-3.808978</td>\n",
       "      <td>0.714674</td>\n",
       "    </tr>\n",
       "    <tr>\n",
       "      <th>2018-05-31</th>\n",
       "      <td>1.126841</td>\n",
       "      <td>-1.340706</td>\n",
       "      <td>0.241627</td>\n",
       "      <td>-1.034646</td>\n",
       "      <td>-0.836399</td>\n",
       "    </tr>\n",
       "    <tr>\n",
       "      <th>2018-06-01</th>\n",
       "      <td>0.266433</td>\n",
       "      <td>0.497163</td>\n",
       "      <td>0.169295</td>\n",
       "      <td>-1.463903</td>\n",
       "      <td>0.920211</td>\n",
       "    </tr>\n",
       "    <tr>\n",
       "      <th>2018-06-02</th>\n",
       "      <td>-0.399290</td>\n",
       "      <td>-0.513238</td>\n",
       "      <td>-1.466636</td>\n",
       "      <td>-0.517236</td>\n",
       "      <td>0.396924</td>\n",
       "    </tr>\n",
       "    <tr>\n",
       "      <th>2018-06-03</th>\n",
       "      <td>0.651787</td>\n",
       "      <td>-0.265913</td>\n",
       "      <td>0.271687</td>\n",
       "      <td>0.711061</td>\n",
       "      <td>1.030110</td>\n",
       "    </tr>\n",
       "    <tr>\n",
       "      <th>2018-06-04</th>\n",
       "      <td>-1.147195</td>\n",
       "      <td>0.217811</td>\n",
       "      <td>1.386582</td>\n",
       "      <td>0.214082</td>\n",
       "      <td>-1.731895</td>\n",
       "    </tr>\n",
       "  </tbody>\n",
       "</table>\n",
       "</div>"
      ],
      "text/plain": [
       "                   A         B         C         D         E\n",
       "2018-05-21  0.721049  0.019420  0.532527 -0.858175  1.739109\n",
       "2018-05-22 -0.751767 -0.557334  0.442134  1.336626  0.370737\n",
       "2018-05-23  0.631718  0.391248 -0.016768  1.385145 -0.930659\n",
       "2018-05-24  0.867740  0.553484 -0.921000  0.483510  0.525265\n",
       "2018-05-25  1.648864  1.821448 -2.168256  1.873933 -1.621497\n",
       "2018-05-26 -0.138812  2.426672 -0.713728  0.858514 -0.311827\n",
       "2018-05-27 -0.578854 -1.799046 -0.013709  0.491469 -0.169685\n",
       "2018-05-28  0.328426 -0.057727  1.072547  0.177570  0.642694\n",
       "2018-05-29 -0.233350 -0.494728 -0.145300  2.131749 -0.950209\n",
       "2018-05-30  1.018628 -0.441224 -0.810934 -3.808978  0.714674\n",
       "2018-05-31  1.126841 -1.340706  0.241627 -1.034646 -0.836399\n",
       "2018-06-01  0.266433  0.497163  0.169295 -1.463903  0.920211\n",
       "2018-06-02 -0.399290 -0.513238 -1.466636 -0.517236  0.396924\n",
       "2018-06-03  0.651787 -0.265913  0.271687  0.711061  1.030110\n",
       "2018-06-04 -1.147195  0.217811  1.386582  0.214082 -1.731895"
      ]
     },
     "execution_count": 106,
     "metadata": {},
     "output_type": "execute_result"
    }
   ],
   "source": [
    "df"
   ]
  },
  {
   "cell_type": "code",
   "execution_count": 107,
   "metadata": {},
   "outputs": [
    {
     "data": {
      "text/html": [
       "<div>\n",
       "<style scoped>\n",
       "    .dataframe tbody tr th:only-of-type {\n",
       "        vertical-align: middle;\n",
       "    }\n",
       "\n",
       "    .dataframe tbody tr th {\n",
       "        vertical-align: top;\n",
       "    }\n",
       "\n",
       "    .dataframe thead th {\n",
       "        text-align: right;\n",
       "    }\n",
       "</style>\n",
       "<table border=\"1\" class=\"dataframe\">\n",
       "  <thead>\n",
       "    <tr style=\"text-align: right;\">\n",
       "      <th></th>\n",
       "      <th>A</th>\n",
       "      <th>B</th>\n",
       "      <th>C</th>\n",
       "      <th>D</th>\n",
       "      <th>E</th>\n",
       "      <th>F</th>\n",
       "    </tr>\n",
       "  </thead>\n",
       "  <tbody>\n",
       "    <tr>\n",
       "      <th>2018-05-21</th>\n",
       "      <td>0.721049</td>\n",
       "      <td>0.019420</td>\n",
       "      <td>0.532527</td>\n",
       "      <td>-0.858175</td>\n",
       "      <td>1.739109</td>\n",
       "      <td>0</td>\n",
       "    </tr>\n",
       "    <tr>\n",
       "      <th>2018-05-22</th>\n",
       "      <td>-0.751767</td>\n",
       "      <td>-0.557334</td>\n",
       "      <td>0.442134</td>\n",
       "      <td>1.336626</td>\n",
       "      <td>0.370737</td>\n",
       "      <td>1</td>\n",
       "    </tr>\n",
       "    <tr>\n",
       "      <th>2018-05-23</th>\n",
       "      <td>0.631718</td>\n",
       "      <td>0.391248</td>\n",
       "      <td>-0.016768</td>\n",
       "      <td>1.385145</td>\n",
       "      <td>-0.930659</td>\n",
       "      <td>8</td>\n",
       "    </tr>\n",
       "    <tr>\n",
       "      <th>2018-05-24</th>\n",
       "      <td>0.867740</td>\n",
       "      <td>0.553484</td>\n",
       "      <td>-0.921000</td>\n",
       "      <td>0.483510</td>\n",
       "      <td>0.525265</td>\n",
       "      <td>27</td>\n",
       "    </tr>\n",
       "    <tr>\n",
       "      <th>2018-05-25</th>\n",
       "      <td>1.648864</td>\n",
       "      <td>1.821448</td>\n",
       "      <td>-2.168256</td>\n",
       "      <td>1.873933</td>\n",
       "      <td>-1.621497</td>\n",
       "      <td>64</td>\n",
       "    </tr>\n",
       "    <tr>\n",
       "      <th>2018-05-26</th>\n",
       "      <td>-0.138812</td>\n",
       "      <td>2.426672</td>\n",
       "      <td>-0.713728</td>\n",
       "      <td>0.858514</td>\n",
       "      <td>-0.311827</td>\n",
       "      <td>125</td>\n",
       "    </tr>\n",
       "    <tr>\n",
       "      <th>2018-05-27</th>\n",
       "      <td>-0.578854</td>\n",
       "      <td>-1.799046</td>\n",
       "      <td>-0.013709</td>\n",
       "      <td>0.491469</td>\n",
       "      <td>-0.169685</td>\n",
       "      <td>216</td>\n",
       "    </tr>\n",
       "    <tr>\n",
       "      <th>2018-05-28</th>\n",
       "      <td>0.328426</td>\n",
       "      <td>-0.057727</td>\n",
       "      <td>1.072547</td>\n",
       "      <td>0.177570</td>\n",
       "      <td>0.642694</td>\n",
       "      <td>343</td>\n",
       "    </tr>\n",
       "    <tr>\n",
       "      <th>2018-05-29</th>\n",
       "      <td>-0.233350</td>\n",
       "      <td>-0.494728</td>\n",
       "      <td>-0.145300</td>\n",
       "      <td>2.131749</td>\n",
       "      <td>-0.950209</td>\n",
       "      <td>512</td>\n",
       "    </tr>\n",
       "    <tr>\n",
       "      <th>2018-05-30</th>\n",
       "      <td>1.018628</td>\n",
       "      <td>-0.441224</td>\n",
       "      <td>-0.810934</td>\n",
       "      <td>-3.808978</td>\n",
       "      <td>0.714674</td>\n",
       "      <td>729</td>\n",
       "    </tr>\n",
       "    <tr>\n",
       "      <th>2018-05-31</th>\n",
       "      <td>1.126841</td>\n",
       "      <td>-1.340706</td>\n",
       "      <td>0.241627</td>\n",
       "      <td>-1.034646</td>\n",
       "      <td>-0.836399</td>\n",
       "      <td>1000</td>\n",
       "    </tr>\n",
       "    <tr>\n",
       "      <th>2018-06-01</th>\n",
       "      <td>0.266433</td>\n",
       "      <td>0.497163</td>\n",
       "      <td>0.169295</td>\n",
       "      <td>-1.463903</td>\n",
       "      <td>0.920211</td>\n",
       "      <td>1331</td>\n",
       "    </tr>\n",
       "    <tr>\n",
       "      <th>2018-06-02</th>\n",
       "      <td>-0.399290</td>\n",
       "      <td>-0.513238</td>\n",
       "      <td>-1.466636</td>\n",
       "      <td>-0.517236</td>\n",
       "      <td>0.396924</td>\n",
       "      <td>1728</td>\n",
       "    </tr>\n",
       "    <tr>\n",
       "      <th>2018-06-03</th>\n",
       "      <td>0.651787</td>\n",
       "      <td>-0.265913</td>\n",
       "      <td>0.271687</td>\n",
       "      <td>0.711061</td>\n",
       "      <td>1.030110</td>\n",
       "      <td>2197</td>\n",
       "    </tr>\n",
       "    <tr>\n",
       "      <th>2018-06-04</th>\n",
       "      <td>-1.147195</td>\n",
       "      <td>0.217811</td>\n",
       "      <td>1.386582</td>\n",
       "      <td>0.214082</td>\n",
       "      <td>-1.731895</td>\n",
       "      <td>2744</td>\n",
       "    </tr>\n",
       "  </tbody>\n",
       "</table>\n",
       "</div>"
      ],
      "text/plain": [
       "                   A         B         C         D         E     F\n",
       "2018-05-21  0.721049  0.019420  0.532527 -0.858175  1.739109     0\n",
       "2018-05-22 -0.751767 -0.557334  0.442134  1.336626  0.370737     1\n",
       "2018-05-23  0.631718  0.391248 -0.016768  1.385145 -0.930659     8\n",
       "2018-05-24  0.867740  0.553484 -0.921000  0.483510  0.525265    27\n",
       "2018-05-25  1.648864  1.821448 -2.168256  1.873933 -1.621497    64\n",
       "2018-05-26 -0.138812  2.426672 -0.713728  0.858514 -0.311827   125\n",
       "2018-05-27 -0.578854 -1.799046 -0.013709  0.491469 -0.169685   216\n",
       "2018-05-28  0.328426 -0.057727  1.072547  0.177570  0.642694   343\n",
       "2018-05-29 -0.233350 -0.494728 -0.145300  2.131749 -0.950209   512\n",
       "2018-05-30  1.018628 -0.441224 -0.810934 -3.808978  0.714674   729\n",
       "2018-05-31  1.126841 -1.340706  0.241627 -1.034646 -0.836399  1000\n",
       "2018-06-01  0.266433  0.497163  0.169295 -1.463903  0.920211  1331\n",
       "2018-06-02 -0.399290 -0.513238 -1.466636 -0.517236  0.396924  1728\n",
       "2018-06-03  0.651787 -0.265913  0.271687  0.711061  1.030110  2197\n",
       "2018-06-04 -1.147195  0.217811  1.386582  0.214082 -1.731895  2744"
      ]
     },
     "execution_count": 107,
     "metadata": {},
     "output_type": "execute_result"
    }
   ],
   "source": [
    "df['F'] = s1\n",
    "df"
   ]
  },
  {
   "cell_type": "code",
   "execution_count": 108,
   "metadata": {},
   "outputs": [
    {
     "data": {
      "text/html": [
       "<div>\n",
       "<style scoped>\n",
       "    .dataframe tbody tr th:only-of-type {\n",
       "        vertical-align: middle;\n",
       "    }\n",
       "\n",
       "    .dataframe tbody tr th {\n",
       "        vertical-align: top;\n",
       "    }\n",
       "\n",
       "    .dataframe thead th {\n",
       "        text-align: right;\n",
       "    }\n",
       "</style>\n",
       "<table border=\"1\" class=\"dataframe\">\n",
       "  <thead>\n",
       "    <tr style=\"text-align: right;\">\n",
       "      <th></th>\n",
       "      <th>A</th>\n",
       "      <th>B</th>\n",
       "      <th>C</th>\n",
       "      <th>D</th>\n",
       "      <th>E</th>\n",
       "      <th>F</th>\n",
       "    </tr>\n",
       "  </thead>\n",
       "  <tbody>\n",
       "    <tr>\n",
       "      <th>2018-05-21</th>\n",
       "      <td>0.721049</td>\n",
       "      <td>0.019420</td>\n",
       "      <td>0.532527</td>\n",
       "      <td>-0.858175</td>\n",
       "      <td>1.739109</td>\n",
       "      <td>42</td>\n",
       "    </tr>\n",
       "    <tr>\n",
       "      <th>2018-05-22</th>\n",
       "      <td>-0.751767</td>\n",
       "      <td>-0.557334</td>\n",
       "      <td>0.442134</td>\n",
       "      <td>1.336626</td>\n",
       "      <td>0.370737</td>\n",
       "      <td>42</td>\n",
       "    </tr>\n",
       "    <tr>\n",
       "      <th>2018-05-23</th>\n",
       "      <td>0.631718</td>\n",
       "      <td>0.391248</td>\n",
       "      <td>-0.016768</td>\n",
       "      <td>1.385145</td>\n",
       "      <td>-0.930659</td>\n",
       "      <td>42</td>\n",
       "    </tr>\n",
       "    <tr>\n",
       "      <th>2018-05-24</th>\n",
       "      <td>0.867740</td>\n",
       "      <td>0.553484</td>\n",
       "      <td>-0.921000</td>\n",
       "      <td>0.483510</td>\n",
       "      <td>0.525265</td>\n",
       "      <td>42</td>\n",
       "    </tr>\n",
       "    <tr>\n",
       "      <th>2018-05-25</th>\n",
       "      <td>1.648864</td>\n",
       "      <td>1.821448</td>\n",
       "      <td>-2.168256</td>\n",
       "      <td>1.873933</td>\n",
       "      <td>-1.621497</td>\n",
       "      <td>42</td>\n",
       "    </tr>\n",
       "    <tr>\n",
       "      <th>2018-05-26</th>\n",
       "      <td>-0.138812</td>\n",
       "      <td>2.426672</td>\n",
       "      <td>-0.713728</td>\n",
       "      <td>0.858514</td>\n",
       "      <td>-0.311827</td>\n",
       "      <td>42</td>\n",
       "    </tr>\n",
       "    <tr>\n",
       "      <th>2018-05-27</th>\n",
       "      <td>-0.578854</td>\n",
       "      <td>-1.799046</td>\n",
       "      <td>-0.013709</td>\n",
       "      <td>0.491469</td>\n",
       "      <td>-0.169685</td>\n",
       "      <td>42</td>\n",
       "    </tr>\n",
       "    <tr>\n",
       "      <th>2018-05-28</th>\n",
       "      <td>0.328426</td>\n",
       "      <td>-0.057727</td>\n",
       "      <td>1.072547</td>\n",
       "      <td>0.177570</td>\n",
       "      <td>0.642694</td>\n",
       "      <td>42</td>\n",
       "    </tr>\n",
       "    <tr>\n",
       "      <th>2018-05-29</th>\n",
       "      <td>-0.233350</td>\n",
       "      <td>-0.494728</td>\n",
       "      <td>-0.145300</td>\n",
       "      <td>2.131749</td>\n",
       "      <td>-0.950209</td>\n",
       "      <td>42</td>\n",
       "    </tr>\n",
       "    <tr>\n",
       "      <th>2018-05-30</th>\n",
       "      <td>1.018628</td>\n",
       "      <td>-0.441224</td>\n",
       "      <td>-0.810934</td>\n",
       "      <td>-3.808978</td>\n",
       "      <td>0.714674</td>\n",
       "      <td>42</td>\n",
       "    </tr>\n",
       "    <tr>\n",
       "      <th>2018-05-31</th>\n",
       "      <td>1.126841</td>\n",
       "      <td>-1.340706</td>\n",
       "      <td>0.241627</td>\n",
       "      <td>-1.034646</td>\n",
       "      <td>-0.836399</td>\n",
       "      <td>42</td>\n",
       "    </tr>\n",
       "    <tr>\n",
       "      <th>2018-06-01</th>\n",
       "      <td>0.266433</td>\n",
       "      <td>0.497163</td>\n",
       "      <td>0.169295</td>\n",
       "      <td>-1.463903</td>\n",
       "      <td>0.920211</td>\n",
       "      <td>42</td>\n",
       "    </tr>\n",
       "    <tr>\n",
       "      <th>2018-06-02</th>\n",
       "      <td>-0.399290</td>\n",
       "      <td>-0.513238</td>\n",
       "      <td>-1.466636</td>\n",
       "      <td>-0.517236</td>\n",
       "      <td>0.396924</td>\n",
       "      <td>42</td>\n",
       "    </tr>\n",
       "    <tr>\n",
       "      <th>2018-06-03</th>\n",
       "      <td>0.651787</td>\n",
       "      <td>-0.265913</td>\n",
       "      <td>0.271687</td>\n",
       "      <td>0.711061</td>\n",
       "      <td>1.030110</td>\n",
       "      <td>42</td>\n",
       "    </tr>\n",
       "    <tr>\n",
       "      <th>2018-06-04</th>\n",
       "      <td>-1.147195</td>\n",
       "      <td>0.217811</td>\n",
       "      <td>1.386582</td>\n",
       "      <td>0.214082</td>\n",
       "      <td>-1.731895</td>\n",
       "      <td>42</td>\n",
       "    </tr>\n",
       "  </tbody>\n",
       "</table>\n",
       "</div>"
      ],
      "text/plain": [
       "                   A         B         C         D         E   F\n",
       "2018-05-21  0.721049  0.019420  0.532527 -0.858175  1.739109  42\n",
       "2018-05-22 -0.751767 -0.557334  0.442134  1.336626  0.370737  42\n",
       "2018-05-23  0.631718  0.391248 -0.016768  1.385145 -0.930659  42\n",
       "2018-05-24  0.867740  0.553484 -0.921000  0.483510  0.525265  42\n",
       "2018-05-25  1.648864  1.821448 -2.168256  1.873933 -1.621497  42\n",
       "2018-05-26 -0.138812  2.426672 -0.713728  0.858514 -0.311827  42\n",
       "2018-05-27 -0.578854 -1.799046 -0.013709  0.491469 -0.169685  42\n",
       "2018-05-28  0.328426 -0.057727  1.072547  0.177570  0.642694  42\n",
       "2018-05-29 -0.233350 -0.494728 -0.145300  2.131749 -0.950209  42\n",
       "2018-05-30  1.018628 -0.441224 -0.810934 -3.808978  0.714674  42\n",
       "2018-05-31  1.126841 -1.340706  0.241627 -1.034646 -0.836399  42\n",
       "2018-06-01  0.266433  0.497163  0.169295 -1.463903  0.920211  42\n",
       "2018-06-02 -0.399290 -0.513238 -1.466636 -0.517236  0.396924  42\n",
       "2018-06-03  0.651787 -0.265913  0.271687  0.711061  1.030110  42\n",
       "2018-06-04 -1.147195  0.217811  1.386582  0.214082 -1.731895  42"
      ]
     },
     "execution_count": 108,
     "metadata": {},
     "output_type": "execute_result"
    }
   ],
   "source": [
    "df['F']=42\n",
    "df"
   ]
  },
  {
   "cell_type": "code",
   "execution_count": 109,
   "metadata": {},
   "outputs": [
    {
     "data": {
      "text/html": [
       "<div>\n",
       "<style scoped>\n",
       "    .dataframe tbody tr th:only-of-type {\n",
       "        vertical-align: middle;\n",
       "    }\n",
       "\n",
       "    .dataframe tbody tr th {\n",
       "        vertical-align: top;\n",
       "    }\n",
       "\n",
       "    .dataframe thead th {\n",
       "        text-align: right;\n",
       "    }\n",
       "</style>\n",
       "<table border=\"1\" class=\"dataframe\">\n",
       "  <thead>\n",
       "    <tr style=\"text-align: right;\">\n",
       "      <th></th>\n",
       "      <th>A</th>\n",
       "      <th>B</th>\n",
       "      <th>C</th>\n",
       "      <th>D</th>\n",
       "      <th>E</th>\n",
       "      <th>F</th>\n",
       "      <th>G</th>\n",
       "    </tr>\n",
       "  </thead>\n",
       "  <tbody>\n",
       "    <tr>\n",
       "      <th>2018-05-21</th>\n",
       "      <td>0.721049</td>\n",
       "      <td>0.019420</td>\n",
       "      <td>0.532527</td>\n",
       "      <td>-0.858175</td>\n",
       "      <td>1.739109</td>\n",
       "      <td>42</td>\n",
       "      <td>0</td>\n",
       "    </tr>\n",
       "    <tr>\n",
       "      <th>2018-05-22</th>\n",
       "      <td>-0.751767</td>\n",
       "      <td>-0.557334</td>\n",
       "      <td>0.442134</td>\n",
       "      <td>1.336626</td>\n",
       "      <td>0.370737</td>\n",
       "      <td>42</td>\n",
       "      <td>1</td>\n",
       "    </tr>\n",
       "    <tr>\n",
       "      <th>2018-05-23</th>\n",
       "      <td>0.631718</td>\n",
       "      <td>0.391248</td>\n",
       "      <td>-0.016768</td>\n",
       "      <td>1.385145</td>\n",
       "      <td>-0.930659</td>\n",
       "      <td>42</td>\n",
       "      <td>8</td>\n",
       "    </tr>\n",
       "    <tr>\n",
       "      <th>2018-05-24</th>\n",
       "      <td>0.867740</td>\n",
       "      <td>0.553484</td>\n",
       "      <td>-0.921000</td>\n",
       "      <td>0.483510</td>\n",
       "      <td>0.525265</td>\n",
       "      <td>42</td>\n",
       "      <td>27</td>\n",
       "    </tr>\n",
       "    <tr>\n",
       "      <th>2018-05-25</th>\n",
       "      <td>1.648864</td>\n",
       "      <td>1.821448</td>\n",
       "      <td>-2.168256</td>\n",
       "      <td>1.873933</td>\n",
       "      <td>-1.621497</td>\n",
       "      <td>42</td>\n",
       "      <td>64</td>\n",
       "    </tr>\n",
       "    <tr>\n",
       "      <th>2018-05-26</th>\n",
       "      <td>-0.138812</td>\n",
       "      <td>2.426672</td>\n",
       "      <td>-0.713728</td>\n",
       "      <td>0.858514</td>\n",
       "      <td>-0.311827</td>\n",
       "      <td>42</td>\n",
       "      <td>125</td>\n",
       "    </tr>\n",
       "    <tr>\n",
       "      <th>2018-05-27</th>\n",
       "      <td>-0.578854</td>\n",
       "      <td>-1.799046</td>\n",
       "      <td>-0.013709</td>\n",
       "      <td>0.491469</td>\n",
       "      <td>-0.169685</td>\n",
       "      <td>42</td>\n",
       "      <td>216</td>\n",
       "    </tr>\n",
       "    <tr>\n",
       "      <th>2018-05-28</th>\n",
       "      <td>0.328426</td>\n",
       "      <td>-0.057727</td>\n",
       "      <td>1.072547</td>\n",
       "      <td>0.177570</td>\n",
       "      <td>0.642694</td>\n",
       "      <td>42</td>\n",
       "      <td>343</td>\n",
       "    </tr>\n",
       "    <tr>\n",
       "      <th>2018-05-29</th>\n",
       "      <td>-0.233350</td>\n",
       "      <td>-0.494728</td>\n",
       "      <td>-0.145300</td>\n",
       "      <td>2.131749</td>\n",
       "      <td>-0.950209</td>\n",
       "      <td>42</td>\n",
       "      <td>512</td>\n",
       "    </tr>\n",
       "    <tr>\n",
       "      <th>2018-05-30</th>\n",
       "      <td>1.018628</td>\n",
       "      <td>-0.441224</td>\n",
       "      <td>-0.810934</td>\n",
       "      <td>-3.808978</td>\n",
       "      <td>0.714674</td>\n",
       "      <td>42</td>\n",
       "      <td>729</td>\n",
       "    </tr>\n",
       "    <tr>\n",
       "      <th>2018-05-31</th>\n",
       "      <td>1.126841</td>\n",
       "      <td>-1.340706</td>\n",
       "      <td>0.241627</td>\n",
       "      <td>-1.034646</td>\n",
       "      <td>-0.836399</td>\n",
       "      <td>42</td>\n",
       "      <td>1000</td>\n",
       "    </tr>\n",
       "    <tr>\n",
       "      <th>2018-06-01</th>\n",
       "      <td>0.266433</td>\n",
       "      <td>0.497163</td>\n",
       "      <td>0.169295</td>\n",
       "      <td>-1.463903</td>\n",
       "      <td>0.920211</td>\n",
       "      <td>42</td>\n",
       "      <td>1331</td>\n",
       "    </tr>\n",
       "    <tr>\n",
       "      <th>2018-06-02</th>\n",
       "      <td>-0.399290</td>\n",
       "      <td>-0.513238</td>\n",
       "      <td>-1.466636</td>\n",
       "      <td>-0.517236</td>\n",
       "      <td>0.396924</td>\n",
       "      <td>42</td>\n",
       "      <td>1728</td>\n",
       "    </tr>\n",
       "    <tr>\n",
       "      <th>2018-06-03</th>\n",
       "      <td>0.651787</td>\n",
       "      <td>-0.265913</td>\n",
       "      <td>0.271687</td>\n",
       "      <td>0.711061</td>\n",
       "      <td>1.030110</td>\n",
       "      <td>42</td>\n",
       "      <td>2197</td>\n",
       "    </tr>\n",
       "    <tr>\n",
       "      <th>2018-06-04</th>\n",
       "      <td>-1.147195</td>\n",
       "      <td>0.217811</td>\n",
       "      <td>1.386582</td>\n",
       "      <td>0.214082</td>\n",
       "      <td>-1.731895</td>\n",
       "      <td>42</td>\n",
       "      <td>2744</td>\n",
       "    </tr>\n",
       "  </tbody>\n",
       "</table>\n",
       "</div>"
      ],
      "text/plain": [
       "                   A         B         C         D         E   F     G\n",
       "2018-05-21  0.721049  0.019420  0.532527 -0.858175  1.739109  42     0\n",
       "2018-05-22 -0.751767 -0.557334  0.442134  1.336626  0.370737  42     1\n",
       "2018-05-23  0.631718  0.391248 -0.016768  1.385145 -0.930659  42     8\n",
       "2018-05-24  0.867740  0.553484 -0.921000  0.483510  0.525265  42    27\n",
       "2018-05-25  1.648864  1.821448 -2.168256  1.873933 -1.621497  42    64\n",
       "2018-05-26 -0.138812  2.426672 -0.713728  0.858514 -0.311827  42   125\n",
       "2018-05-27 -0.578854 -1.799046 -0.013709  0.491469 -0.169685  42   216\n",
       "2018-05-28  0.328426 -0.057727  1.072547  0.177570  0.642694  42   343\n",
       "2018-05-29 -0.233350 -0.494728 -0.145300  2.131749 -0.950209  42   512\n",
       "2018-05-30  1.018628 -0.441224 -0.810934 -3.808978  0.714674  42   729\n",
       "2018-05-31  1.126841 -1.340706  0.241627 -1.034646 -0.836399  42  1000\n",
       "2018-06-01  0.266433  0.497163  0.169295 -1.463903  0.920211  42  1331\n",
       "2018-06-02 -0.399290 -0.513238 -1.466636 -0.517236  0.396924  42  1728\n",
       "2018-06-03  0.651787 -0.265913  0.271687  0.711061  1.030110  42  2197\n",
       "2018-06-04 -1.147195  0.217811  1.386582  0.214082 -1.731895  42  2744"
      ]
     },
     "execution_count": 109,
     "metadata": {},
     "output_type": "execute_result"
    }
   ],
   "source": [
    "df['G']=[x**3 for x in range(15)] # passing a fresh list to particular column\n",
    "df"
   ]
  },
  {
   "cell_type": "code",
   "execution_count": 110,
   "metadata": {},
   "outputs": [
    {
     "data": {
      "text/html": [
       "<div>\n",
       "<style scoped>\n",
       "    .dataframe tbody tr th:only-of-type {\n",
       "        vertical-align: middle;\n",
       "    }\n",
       "\n",
       "    .dataframe tbody tr th {\n",
       "        vertical-align: top;\n",
       "    }\n",
       "\n",
       "    .dataframe thead th {\n",
       "        text-align: right;\n",
       "    }\n",
       "</style>\n",
       "<table border=\"1\" class=\"dataframe\">\n",
       "  <thead>\n",
       "    <tr style=\"text-align: right;\">\n",
       "      <th></th>\n",
       "      <th>A</th>\n",
       "      <th>B</th>\n",
       "      <th>C</th>\n",
       "      <th>D</th>\n",
       "      <th>E</th>\n",
       "      <th>F</th>\n",
       "      <th>G</th>\n",
       "    </tr>\n",
       "  </thead>\n",
       "  <tbody>\n",
       "    <tr>\n",
       "      <th>2018-05-21</th>\n",
       "      <td>0.721049</td>\n",
       "      <td>0.019420</td>\n",
       "      <td>0.532527</td>\n",
       "      <td>-0.858175</td>\n",
       "      <td>1.739109</td>\n",
       "      <td>42</td>\n",
       "      <td>0</td>\n",
       "    </tr>\n",
       "    <tr>\n",
       "      <th>2018-05-22</th>\n",
       "      <td>33.000000</td>\n",
       "      <td>-0.557334</td>\n",
       "      <td>0.442134</td>\n",
       "      <td>1.336626</td>\n",
       "      <td>0.370737</td>\n",
       "      <td>42</td>\n",
       "      <td>1</td>\n",
       "    </tr>\n",
       "    <tr>\n",
       "      <th>2018-05-23</th>\n",
       "      <td>0.631718</td>\n",
       "      <td>0.391248</td>\n",
       "      <td>-0.016768</td>\n",
       "      <td>1.385145</td>\n",
       "      <td>-0.930659</td>\n",
       "      <td>42</td>\n",
       "      <td>8</td>\n",
       "    </tr>\n",
       "    <tr>\n",
       "      <th>2018-05-24</th>\n",
       "      <td>0.867740</td>\n",
       "      <td>0.553484</td>\n",
       "      <td>-0.921000</td>\n",
       "      <td>0.483510</td>\n",
       "      <td>0.525265</td>\n",
       "      <td>42</td>\n",
       "      <td>27</td>\n",
       "    </tr>\n",
       "    <tr>\n",
       "      <th>2018-05-25</th>\n",
       "      <td>1.648864</td>\n",
       "      <td>1.821448</td>\n",
       "      <td>-2.168256</td>\n",
       "      <td>1.873933</td>\n",
       "      <td>-1.621497</td>\n",
       "      <td>42</td>\n",
       "      <td>64</td>\n",
       "    </tr>\n",
       "    <tr>\n",
       "      <th>2018-05-26</th>\n",
       "      <td>-0.138812</td>\n",
       "      <td>2.426672</td>\n",
       "      <td>-0.713728</td>\n",
       "      <td>0.858514</td>\n",
       "      <td>-0.311827</td>\n",
       "      <td>42</td>\n",
       "      <td>125</td>\n",
       "    </tr>\n",
       "    <tr>\n",
       "      <th>2018-05-27</th>\n",
       "      <td>-0.578854</td>\n",
       "      <td>-1.799046</td>\n",
       "      <td>-0.013709</td>\n",
       "      <td>0.491469</td>\n",
       "      <td>-0.169685</td>\n",
       "      <td>42</td>\n",
       "      <td>216</td>\n",
       "    </tr>\n",
       "    <tr>\n",
       "      <th>2018-05-28</th>\n",
       "      <td>0.328426</td>\n",
       "      <td>-0.057727</td>\n",
       "      <td>1.072547</td>\n",
       "      <td>0.177570</td>\n",
       "      <td>0.642694</td>\n",
       "      <td>42</td>\n",
       "      <td>343</td>\n",
       "    </tr>\n",
       "    <tr>\n",
       "      <th>2018-05-29</th>\n",
       "      <td>-0.233350</td>\n",
       "      <td>-0.494728</td>\n",
       "      <td>-0.145300</td>\n",
       "      <td>2.131749</td>\n",
       "      <td>-0.950209</td>\n",
       "      <td>42</td>\n",
       "      <td>512</td>\n",
       "    </tr>\n",
       "    <tr>\n",
       "      <th>2018-05-30</th>\n",
       "      <td>1.018628</td>\n",
       "      <td>-0.441224</td>\n",
       "      <td>-0.810934</td>\n",
       "      <td>-3.808978</td>\n",
       "      <td>0.714674</td>\n",
       "      <td>42</td>\n",
       "      <td>729</td>\n",
       "    </tr>\n",
       "    <tr>\n",
       "      <th>2018-05-31</th>\n",
       "      <td>1.126841</td>\n",
       "      <td>-1.340706</td>\n",
       "      <td>0.241627</td>\n",
       "      <td>-1.034646</td>\n",
       "      <td>-0.836399</td>\n",
       "      <td>42</td>\n",
       "      <td>1000</td>\n",
       "    </tr>\n",
       "    <tr>\n",
       "      <th>2018-06-01</th>\n",
       "      <td>0.266433</td>\n",
       "      <td>0.497163</td>\n",
       "      <td>0.169295</td>\n",
       "      <td>-1.463903</td>\n",
       "      <td>0.920211</td>\n",
       "      <td>42</td>\n",
       "      <td>1331</td>\n",
       "    </tr>\n",
       "    <tr>\n",
       "      <th>2018-06-02</th>\n",
       "      <td>-0.399290</td>\n",
       "      <td>-0.513238</td>\n",
       "      <td>-1.466636</td>\n",
       "      <td>-0.517236</td>\n",
       "      <td>0.396924</td>\n",
       "      <td>42</td>\n",
       "      <td>1728</td>\n",
       "    </tr>\n",
       "    <tr>\n",
       "      <th>2018-06-03</th>\n",
       "      <td>0.651787</td>\n",
       "      <td>-0.265913</td>\n",
       "      <td>0.271687</td>\n",
       "      <td>0.711061</td>\n",
       "      <td>1.030110</td>\n",
       "      <td>42</td>\n",
       "      <td>2197</td>\n",
       "    </tr>\n",
       "    <tr>\n",
       "      <th>2018-06-04</th>\n",
       "      <td>-1.147195</td>\n",
       "      <td>0.217811</td>\n",
       "      <td>1.386582</td>\n",
       "      <td>0.214082</td>\n",
       "      <td>-1.731895</td>\n",
       "      <td>42</td>\n",
       "      <td>2744</td>\n",
       "    </tr>\n",
       "  </tbody>\n",
       "</table>\n",
       "</div>"
      ],
      "text/plain": [
       "                    A         B         C         D         E   F     G\n",
       "2018-05-21   0.721049  0.019420  0.532527 -0.858175  1.739109  42     0\n",
       "2018-05-22  33.000000 -0.557334  0.442134  1.336626  0.370737  42     1\n",
       "2018-05-23   0.631718  0.391248 -0.016768  1.385145 -0.930659  42     8\n",
       "2018-05-24   0.867740  0.553484 -0.921000  0.483510  0.525265  42    27\n",
       "2018-05-25   1.648864  1.821448 -2.168256  1.873933 -1.621497  42    64\n",
       "2018-05-26  -0.138812  2.426672 -0.713728  0.858514 -0.311827  42   125\n",
       "2018-05-27  -0.578854 -1.799046 -0.013709  0.491469 -0.169685  42   216\n",
       "2018-05-28   0.328426 -0.057727  1.072547  0.177570  0.642694  42   343\n",
       "2018-05-29  -0.233350 -0.494728 -0.145300  2.131749 -0.950209  42   512\n",
       "2018-05-30   1.018628 -0.441224 -0.810934 -3.808978  0.714674  42   729\n",
       "2018-05-31   1.126841 -1.340706  0.241627 -1.034646 -0.836399  42  1000\n",
       "2018-06-01   0.266433  0.497163  0.169295 -1.463903  0.920211  42  1331\n",
       "2018-06-02  -0.399290 -0.513238 -1.466636 -0.517236  0.396924  42  1728\n",
       "2018-06-03   0.651787 -0.265913  0.271687  0.711061  1.030110  42  2197\n",
       "2018-06-04  -1.147195  0.217811  1.386582  0.214082 -1.731895  42  2744"
      ]
     },
     "execution_count": 110,
     "metadata": {},
     "output_type": "execute_result"
    }
   ],
   "source": [
    "df.at[dates[1], 'A'] = 33\n",
    "df"
   ]
  },
  {
   "cell_type": "code",
   "execution_count": 111,
   "metadata": {},
   "outputs": [
    {
     "data": {
      "text/html": [
       "<div>\n",
       "<style scoped>\n",
       "    .dataframe tbody tr th:only-of-type {\n",
       "        vertical-align: middle;\n",
       "    }\n",
       "\n",
       "    .dataframe tbody tr th {\n",
       "        vertical-align: top;\n",
       "    }\n",
       "\n",
       "    .dataframe thead th {\n",
       "        text-align: right;\n",
       "    }\n",
       "</style>\n",
       "<table border=\"1\" class=\"dataframe\">\n",
       "  <thead>\n",
       "    <tr style=\"text-align: right;\">\n",
       "      <th></th>\n",
       "      <th>A</th>\n",
       "      <th>B</th>\n",
       "      <th>C</th>\n",
       "      <th>D</th>\n",
       "      <th>E</th>\n",
       "      <th>F</th>\n",
       "      <th>G</th>\n",
       "    </tr>\n",
       "  </thead>\n",
       "  <tbody>\n",
       "    <tr>\n",
       "      <th>2018-05-21</th>\n",
       "      <td>0.721049</td>\n",
       "      <td>0.019420</td>\n",
       "      <td>0.532527</td>\n",
       "      <td>-0.858175</td>\n",
       "      <td>1.739109</td>\n",
       "      <td>42</td>\n",
       "      <td>0</td>\n",
       "    </tr>\n",
       "    <tr>\n",
       "      <th>2018-05-22</th>\n",
       "      <td>33.000000</td>\n",
       "      <td>-0.557334</td>\n",
       "      <td>0.442134</td>\n",
       "      <td>1.336626</td>\n",
       "      <td>0.370737</td>\n",
       "      <td>42</td>\n",
       "      <td>1</td>\n",
       "    </tr>\n",
       "    <tr>\n",
       "      <th>2018-05-23</th>\n",
       "      <td>0.631718</td>\n",
       "      <td>0.391248</td>\n",
       "      <td>-0.016768</td>\n",
       "      <td>1.385145</td>\n",
       "      <td>-0.930659</td>\n",
       "      <td>42</td>\n",
       "      <td>8</td>\n",
       "    </tr>\n",
       "    <tr>\n",
       "      <th>2018-05-24</th>\n",
       "      <td>0.867740</td>\n",
       "      <td>0.553484</td>\n",
       "      <td>-0.921000</td>\n",
       "      <td>0.483510</td>\n",
       "      <td>0.525265</td>\n",
       "      <td>42</td>\n",
       "      <td>27</td>\n",
       "    </tr>\n",
       "    <tr>\n",
       "      <th>2018-05-25</th>\n",
       "      <td>1.648864</td>\n",
       "      <td>1.821448</td>\n",
       "      <td>-2.168256</td>\n",
       "      <td>1.873933</td>\n",
       "      <td>42.000000</td>\n",
       "      <td>42</td>\n",
       "      <td>64</td>\n",
       "    </tr>\n",
       "    <tr>\n",
       "      <th>2018-05-26</th>\n",
       "      <td>-0.138812</td>\n",
       "      <td>2.426672</td>\n",
       "      <td>-0.713728</td>\n",
       "      <td>0.858514</td>\n",
       "      <td>-0.311827</td>\n",
       "      <td>42</td>\n",
       "      <td>125</td>\n",
       "    </tr>\n",
       "    <tr>\n",
       "      <th>2018-05-27</th>\n",
       "      <td>-0.578854</td>\n",
       "      <td>-1.799046</td>\n",
       "      <td>-0.013709</td>\n",
       "      <td>0.491469</td>\n",
       "      <td>-0.169685</td>\n",
       "      <td>42</td>\n",
       "      <td>216</td>\n",
       "    </tr>\n",
       "    <tr>\n",
       "      <th>2018-05-28</th>\n",
       "      <td>0.328426</td>\n",
       "      <td>-0.057727</td>\n",
       "      <td>1.072547</td>\n",
       "      <td>0.177570</td>\n",
       "      <td>0.642694</td>\n",
       "      <td>42</td>\n",
       "      <td>343</td>\n",
       "    </tr>\n",
       "    <tr>\n",
       "      <th>2018-05-29</th>\n",
       "      <td>-0.233350</td>\n",
       "      <td>-0.494728</td>\n",
       "      <td>-0.145300</td>\n",
       "      <td>2.131749</td>\n",
       "      <td>-0.950209</td>\n",
       "      <td>42</td>\n",
       "      <td>512</td>\n",
       "    </tr>\n",
       "    <tr>\n",
       "      <th>2018-05-30</th>\n",
       "      <td>1.018628</td>\n",
       "      <td>-0.441224</td>\n",
       "      <td>-0.810934</td>\n",
       "      <td>-3.808978</td>\n",
       "      <td>0.714674</td>\n",
       "      <td>42</td>\n",
       "      <td>729</td>\n",
       "    </tr>\n",
       "    <tr>\n",
       "      <th>2018-05-31</th>\n",
       "      <td>1.126841</td>\n",
       "      <td>-1.340706</td>\n",
       "      <td>0.241627</td>\n",
       "      <td>-1.034646</td>\n",
       "      <td>-0.836399</td>\n",
       "      <td>42</td>\n",
       "      <td>1000</td>\n",
       "    </tr>\n",
       "    <tr>\n",
       "      <th>2018-06-01</th>\n",
       "      <td>0.266433</td>\n",
       "      <td>0.497163</td>\n",
       "      <td>0.169295</td>\n",
       "      <td>-1.463903</td>\n",
       "      <td>0.920211</td>\n",
       "      <td>42</td>\n",
       "      <td>1331</td>\n",
       "    </tr>\n",
       "    <tr>\n",
       "      <th>2018-06-02</th>\n",
       "      <td>-0.399290</td>\n",
       "      <td>-0.513238</td>\n",
       "      <td>-1.466636</td>\n",
       "      <td>-0.517236</td>\n",
       "      <td>0.396924</td>\n",
       "      <td>42</td>\n",
       "      <td>1728</td>\n",
       "    </tr>\n",
       "    <tr>\n",
       "      <th>2018-06-03</th>\n",
       "      <td>0.651787</td>\n",
       "      <td>-0.265913</td>\n",
       "      <td>0.271687</td>\n",
       "      <td>0.711061</td>\n",
       "      <td>1.030110</td>\n",
       "      <td>42</td>\n",
       "      <td>2197</td>\n",
       "    </tr>\n",
       "    <tr>\n",
       "      <th>2018-06-04</th>\n",
       "      <td>-1.147195</td>\n",
       "      <td>0.217811</td>\n",
       "      <td>1.386582</td>\n",
       "      <td>0.214082</td>\n",
       "      <td>-1.731895</td>\n",
       "      <td>42</td>\n",
       "      <td>2744</td>\n",
       "    </tr>\n",
       "  </tbody>\n",
       "</table>\n",
       "</div>"
      ],
      "text/plain": [
       "                    A         B         C         D          E   F     G\n",
       "2018-05-21   0.721049  0.019420  0.532527 -0.858175   1.739109  42     0\n",
       "2018-05-22  33.000000 -0.557334  0.442134  1.336626   0.370737  42     1\n",
       "2018-05-23   0.631718  0.391248 -0.016768  1.385145  -0.930659  42     8\n",
       "2018-05-24   0.867740  0.553484 -0.921000  0.483510   0.525265  42    27\n",
       "2018-05-25   1.648864  1.821448 -2.168256  1.873933  42.000000  42    64\n",
       "2018-05-26  -0.138812  2.426672 -0.713728  0.858514  -0.311827  42   125\n",
       "2018-05-27  -0.578854 -1.799046 -0.013709  0.491469  -0.169685  42   216\n",
       "2018-05-28   0.328426 -0.057727  1.072547  0.177570   0.642694  42   343\n",
       "2018-05-29  -0.233350 -0.494728 -0.145300  2.131749  -0.950209  42   512\n",
       "2018-05-30   1.018628 -0.441224 -0.810934 -3.808978   0.714674  42   729\n",
       "2018-05-31   1.126841 -1.340706  0.241627 -1.034646  -0.836399  42  1000\n",
       "2018-06-01   0.266433  0.497163  0.169295 -1.463903   0.920211  42  1331\n",
       "2018-06-02  -0.399290 -0.513238 -1.466636 -0.517236   0.396924  42  1728\n",
       "2018-06-03   0.651787 -0.265913  0.271687  0.711061   1.030110  42  2197\n",
       "2018-06-04  -1.147195  0.217811  1.386582  0.214082  -1.731895  42  2744"
      ]
     },
     "execution_count": 111,
     "metadata": {},
     "output_type": "execute_result"
    }
   ],
   "source": [
    "df.iat[4,4]= 42\n",
    "df"
   ]
  },
  {
   "cell_type": "code",
   "execution_count": 112,
   "metadata": {},
   "outputs": [
    {
     "data": {
      "text/html": [
       "<div>\n",
       "<style scoped>\n",
       "    .dataframe tbody tr th:only-of-type {\n",
       "        vertical-align: middle;\n",
       "    }\n",
       "\n",
       "    .dataframe tbody tr th {\n",
       "        vertical-align: top;\n",
       "    }\n",
       "\n",
       "    .dataframe thead th {\n",
       "        text-align: right;\n",
       "    }\n",
       "</style>\n",
       "<table border=\"1\" class=\"dataframe\">\n",
       "  <thead>\n",
       "    <tr style=\"text-align: right;\">\n",
       "      <th></th>\n",
       "      <th>A</th>\n",
       "      <th>B</th>\n",
       "      <th>C</th>\n",
       "      <th>D</th>\n",
       "      <th>E</th>\n",
       "      <th>F</th>\n",
       "      <th>G</th>\n",
       "    </tr>\n",
       "  </thead>\n",
       "  <tbody>\n",
       "    <tr>\n",
       "      <th>2018-05-21</th>\n",
       "      <td>0.721049</td>\n",
       "      <td>0.019420</td>\n",
       "      <td>0.532527</td>\n",
       "      <td>-0.858175</td>\n",
       "      <td>1.739109</td>\n",
       "      <td>42</td>\n",
       "      <td>0</td>\n",
       "    </tr>\n",
       "    <tr>\n",
       "      <th>2018-05-22</th>\n",
       "      <td>33.000000</td>\n",
       "      <td>-0.557334</td>\n",
       "      <td>0.442134</td>\n",
       "      <td>1.336626</td>\n",
       "      <td>0.370737</td>\n",
       "      <td>42</td>\n",
       "      <td>1</td>\n",
       "    </tr>\n",
       "    <tr>\n",
       "      <th>2018-05-23</th>\n",
       "      <td>0.631718</td>\n",
       "      <td>0.391248</td>\n",
       "      <td>-0.016768</td>\n",
       "      <td>1.385145</td>\n",
       "      <td>-0.930659</td>\n",
       "      <td>42</td>\n",
       "      <td>8</td>\n",
       "    </tr>\n",
       "    <tr>\n",
       "      <th>2018-05-24</th>\n",
       "      <td>0.867740</td>\n",
       "      <td>0.553484</td>\n",
       "      <td>-0.921000</td>\n",
       "      <td>0.483510</td>\n",
       "      <td>0.525265</td>\n",
       "      <td>42</td>\n",
       "      <td>27</td>\n",
       "    </tr>\n",
       "    <tr>\n",
       "      <th>2018-05-25</th>\n",
       "      <td>1.648864</td>\n",
       "      <td>1.821448</td>\n",
       "      <td>-2.168256</td>\n",
       "      <td>1.873933</td>\n",
       "      <td>42.000000</td>\n",
       "      <td>42</td>\n",
       "      <td>64</td>\n",
       "    </tr>\n",
       "    <tr>\n",
       "      <th>2018-05-26</th>\n",
       "      <td>-0.138812</td>\n",
       "      <td>2.426672</td>\n",
       "      <td>-0.713728</td>\n",
       "      <td>0.858514</td>\n",
       "      <td>-0.311827</td>\n",
       "      <td>42</td>\n",
       "      <td>125</td>\n",
       "    </tr>\n",
       "    <tr>\n",
       "      <th>2018-05-27</th>\n",
       "      <td>-0.578854</td>\n",
       "      <td>-1.799046</td>\n",
       "      <td>-0.013709</td>\n",
       "      <td>0.491469</td>\n",
       "      <td>-0.169685</td>\n",
       "      <td>42</td>\n",
       "      <td>216</td>\n",
       "    </tr>\n",
       "    <tr>\n",
       "      <th>2018-05-28</th>\n",
       "      <td>0.328426</td>\n",
       "      <td>-0.057727</td>\n",
       "      <td>1.072547</td>\n",
       "      <td>0.177570</td>\n",
       "      <td>0.642694</td>\n",
       "      <td>42</td>\n",
       "      <td>343</td>\n",
       "    </tr>\n",
       "    <tr>\n",
       "      <th>2018-05-29</th>\n",
       "      <td>-0.233350</td>\n",
       "      <td>-0.494728</td>\n",
       "      <td>-0.145300</td>\n",
       "      <td>2.131749</td>\n",
       "      <td>-0.950209</td>\n",
       "      <td>42</td>\n",
       "      <td>512</td>\n",
       "    </tr>\n",
       "    <tr>\n",
       "      <th>2018-05-30</th>\n",
       "      <td>1.018628</td>\n",
       "      <td>-0.441224</td>\n",
       "      <td>-0.810934</td>\n",
       "      <td>-3.808978</td>\n",
       "      <td>0.714674</td>\n",
       "      <td>42</td>\n",
       "      <td>729</td>\n",
       "    </tr>\n",
       "    <tr>\n",
       "      <th>2018-05-31</th>\n",
       "      <td>1.126841</td>\n",
       "      <td>-1.340706</td>\n",
       "      <td>0.241627</td>\n",
       "      <td>-1.034646</td>\n",
       "      <td>-0.836399</td>\n",
       "      <td>42</td>\n",
       "      <td>1000</td>\n",
       "    </tr>\n",
       "    <tr>\n",
       "      <th>2018-06-01</th>\n",
       "      <td>0.266433</td>\n",
       "      <td>0.497163</td>\n",
       "      <td>0.169295</td>\n",
       "      <td>-1.463903</td>\n",
       "      <td>0.920211</td>\n",
       "      <td>42</td>\n",
       "      <td>1331</td>\n",
       "    </tr>\n",
       "    <tr>\n",
       "      <th>2018-06-02</th>\n",
       "      <td>-0.399290</td>\n",
       "      <td>-0.513238</td>\n",
       "      <td>-1.466636</td>\n",
       "      <td>-0.517236</td>\n",
       "      <td>0.396924</td>\n",
       "      <td>42</td>\n",
       "      <td>1728</td>\n",
       "    </tr>\n",
       "    <tr>\n",
       "      <th>2018-06-03</th>\n",
       "      <td>0.651787</td>\n",
       "      <td>-0.265913</td>\n",
       "      <td>0.271687</td>\n",
       "      <td>0.711061</td>\n",
       "      <td>1.030110</td>\n",
       "      <td>42</td>\n",
       "      <td>2197</td>\n",
       "    </tr>\n",
       "    <tr>\n",
       "      <th>2018-06-04</th>\n",
       "      <td>-1.147195</td>\n",
       "      <td>0.217811</td>\n",
       "      <td>1.386582</td>\n",
       "      <td>0.214082</td>\n",
       "      <td>-1.731895</td>\n",
       "      <td>42</td>\n",
       "      <td>2744</td>\n",
       "    </tr>\n",
       "  </tbody>\n",
       "</table>\n",
       "</div>"
      ],
      "text/plain": [
       "                    A         B         C         D          E   F     G\n",
       "2018-05-21   0.721049  0.019420  0.532527 -0.858175   1.739109  42     0\n",
       "2018-05-22  33.000000 -0.557334  0.442134  1.336626   0.370737  42     1\n",
       "2018-05-23   0.631718  0.391248 -0.016768  1.385145  -0.930659  42     8\n",
       "2018-05-24   0.867740  0.553484 -0.921000  0.483510   0.525265  42    27\n",
       "2018-05-25   1.648864  1.821448 -2.168256  1.873933  42.000000  42    64\n",
       "2018-05-26  -0.138812  2.426672 -0.713728  0.858514  -0.311827  42   125\n",
       "2018-05-27  -0.578854 -1.799046 -0.013709  0.491469  -0.169685  42   216\n",
       "2018-05-28   0.328426 -0.057727  1.072547  0.177570   0.642694  42   343\n",
       "2018-05-29  -0.233350 -0.494728 -0.145300  2.131749  -0.950209  42   512\n",
       "2018-05-30   1.018628 -0.441224 -0.810934 -3.808978   0.714674  42   729\n",
       "2018-05-31   1.126841 -1.340706  0.241627 -1.034646  -0.836399  42  1000\n",
       "2018-06-01   0.266433  0.497163  0.169295 -1.463903   0.920211  42  1331\n",
       "2018-06-02  -0.399290 -0.513238 -1.466636 -0.517236   0.396924  42  1728\n",
       "2018-06-03   0.651787 -0.265913  0.271687  0.711061   1.030110  42  2197\n",
       "2018-06-04  -1.147195  0.217811  1.386582  0.214082  -1.731895  42  2744"
      ]
     },
     "execution_count": 112,
     "metadata": {},
     "output_type": "execute_result"
    }
   ],
   "source": [
    "df3 = df.copy()\n",
    "df3"
   ]
  },
  {
   "cell_type": "code",
   "execution_count": 113,
   "metadata": {},
   "outputs": [
    {
     "data": {
      "text/html": [
       "<div>\n",
       "<style scoped>\n",
       "    .dataframe tbody tr th:only-of-type {\n",
       "        vertical-align: middle;\n",
       "    }\n",
       "\n",
       "    .dataframe tbody tr th {\n",
       "        vertical-align: top;\n",
       "    }\n",
       "\n",
       "    .dataframe thead th {\n",
       "        text-align: right;\n",
       "    }\n",
       "</style>\n",
       "<table border=\"1\" class=\"dataframe\">\n",
       "  <thead>\n",
       "    <tr style=\"text-align: right;\">\n",
       "      <th></th>\n",
       "      <th>A</th>\n",
       "      <th>B</th>\n",
       "      <th>C</th>\n",
       "      <th>D</th>\n",
       "      <th>E</th>\n",
       "      <th>F</th>\n",
       "      <th>G</th>\n",
       "    </tr>\n",
       "  </thead>\n",
       "  <tbody>\n",
       "    <tr>\n",
       "      <th>2018-05-21</th>\n",
       "      <td>-0.721049</td>\n",
       "      <td>0.019420</td>\n",
       "      <td>-0.532527</td>\n",
       "      <td>-0.858175</td>\n",
       "      <td>-1.739109</td>\n",
       "      <td>-42</td>\n",
       "      <td>0</td>\n",
       "    </tr>\n",
       "    <tr>\n",
       "      <th>2018-05-22</th>\n",
       "      <td>-33.000000</td>\n",
       "      <td>-0.557334</td>\n",
       "      <td>-0.442134</td>\n",
       "      <td>-1.336626</td>\n",
       "      <td>-0.370737</td>\n",
       "      <td>-42</td>\n",
       "      <td>-1</td>\n",
       "    </tr>\n",
       "    <tr>\n",
       "      <th>2018-05-23</th>\n",
       "      <td>-0.631718</td>\n",
       "      <td>-0.391248</td>\n",
       "      <td>-0.016768</td>\n",
       "      <td>-1.385145</td>\n",
       "      <td>-0.930659</td>\n",
       "      <td>-42</td>\n",
       "      <td>-8</td>\n",
       "    </tr>\n",
       "    <tr>\n",
       "      <th>2018-05-24</th>\n",
       "      <td>-0.867740</td>\n",
       "      <td>-0.553484</td>\n",
       "      <td>-0.921000</td>\n",
       "      <td>-0.483510</td>\n",
       "      <td>-0.525265</td>\n",
       "      <td>-42</td>\n",
       "      <td>-27</td>\n",
       "    </tr>\n",
       "    <tr>\n",
       "      <th>2018-05-25</th>\n",
       "      <td>-1.648864</td>\n",
       "      <td>-1.821448</td>\n",
       "      <td>-2.168256</td>\n",
       "      <td>-1.873933</td>\n",
       "      <td>-42.000000</td>\n",
       "      <td>-42</td>\n",
       "      <td>-64</td>\n",
       "    </tr>\n",
       "    <tr>\n",
       "      <th>2018-05-26</th>\n",
       "      <td>-0.138812</td>\n",
       "      <td>-2.426672</td>\n",
       "      <td>-0.713728</td>\n",
       "      <td>-0.858514</td>\n",
       "      <td>-0.311827</td>\n",
       "      <td>-42</td>\n",
       "      <td>-125</td>\n",
       "    </tr>\n",
       "    <tr>\n",
       "      <th>2018-05-27</th>\n",
       "      <td>-0.578854</td>\n",
       "      <td>-1.799046</td>\n",
       "      <td>-0.013709</td>\n",
       "      <td>-0.491469</td>\n",
       "      <td>-0.169685</td>\n",
       "      <td>-42</td>\n",
       "      <td>-216</td>\n",
       "    </tr>\n",
       "    <tr>\n",
       "      <th>2018-05-28</th>\n",
       "      <td>-0.328426</td>\n",
       "      <td>-0.057727</td>\n",
       "      <td>-1.072547</td>\n",
       "      <td>0.177570</td>\n",
       "      <td>-0.642694</td>\n",
       "      <td>-42</td>\n",
       "      <td>-343</td>\n",
       "    </tr>\n",
       "    <tr>\n",
       "      <th>2018-05-29</th>\n",
       "      <td>-0.233350</td>\n",
       "      <td>-0.494728</td>\n",
       "      <td>-0.145300</td>\n",
       "      <td>-2.131749</td>\n",
       "      <td>-0.950209</td>\n",
       "      <td>-42</td>\n",
       "      <td>-512</td>\n",
       "    </tr>\n",
       "    <tr>\n",
       "      <th>2018-05-30</th>\n",
       "      <td>-1.018628</td>\n",
       "      <td>-0.441224</td>\n",
       "      <td>-0.810934</td>\n",
       "      <td>-3.808978</td>\n",
       "      <td>-0.714674</td>\n",
       "      <td>-42</td>\n",
       "      <td>-729</td>\n",
       "    </tr>\n",
       "    <tr>\n",
       "      <th>2018-05-31</th>\n",
       "      <td>-1.126841</td>\n",
       "      <td>-1.340706</td>\n",
       "      <td>-0.241627</td>\n",
       "      <td>-1.034646</td>\n",
       "      <td>-0.836399</td>\n",
       "      <td>-42</td>\n",
       "      <td>-1000</td>\n",
       "    </tr>\n",
       "    <tr>\n",
       "      <th>2018-06-01</th>\n",
       "      <td>-0.266433</td>\n",
       "      <td>-0.497163</td>\n",
       "      <td>0.169295</td>\n",
       "      <td>-1.463903</td>\n",
       "      <td>-0.920211</td>\n",
       "      <td>-42</td>\n",
       "      <td>-1331</td>\n",
       "    </tr>\n",
       "    <tr>\n",
       "      <th>2018-06-02</th>\n",
       "      <td>-0.399290</td>\n",
       "      <td>-0.513238</td>\n",
       "      <td>-1.466636</td>\n",
       "      <td>-0.517236</td>\n",
       "      <td>-0.396924</td>\n",
       "      <td>-42</td>\n",
       "      <td>-1728</td>\n",
       "    </tr>\n",
       "    <tr>\n",
       "      <th>2018-06-03</th>\n",
       "      <td>-0.651787</td>\n",
       "      <td>-0.265913</td>\n",
       "      <td>-0.271687</td>\n",
       "      <td>-0.711061</td>\n",
       "      <td>-1.030110</td>\n",
       "      <td>-42</td>\n",
       "      <td>-2197</td>\n",
       "    </tr>\n",
       "    <tr>\n",
       "      <th>2018-06-04</th>\n",
       "      <td>-1.147195</td>\n",
       "      <td>-0.217811</td>\n",
       "      <td>-1.386582</td>\n",
       "      <td>-0.214082</td>\n",
       "      <td>-1.731895</td>\n",
       "      <td>-42</td>\n",
       "      <td>-2744</td>\n",
       "    </tr>\n",
       "  </tbody>\n",
       "</table>\n",
       "</div>"
      ],
      "text/plain": [
       "                    A         B         C         D          E   F     G\n",
       "2018-05-21  -0.721049  0.019420 -0.532527 -0.858175  -1.739109 -42     0\n",
       "2018-05-22 -33.000000 -0.557334 -0.442134 -1.336626  -0.370737 -42    -1\n",
       "2018-05-23  -0.631718 -0.391248 -0.016768 -1.385145  -0.930659 -42    -8\n",
       "2018-05-24  -0.867740 -0.553484 -0.921000 -0.483510  -0.525265 -42   -27\n",
       "2018-05-25  -1.648864 -1.821448 -2.168256 -1.873933 -42.000000 -42   -64\n",
       "2018-05-26  -0.138812 -2.426672 -0.713728 -0.858514  -0.311827 -42  -125\n",
       "2018-05-27  -0.578854 -1.799046 -0.013709 -0.491469  -0.169685 -42  -216\n",
       "2018-05-28  -0.328426 -0.057727 -1.072547  0.177570  -0.642694 -42  -343\n",
       "2018-05-29  -0.233350 -0.494728 -0.145300 -2.131749  -0.950209 -42  -512\n",
       "2018-05-30  -1.018628 -0.441224 -0.810934 -3.808978  -0.714674 -42  -729\n",
       "2018-05-31  -1.126841 -1.340706 -0.241627 -1.034646  -0.836399 -42 -1000\n",
       "2018-06-01  -0.266433 -0.497163  0.169295 -1.463903  -0.920211 -42 -1331\n",
       "2018-06-02  -0.399290 -0.513238 -1.466636 -0.517236  -0.396924 -42 -1728\n",
       "2018-06-03  -0.651787 -0.265913 -0.271687 -0.711061  -1.030110 -42 -2197\n",
       "2018-06-04  -1.147195 -0.217811 -1.386582 -0.214082  -1.731895 -42 -2744"
      ]
     },
     "execution_count": 113,
     "metadata": {},
     "output_type": "execute_result"
    }
   ],
   "source": [
    "df3[df3 > 0.2 ] = -df3\n",
    "df3"
   ]
  },
  {
   "cell_type": "code",
   "execution_count": null,
   "metadata": {},
   "outputs": [],
   "source": [
    "# Missing Data\n",
    "# pandas primarily uses the value np.nan to represent missing data. \n",
    "# It is by default not included in computations."
   ]
  },
  {
   "cell_type": "code",
   "execution_count": 114,
   "metadata": {},
   "outputs": [
    {
     "data": {
      "text/html": [
       "<div>\n",
       "<style scoped>\n",
       "    .dataframe tbody tr th:only-of-type {\n",
       "        vertical-align: middle;\n",
       "    }\n",
       "\n",
       "    .dataframe tbody tr th {\n",
       "        vertical-align: top;\n",
       "    }\n",
       "\n",
       "    .dataframe thead th {\n",
       "        text-align: right;\n",
       "    }\n",
       "</style>\n",
       "<table border=\"1\" class=\"dataframe\">\n",
       "  <thead>\n",
       "    <tr style=\"text-align: right;\">\n",
       "      <th></th>\n",
       "      <th>A</th>\n",
       "      <th>B</th>\n",
       "      <th>C</th>\n",
       "      <th>D</th>\n",
       "      <th>E</th>\n",
       "      <th>F</th>\n",
       "      <th>G</th>\n",
       "      <th>H</th>\n",
       "    </tr>\n",
       "  </thead>\n",
       "  <tbody>\n",
       "    <tr>\n",
       "      <th>2018-05-21</th>\n",
       "      <td>0.721049</td>\n",
       "      <td>0.019420</td>\n",
       "      <td>0.532527</td>\n",
       "      <td>-0.858175</td>\n",
       "      <td>1.739109</td>\n",
       "      <td>42</td>\n",
       "      <td>0</td>\n",
       "      <td>NaN</td>\n",
       "    </tr>\n",
       "    <tr>\n",
       "      <th>2018-05-22</th>\n",
       "      <td>33.000000</td>\n",
       "      <td>-0.557334</td>\n",
       "      <td>0.442134</td>\n",
       "      <td>1.336626</td>\n",
       "      <td>0.370737</td>\n",
       "      <td>42</td>\n",
       "      <td>1</td>\n",
       "      <td>NaN</td>\n",
       "    </tr>\n",
       "    <tr>\n",
       "      <th>2018-05-23</th>\n",
       "      <td>0.631718</td>\n",
       "      <td>0.391248</td>\n",
       "      <td>-0.016768</td>\n",
       "      <td>1.385145</td>\n",
       "      <td>-0.930659</td>\n",
       "      <td>42</td>\n",
       "      <td>8</td>\n",
       "      <td>NaN</td>\n",
       "    </tr>\n",
       "    <tr>\n",
       "      <th>2018-05-24</th>\n",
       "      <td>0.867740</td>\n",
       "      <td>0.553484</td>\n",
       "      <td>-0.921000</td>\n",
       "      <td>0.483510</td>\n",
       "      <td>0.525265</td>\n",
       "      <td>42</td>\n",
       "      <td>27</td>\n",
       "      <td>NaN</td>\n",
       "    </tr>\n",
       "    <tr>\n",
       "      <th>2018-05-25</th>\n",
       "      <td>1.648864</td>\n",
       "      <td>1.821448</td>\n",
       "      <td>-2.168256</td>\n",
       "      <td>1.873933</td>\n",
       "      <td>42.000000</td>\n",
       "      <td>42</td>\n",
       "      <td>64</td>\n",
       "      <td>NaN</td>\n",
       "    </tr>\n",
       "    <tr>\n",
       "      <th>2018-05-26</th>\n",
       "      <td>-0.138812</td>\n",
       "      <td>2.426672</td>\n",
       "      <td>-0.713728</td>\n",
       "      <td>0.858514</td>\n",
       "      <td>-0.311827</td>\n",
       "      <td>42</td>\n",
       "      <td>125</td>\n",
       "      <td>NaN</td>\n",
       "    </tr>\n",
       "    <tr>\n",
       "      <th>2018-05-27</th>\n",
       "      <td>-0.578854</td>\n",
       "      <td>-1.799046</td>\n",
       "      <td>-0.013709</td>\n",
       "      <td>0.491469</td>\n",
       "      <td>-0.169685</td>\n",
       "      <td>42</td>\n",
       "      <td>216</td>\n",
       "      <td>NaN</td>\n",
       "    </tr>\n",
       "    <tr>\n",
       "      <th>2018-05-28</th>\n",
       "      <td>0.328426</td>\n",
       "      <td>-0.057727</td>\n",
       "      <td>1.072547</td>\n",
       "      <td>0.177570</td>\n",
       "      <td>0.642694</td>\n",
       "      <td>42</td>\n",
       "      <td>343</td>\n",
       "      <td>NaN</td>\n",
       "    </tr>\n",
       "    <tr>\n",
       "      <th>2018-05-29</th>\n",
       "      <td>-0.233350</td>\n",
       "      <td>-0.494728</td>\n",
       "      <td>-0.145300</td>\n",
       "      <td>2.131749</td>\n",
       "      <td>-0.950209</td>\n",
       "      <td>42</td>\n",
       "      <td>512</td>\n",
       "      <td>NaN</td>\n",
       "    </tr>\n",
       "    <tr>\n",
       "      <th>2018-05-30</th>\n",
       "      <td>1.018628</td>\n",
       "      <td>-0.441224</td>\n",
       "      <td>-0.810934</td>\n",
       "      <td>-3.808978</td>\n",
       "      <td>0.714674</td>\n",
       "      <td>42</td>\n",
       "      <td>729</td>\n",
       "      <td>NaN</td>\n",
       "    </tr>\n",
       "    <tr>\n",
       "      <th>2018-05-31</th>\n",
       "      <td>1.126841</td>\n",
       "      <td>-1.340706</td>\n",
       "      <td>0.241627</td>\n",
       "      <td>-1.034646</td>\n",
       "      <td>-0.836399</td>\n",
       "      <td>42</td>\n",
       "      <td>1000</td>\n",
       "      <td>NaN</td>\n",
       "    </tr>\n",
       "    <tr>\n",
       "      <th>2018-06-01</th>\n",
       "      <td>0.266433</td>\n",
       "      <td>0.497163</td>\n",
       "      <td>0.169295</td>\n",
       "      <td>-1.463903</td>\n",
       "      <td>0.920211</td>\n",
       "      <td>42</td>\n",
       "      <td>1331</td>\n",
       "      <td>NaN</td>\n",
       "    </tr>\n",
       "    <tr>\n",
       "      <th>2018-06-02</th>\n",
       "      <td>-0.399290</td>\n",
       "      <td>-0.513238</td>\n",
       "      <td>-1.466636</td>\n",
       "      <td>-0.517236</td>\n",
       "      <td>0.396924</td>\n",
       "      <td>42</td>\n",
       "      <td>1728</td>\n",
       "      <td>NaN</td>\n",
       "    </tr>\n",
       "    <tr>\n",
       "      <th>2018-06-03</th>\n",
       "      <td>0.651787</td>\n",
       "      <td>-0.265913</td>\n",
       "      <td>0.271687</td>\n",
       "      <td>0.711061</td>\n",
       "      <td>1.030110</td>\n",
       "      <td>42</td>\n",
       "      <td>2197</td>\n",
       "      <td>NaN</td>\n",
       "    </tr>\n",
       "    <tr>\n",
       "      <th>2018-06-04</th>\n",
       "      <td>-1.147195</td>\n",
       "      <td>0.217811</td>\n",
       "      <td>1.386582</td>\n",
       "      <td>0.214082</td>\n",
       "      <td>-1.731895</td>\n",
       "      <td>42</td>\n",
       "      <td>2744</td>\n",
       "      <td>NaN</td>\n",
       "    </tr>\n",
       "  </tbody>\n",
       "</table>\n",
       "</div>"
      ],
      "text/plain": [
       "                    A         B         C         D          E   F     G   H\n",
       "2018-05-21   0.721049  0.019420  0.532527 -0.858175   1.739109  42     0 NaN\n",
       "2018-05-22  33.000000 -0.557334  0.442134  1.336626   0.370737  42     1 NaN\n",
       "2018-05-23   0.631718  0.391248 -0.016768  1.385145  -0.930659  42     8 NaN\n",
       "2018-05-24   0.867740  0.553484 -0.921000  0.483510   0.525265  42    27 NaN\n",
       "2018-05-25   1.648864  1.821448 -2.168256  1.873933  42.000000  42    64 NaN\n",
       "2018-05-26  -0.138812  2.426672 -0.713728  0.858514  -0.311827  42   125 NaN\n",
       "2018-05-27  -0.578854 -1.799046 -0.013709  0.491469  -0.169685  42   216 NaN\n",
       "2018-05-28   0.328426 -0.057727  1.072547  0.177570   0.642694  42   343 NaN\n",
       "2018-05-29  -0.233350 -0.494728 -0.145300  2.131749  -0.950209  42   512 NaN\n",
       "2018-05-30   1.018628 -0.441224 -0.810934 -3.808978   0.714674  42   729 NaN\n",
       "2018-05-31   1.126841 -1.340706  0.241627 -1.034646  -0.836399  42  1000 NaN\n",
       "2018-06-01   0.266433  0.497163  0.169295 -1.463903   0.920211  42  1331 NaN\n",
       "2018-06-02  -0.399290 -0.513238 -1.466636 -0.517236   0.396924  42  1728 NaN\n",
       "2018-06-03   0.651787 -0.265913  0.271687  0.711061   1.030110  42  2197 NaN\n",
       "2018-06-04  -1.147195  0.217811  1.386582  0.214082  -1.731895  42  2744 NaN"
      ]
     },
     "execution_count": 114,
     "metadata": {},
     "output_type": "execute_result"
    }
   ],
   "source": [
    "df['H'] = np.nan\n",
    "df"
   ]
  },
  {
   "cell_type": "code",
   "execution_count": 115,
   "metadata": {},
   "outputs": [
    {
     "data": {
      "text/html": [
       "<div>\n",
       "<style scoped>\n",
       "    .dataframe tbody tr th:only-of-type {\n",
       "        vertical-align: middle;\n",
       "    }\n",
       "\n",
       "    .dataframe tbody tr th {\n",
       "        vertical-align: top;\n",
       "    }\n",
       "\n",
       "    .dataframe thead th {\n",
       "        text-align: right;\n",
       "    }\n",
       "</style>\n",
       "<table border=\"1\" class=\"dataframe\">\n",
       "  <thead>\n",
       "    <tr style=\"text-align: right;\">\n",
       "      <th></th>\n",
       "      <th>A</th>\n",
       "      <th>B</th>\n",
       "      <th>C</th>\n",
       "      <th>D</th>\n",
       "      <th>E</th>\n",
       "      <th>F</th>\n",
       "      <th>G</th>\n",
       "      <th>H</th>\n",
       "    </tr>\n",
       "  </thead>\n",
       "  <tbody>\n",
       "    <tr>\n",
       "      <th>2018-05-21</th>\n",
       "      <td>0.721049</td>\n",
       "      <td>0.019420</td>\n",
       "      <td>0.532527</td>\n",
       "      <td>-0.858175</td>\n",
       "      <td>1.739109</td>\n",
       "      <td>42</td>\n",
       "      <td>0</td>\n",
       "      <td>3.14</td>\n",
       "    </tr>\n",
       "    <tr>\n",
       "      <th>2018-05-22</th>\n",
       "      <td>33.000000</td>\n",
       "      <td>-0.557334</td>\n",
       "      <td>0.442134</td>\n",
       "      <td>1.336626</td>\n",
       "      <td>0.370737</td>\n",
       "      <td>42</td>\n",
       "      <td>1</td>\n",
       "      <td>3.14</td>\n",
       "    </tr>\n",
       "    <tr>\n",
       "      <th>2018-05-23</th>\n",
       "      <td>0.631718</td>\n",
       "      <td>0.391248</td>\n",
       "      <td>-0.016768</td>\n",
       "      <td>1.385145</td>\n",
       "      <td>-0.930659</td>\n",
       "      <td>42</td>\n",
       "      <td>8</td>\n",
       "      <td>3.14</td>\n",
       "    </tr>\n",
       "    <tr>\n",
       "      <th>2018-05-24</th>\n",
       "      <td>0.867740</td>\n",
       "      <td>0.553484</td>\n",
       "      <td>-0.921000</td>\n",
       "      <td>0.483510</td>\n",
       "      <td>0.525265</td>\n",
       "      <td>42</td>\n",
       "      <td>27</td>\n",
       "      <td>3.14</td>\n",
       "    </tr>\n",
       "    <tr>\n",
       "      <th>2018-05-25</th>\n",
       "      <td>1.648864</td>\n",
       "      <td>1.821448</td>\n",
       "      <td>-2.168256</td>\n",
       "      <td>1.873933</td>\n",
       "      <td>42.000000</td>\n",
       "      <td>42</td>\n",
       "      <td>64</td>\n",
       "      <td>3.14</td>\n",
       "    </tr>\n",
       "    <tr>\n",
       "      <th>2018-05-26</th>\n",
       "      <td>-0.138812</td>\n",
       "      <td>2.426672</td>\n",
       "      <td>-0.713728</td>\n",
       "      <td>0.858514</td>\n",
       "      <td>-0.311827</td>\n",
       "      <td>42</td>\n",
       "      <td>125</td>\n",
       "      <td>3.14</td>\n",
       "    </tr>\n",
       "    <tr>\n",
       "      <th>2018-05-27</th>\n",
       "      <td>-0.578854</td>\n",
       "      <td>-1.799046</td>\n",
       "      <td>-0.013709</td>\n",
       "      <td>0.491469</td>\n",
       "      <td>-0.169685</td>\n",
       "      <td>42</td>\n",
       "      <td>216</td>\n",
       "      <td>3.14</td>\n",
       "    </tr>\n",
       "    <tr>\n",
       "      <th>2018-05-28</th>\n",
       "      <td>0.328426</td>\n",
       "      <td>-0.057727</td>\n",
       "      <td>1.072547</td>\n",
       "      <td>0.177570</td>\n",
       "      <td>0.642694</td>\n",
       "      <td>42</td>\n",
       "      <td>343</td>\n",
       "      <td>3.14</td>\n",
       "    </tr>\n",
       "    <tr>\n",
       "      <th>2018-05-29</th>\n",
       "      <td>-0.233350</td>\n",
       "      <td>-0.494728</td>\n",
       "      <td>-0.145300</td>\n",
       "      <td>2.131749</td>\n",
       "      <td>-0.950209</td>\n",
       "      <td>42</td>\n",
       "      <td>512</td>\n",
       "      <td>3.14</td>\n",
       "    </tr>\n",
       "    <tr>\n",
       "      <th>2018-05-30</th>\n",
       "      <td>1.018628</td>\n",
       "      <td>-0.441224</td>\n",
       "      <td>-0.810934</td>\n",
       "      <td>-3.808978</td>\n",
       "      <td>0.714674</td>\n",
       "      <td>42</td>\n",
       "      <td>729</td>\n",
       "      <td>3.14</td>\n",
       "    </tr>\n",
       "    <tr>\n",
       "      <th>2018-05-31</th>\n",
       "      <td>1.126841</td>\n",
       "      <td>-1.340706</td>\n",
       "      <td>0.241627</td>\n",
       "      <td>-1.034646</td>\n",
       "      <td>-0.836399</td>\n",
       "      <td>42</td>\n",
       "      <td>1000</td>\n",
       "      <td>3.14</td>\n",
       "    </tr>\n",
       "    <tr>\n",
       "      <th>2018-06-01</th>\n",
       "      <td>0.266433</td>\n",
       "      <td>0.497163</td>\n",
       "      <td>0.169295</td>\n",
       "      <td>-1.463903</td>\n",
       "      <td>0.920211</td>\n",
       "      <td>42</td>\n",
       "      <td>1331</td>\n",
       "      <td>3.14</td>\n",
       "    </tr>\n",
       "    <tr>\n",
       "      <th>2018-06-02</th>\n",
       "      <td>-0.399290</td>\n",
       "      <td>-0.513238</td>\n",
       "      <td>-1.466636</td>\n",
       "      <td>-0.517236</td>\n",
       "      <td>0.396924</td>\n",
       "      <td>42</td>\n",
       "      <td>1728</td>\n",
       "      <td>3.14</td>\n",
       "    </tr>\n",
       "    <tr>\n",
       "      <th>2018-06-03</th>\n",
       "      <td>0.651787</td>\n",
       "      <td>-0.265913</td>\n",
       "      <td>0.271687</td>\n",
       "      <td>0.711061</td>\n",
       "      <td>1.030110</td>\n",
       "      <td>42</td>\n",
       "      <td>2197</td>\n",
       "      <td>3.14</td>\n",
       "    </tr>\n",
       "    <tr>\n",
       "      <th>2018-06-04</th>\n",
       "      <td>-1.147195</td>\n",
       "      <td>0.217811</td>\n",
       "      <td>1.386582</td>\n",
       "      <td>0.214082</td>\n",
       "      <td>-1.731895</td>\n",
       "      <td>42</td>\n",
       "      <td>2744</td>\n",
       "      <td>3.14</td>\n",
       "    </tr>\n",
       "  </tbody>\n",
       "</table>\n",
       "</div>"
      ],
      "text/plain": [
       "                    A         B         C         D          E   F     G     H\n",
       "2018-05-21   0.721049  0.019420  0.532527 -0.858175   1.739109  42     0  3.14\n",
       "2018-05-22  33.000000 -0.557334  0.442134  1.336626   0.370737  42     1  3.14\n",
       "2018-05-23   0.631718  0.391248 -0.016768  1.385145  -0.930659  42     8  3.14\n",
       "2018-05-24   0.867740  0.553484 -0.921000  0.483510   0.525265  42    27  3.14\n",
       "2018-05-25   1.648864  1.821448 -2.168256  1.873933  42.000000  42    64  3.14\n",
       "2018-05-26  -0.138812  2.426672 -0.713728  0.858514  -0.311827  42   125  3.14\n",
       "2018-05-27  -0.578854 -1.799046 -0.013709  0.491469  -0.169685  42   216  3.14\n",
       "2018-05-28   0.328426 -0.057727  1.072547  0.177570   0.642694  42   343  3.14\n",
       "2018-05-29  -0.233350 -0.494728 -0.145300  2.131749  -0.950209  42   512  3.14\n",
       "2018-05-30   1.018628 -0.441224 -0.810934 -3.808978   0.714674  42   729  3.14\n",
       "2018-05-31   1.126841 -1.340706  0.241627 -1.034646  -0.836399  42  1000  3.14\n",
       "2018-06-01   0.266433  0.497163  0.169295 -1.463903   0.920211  42  1331  3.14\n",
       "2018-06-02  -0.399290 -0.513238 -1.466636 -0.517236   0.396924  42  1728  3.14\n",
       "2018-06-03   0.651787 -0.265913  0.271687  0.711061   1.030110  42  2197  3.14\n",
       "2018-06-04  -1.147195  0.217811  1.386582  0.214082  -1.731895  42  2744  3.14"
      ]
     },
     "execution_count": 115,
     "metadata": {},
     "output_type": "execute_result"
    }
   ],
   "source": [
    "df.fillna(value=3.14)"
   ]
  },
  {
   "cell_type": "code",
   "execution_count": null,
   "metadata": {},
   "outputs": [],
   "source": [
    "# there is also df.dropna() to drop any ROWS! with missing data"
   ]
  },
  {
   "cell_type": "markdown",
   "metadata": {},
   "source": [
    "## Operations"
   ]
  },
  {
   "cell_type": "markdown",
   "metadata": {},
   "source": [
    "DataFrame methods and properties:\n",
    "* https://pandas.pydata.org/pandas-docs/stable/reference/api/pandas.DataFrame.html\n",
    "        \n",
    "Series methods and properties:\n",
    "* https://pandas.pydata.org/pandas-docs/stable/reference/api/pandas.Series.html\n",
    "    \n",
    "Data Science Handbook:\n",
    "* [Data manipulation with Pandas](https://jakevdp.github.io/PythonDataScienceHandbook/index.html#3.-Data-Manipulation-with-Pandas)"
   ]
  },
  {
   "cell_type": "code",
   "execution_count": 116,
   "metadata": {},
   "outputs": [
    {
     "data": {
      "text/plain": [
       "A      2.517599\n",
       "B      0.030489\n",
       "C     -0.142662\n",
       "D      0.132048\n",
       "E      2.893937\n",
       "F     42.000000\n",
       "G    735.000000\n",
       "H           NaN\n",
       "dtype: float64"
      ]
     },
     "execution_count": 116,
     "metadata": {},
     "output_type": "execute_result"
    }
   ],
   "source": [
    "df.mean()"
   ]
  },
  {
   "cell_type": "code",
   "execution_count": 117,
   "metadata": {},
   "outputs": [
    {
     "data": {
      "text/plain": [
       "A      33.000000\n",
       "B       2.426672\n",
       "C       1.386582\n",
       "D       2.131749\n",
       "E      42.000000\n",
       "F      42.000000\n",
       "G    2744.000000\n",
       "H            NaN\n",
       "dtype: float64"
      ]
     },
     "execution_count": 117,
     "metadata": {},
     "output_type": "execute_result"
    }
   ],
   "source": [
    "df.max()"
   ]
  },
  {
   "cell_type": "code",
   "execution_count": null,
   "metadata": {},
   "outputs": [],
   "source": [
    "# Other axis"
   ]
  },
  {
   "cell_type": "code",
   "execution_count": 118,
   "metadata": {},
   "outputs": [
    {
     "data": {
      "text/plain": [
       "2018-05-21      6.307704\n",
       "2018-05-22     11.084595\n",
       "2018-05-23      7.351526\n",
       "2018-05-24     10.072714\n",
       "2018-05-25     21.596570\n",
       "2018-05-26     24.160117\n",
       "2018-05-27     36.561454\n",
       "2018-05-28     55.309073\n",
       "2018-05-29     79.186880\n",
       "2018-05-30    109.667452\n",
       "2018-05-31    148.593817\n",
       "2018-06-01    196.198457\n",
       "2018-06-02    252.500075\n",
       "2018-06-03    320.199819\n",
       "2018-06-04    397.848484\n",
       "Freq: D, dtype: float64"
      ]
     },
     "execution_count": 118,
     "metadata": {},
     "output_type": "execute_result"
    }
   ],
   "source": [
    "df.mean(axis=1)"
   ]
  },
  {
   "cell_type": "code",
   "execution_count": null,
   "metadata": {},
   "outputs": [],
   "source": [
    "## String operations (df.str.*)"
   ]
  },
  {
   "cell_type": "code",
   "execution_count": 4,
   "metadata": {},
   "outputs": [
    {
     "data": {
      "text/plain": [
       "0     APPle\n",
       "1    baNAna\n",
       "2       NaN\n",
       "3        42\n",
       "4     mangO\n",
       "dtype: object"
      ]
     },
     "execution_count": 4,
     "metadata": {},
     "output_type": "execute_result"
    }
   ],
   "source": [
    "import numpy as np\n",
    "str1 = pd.Series(['APPle', 'baNAna', np.NaN, 42, 'mangO'])\n",
    "str1"
   ]
  },
  {
   "cell_type": "code",
   "execution_count": 7,
   "metadata": {},
   "outputs": [
    {
     "data": {
      "text/plain": [
       "['capitalize',\n",
       " 'casefold',\n",
       " 'cat',\n",
       " 'center',\n",
       " 'contains',\n",
       " 'count',\n",
       " 'decode',\n",
       " 'encode',\n",
       " 'endswith',\n",
       " 'extract',\n",
       " 'extractall',\n",
       " 'find',\n",
       " 'findall',\n",
       " 'fullmatch',\n",
       " 'get',\n",
       " 'get_dummies',\n",
       " 'index',\n",
       " 'isalnum',\n",
       " 'isalpha',\n",
       " 'isdecimal',\n",
       " 'isdigit',\n",
       " 'islower',\n",
       " 'isnumeric',\n",
       " 'isspace',\n",
       " 'istitle',\n",
       " 'isupper',\n",
       " 'join',\n",
       " 'len',\n",
       " 'ljust',\n",
       " 'lower',\n",
       " 'lstrip',\n",
       " 'match',\n",
       " 'normalize',\n",
       " 'pad',\n",
       " 'partition',\n",
       " 'repeat',\n",
       " 'replace',\n",
       " 'rfind',\n",
       " 'rindex',\n",
       " 'rjust',\n",
       " 'rpartition',\n",
       " 'rsplit',\n",
       " 'rstrip',\n",
       " 'slice',\n",
       " 'slice_replace',\n",
       " 'split',\n",
       " 'startswith',\n",
       " 'strip',\n",
       " 'swapcase',\n",
       " 'title',\n",
       " 'translate',\n",
       " 'upper',\n",
       " 'wrap',\n",
       " 'zfill']"
      ]
     },
     "execution_count": 7,
     "metadata": {},
     "output_type": "execute_result"
    }
   ],
   "source": [
    "[name for name in dir(str1.str) if not name.startswith(\"_\")]"
   ]
  },
  {
   "cell_type": "code",
   "execution_count": 8,
   "metadata": {},
   "outputs": [
    {
     "name": "stdout",
     "output_type": "stream",
     "text": [
      "Help on method lower in module pandas.core.strings.accessor:\n",
      "\n",
      "lower() method of pandas.core.strings.accessor.StringMethods instance\n",
      "    Convert strings in the Series/Index to lowercase.\n",
      "    \n",
      "    Equivalent to :meth:`str.lower`.\n",
      "    \n",
      "    Returns\n",
      "    -------\n",
      "    Series or Index of object\n",
      "    \n",
      "    See Also\n",
      "    --------\n",
      "    Series.str.lower : Converts all characters to lowercase.\n",
      "    Series.str.upper : Converts all characters to uppercase.\n",
      "    Series.str.title : Converts first character of each word to uppercase and\n",
      "        remaining to lowercase.\n",
      "    Series.str.capitalize : Converts first character to uppercase and\n",
      "        remaining to lowercase.\n",
      "    Series.str.swapcase : Converts uppercase to lowercase and lowercase to\n",
      "        uppercase.\n",
      "    Series.str.casefold: Removes all case distinctions in the string.\n",
      "    \n",
      "    Examples\n",
      "    --------\n",
      "    >>> s = pd.Series(['lower', 'CAPITALS', 'this is a sentence', 'SwApCaSe'])\n",
      "    >>> s\n",
      "    0                 lower\n",
      "    1              CAPITALS\n",
      "    2    this is a sentence\n",
      "    3              SwApCaSe\n",
      "    dtype: object\n",
      "    \n",
      "    >>> s.str.lower()\n",
      "    0                 lower\n",
      "    1              capitals\n",
      "    2    this is a sentence\n",
      "    3              swapcase\n",
      "    dtype: object\n",
      "    \n",
      "    >>> s.str.upper()\n",
      "    0                 LOWER\n",
      "    1              CAPITALS\n",
      "    2    THIS IS A SENTENCE\n",
      "    3              SWAPCASE\n",
      "    dtype: object\n",
      "    \n",
      "    >>> s.str.title()\n",
      "    0                 Lower\n",
      "    1              Capitals\n",
      "    2    This Is A Sentence\n",
      "    3              Swapcase\n",
      "    dtype: object\n",
      "    \n",
      "    >>> s.str.capitalize()\n",
      "    0                 Lower\n",
      "    1              Capitals\n",
      "    2    This is a sentence\n",
      "    3              Swapcase\n",
      "    dtype: object\n",
      "    \n",
      "    >>> s.str.swapcase()\n",
      "    0                 LOWER\n",
      "    1              capitals\n",
      "    2    THIS IS A SENTENCE\n",
      "    3              sWaPcAsE\n",
      "    dtype: object\n",
      "\n"
     ]
    }
   ],
   "source": [
    "help(str1.str.lower)"
   ]
  },
  {
   "cell_type": "code",
   "execution_count": 121,
   "metadata": {},
   "outputs": [
    {
     "data": {
      "text/plain": [
       "0     apple\n",
       "1    banana\n",
       "2       NaN\n",
       "3       NaN\n",
       "4     mango\n",
       "dtype: object"
      ]
     },
     "execution_count": 121,
     "metadata": {},
     "output_type": "execute_result"
    }
   ],
   "source": [
    "str1.str.lower()"
   ]
  },
  {
   "cell_type": "code",
   "execution_count": 122,
   "metadata": {},
   "outputs": [
    {
     "data": {
      "text/plain": [
       "0    5.0\n",
       "1    6.0\n",
       "2    NaN\n",
       "3    NaN\n",
       "4    5.0\n",
       "dtype: float64"
      ]
     },
     "execution_count": 122,
     "metadata": {},
     "output_type": "execute_result"
    }
   ],
   "source": [
    "str1.str.len()"
   ]
  },
  {
   "cell_type": "code",
   "execution_count": null,
   "metadata": {},
   "outputs": [],
   "source": [
    "## Apply"
   ]
  },
  {
   "cell_type": "code",
   "execution_count": 123,
   "metadata": {},
   "outputs": [
    {
     "data": {
      "text/html": [
       "<div>\n",
       "<style scoped>\n",
       "    .dataframe tbody tr th:only-of-type {\n",
       "        vertical-align: middle;\n",
       "    }\n",
       "\n",
       "    .dataframe tbody tr th {\n",
       "        vertical-align: top;\n",
       "    }\n",
       "\n",
       "    .dataframe thead th {\n",
       "        text-align: right;\n",
       "    }\n",
       "</style>\n",
       "<table border=\"1\" class=\"dataframe\">\n",
       "  <thead>\n",
       "    <tr style=\"text-align: right;\">\n",
       "      <th></th>\n",
       "      <th>A</th>\n",
       "      <th>B</th>\n",
       "      <th>C</th>\n",
       "      <th>D</th>\n",
       "      <th>E</th>\n",
       "      <th>F</th>\n",
       "      <th>G</th>\n",
       "      <th>H</th>\n",
       "    </tr>\n",
       "  </thead>\n",
       "  <tbody>\n",
       "    <tr>\n",
       "      <th>2018-05-21</th>\n",
       "      <td>2.163147</td>\n",
       "      <td>0.058259</td>\n",
       "      <td>1.597580</td>\n",
       "      <td>-2.574525</td>\n",
       "      <td>5.217326</td>\n",
       "      <td>126</td>\n",
       "      <td>0</td>\n",
       "      <td>NaN</td>\n",
       "    </tr>\n",
       "    <tr>\n",
       "      <th>2018-05-22</th>\n",
       "      <td>99.000000</td>\n",
       "      <td>-1.672001</td>\n",
       "      <td>1.326401</td>\n",
       "      <td>4.009879</td>\n",
       "      <td>1.112212</td>\n",
       "      <td>126</td>\n",
       "      <td>3</td>\n",
       "      <td>NaN</td>\n",
       "    </tr>\n",
       "    <tr>\n",
       "      <th>2018-05-23</th>\n",
       "      <td>1.895154</td>\n",
       "      <td>1.173743</td>\n",
       "      <td>-0.050304</td>\n",
       "      <td>4.155436</td>\n",
       "      <td>-2.791978</td>\n",
       "      <td>126</td>\n",
       "      <td>24</td>\n",
       "      <td>NaN</td>\n",
       "    </tr>\n",
       "    <tr>\n",
       "      <th>2018-05-24</th>\n",
       "      <td>2.603220</td>\n",
       "      <td>1.660453</td>\n",
       "      <td>-2.762999</td>\n",
       "      <td>1.450529</td>\n",
       "      <td>1.575795</td>\n",
       "      <td>126</td>\n",
       "      <td>81</td>\n",
       "      <td>NaN</td>\n",
       "    </tr>\n",
       "    <tr>\n",
       "      <th>2018-05-25</th>\n",
       "      <td>4.946593</td>\n",
       "      <td>5.464343</td>\n",
       "      <td>-6.504768</td>\n",
       "      <td>5.621800</td>\n",
       "      <td>126.000000</td>\n",
       "      <td>126</td>\n",
       "      <td>192</td>\n",
       "      <td>NaN</td>\n",
       "    </tr>\n",
       "    <tr>\n",
       "      <th>2018-05-26</th>\n",
       "      <td>-0.416436</td>\n",
       "      <td>7.280015</td>\n",
       "      <td>-2.141184</td>\n",
       "      <td>2.575541</td>\n",
       "      <td>-0.935480</td>\n",
       "      <td>126</td>\n",
       "      <td>375</td>\n",
       "      <td>NaN</td>\n",
       "    </tr>\n",
       "    <tr>\n",
       "      <th>2018-05-27</th>\n",
       "      <td>-1.736562</td>\n",
       "      <td>-5.397138</td>\n",
       "      <td>-0.041127</td>\n",
       "      <td>1.474408</td>\n",
       "      <td>-0.509054</td>\n",
       "      <td>126</td>\n",
       "      <td>648</td>\n",
       "      <td>NaN</td>\n",
       "    </tr>\n",
       "    <tr>\n",
       "      <th>2018-05-28</th>\n",
       "      <td>0.985279</td>\n",
       "      <td>-0.173180</td>\n",
       "      <td>3.217641</td>\n",
       "      <td>0.532711</td>\n",
       "      <td>1.928082</td>\n",
       "      <td>126</td>\n",
       "      <td>1029</td>\n",
       "      <td>NaN</td>\n",
       "    </tr>\n",
       "    <tr>\n",
       "      <th>2018-05-29</th>\n",
       "      <td>-0.700049</td>\n",
       "      <td>-1.484184</td>\n",
       "      <td>-0.435900</td>\n",
       "      <td>6.395246</td>\n",
       "      <td>-2.850626</td>\n",
       "      <td>126</td>\n",
       "      <td>1536</td>\n",
       "      <td>NaN</td>\n",
       "    </tr>\n",
       "    <tr>\n",
       "      <th>2018-05-30</th>\n",
       "      <td>3.055883</td>\n",
       "      <td>-1.323673</td>\n",
       "      <td>-2.432803</td>\n",
       "      <td>-11.426935</td>\n",
       "      <td>2.144023</td>\n",
       "      <td>126</td>\n",
       "      <td>2187</td>\n",
       "      <td>NaN</td>\n",
       "    </tr>\n",
       "    <tr>\n",
       "      <th>2018-05-31</th>\n",
       "      <td>3.380522</td>\n",
       "      <td>-4.022119</td>\n",
       "      <td>0.724881</td>\n",
       "      <td>-3.103939</td>\n",
       "      <td>-2.509198</td>\n",
       "      <td>126</td>\n",
       "      <td>3000</td>\n",
       "      <td>NaN</td>\n",
       "    </tr>\n",
       "    <tr>\n",
       "      <th>2018-06-01</th>\n",
       "      <td>0.799299</td>\n",
       "      <td>1.491490</td>\n",
       "      <td>0.507884</td>\n",
       "      <td>-4.391708</td>\n",
       "      <td>2.760634</td>\n",
       "      <td>126</td>\n",
       "      <td>3993</td>\n",
       "      <td>NaN</td>\n",
       "    </tr>\n",
       "    <tr>\n",
       "      <th>2018-06-02</th>\n",
       "      <td>-1.197869</td>\n",
       "      <td>-1.539714</td>\n",
       "      <td>-4.399907</td>\n",
       "      <td>-1.551708</td>\n",
       "      <td>1.190771</td>\n",
       "      <td>126</td>\n",
       "      <td>5184</td>\n",
       "      <td>NaN</td>\n",
       "    </tr>\n",
       "    <tr>\n",
       "      <th>2018-06-03</th>\n",
       "      <td>1.955362</td>\n",
       "      <td>-0.797739</td>\n",
       "      <td>0.815062</td>\n",
       "      <td>2.133183</td>\n",
       "      <td>3.090331</td>\n",
       "      <td>126</td>\n",
       "      <td>6591</td>\n",
       "      <td>NaN</td>\n",
       "    </tr>\n",
       "    <tr>\n",
       "      <th>2018-06-04</th>\n",
       "      <td>-3.441584</td>\n",
       "      <td>0.653433</td>\n",
       "      <td>4.159746</td>\n",
       "      <td>0.642246</td>\n",
       "      <td>-5.195685</td>\n",
       "      <td>126</td>\n",
       "      <td>8232</td>\n",
       "      <td>NaN</td>\n",
       "    </tr>\n",
       "  </tbody>\n",
       "</table>\n",
       "</div>"
      ],
      "text/plain": [
       "                    A         B         C          D           E    F     G  \\\n",
       "2018-05-21   2.163147  0.058259  1.597580  -2.574525    5.217326  126     0   \n",
       "2018-05-22  99.000000 -1.672001  1.326401   4.009879    1.112212  126     3   \n",
       "2018-05-23   1.895154  1.173743 -0.050304   4.155436   -2.791978  126    24   \n",
       "2018-05-24   2.603220  1.660453 -2.762999   1.450529    1.575795  126    81   \n",
       "2018-05-25   4.946593  5.464343 -6.504768   5.621800  126.000000  126   192   \n",
       "2018-05-26  -0.416436  7.280015 -2.141184   2.575541   -0.935480  126   375   \n",
       "2018-05-27  -1.736562 -5.397138 -0.041127   1.474408   -0.509054  126   648   \n",
       "2018-05-28   0.985279 -0.173180  3.217641   0.532711    1.928082  126  1029   \n",
       "2018-05-29  -0.700049 -1.484184 -0.435900   6.395246   -2.850626  126  1536   \n",
       "2018-05-30   3.055883 -1.323673 -2.432803 -11.426935    2.144023  126  2187   \n",
       "2018-05-31   3.380522 -4.022119  0.724881  -3.103939   -2.509198  126  3000   \n",
       "2018-06-01   0.799299  1.491490  0.507884  -4.391708    2.760634  126  3993   \n",
       "2018-06-02  -1.197869 -1.539714 -4.399907  -1.551708    1.190771  126  5184   \n",
       "2018-06-03   1.955362 -0.797739  0.815062   2.133183    3.090331  126  6591   \n",
       "2018-06-04  -3.441584  0.653433  4.159746   0.642246   -5.195685  126  8232   \n",
       "\n",
       "             H  \n",
       "2018-05-21 NaN  \n",
       "2018-05-22 NaN  \n",
       "2018-05-23 NaN  \n",
       "2018-05-24 NaN  \n",
       "2018-05-25 NaN  \n",
       "2018-05-26 NaN  \n",
       "2018-05-27 NaN  \n",
       "2018-05-28 NaN  \n",
       "2018-05-29 NaN  \n",
       "2018-05-30 NaN  \n",
       "2018-05-31 NaN  \n",
       "2018-06-01 NaN  \n",
       "2018-06-02 NaN  \n",
       "2018-06-03 NaN  \n",
       "2018-06-04 NaN  "
      ]
     },
     "execution_count": 123,
     "metadata": {},
     "output_type": "execute_result"
    }
   ],
   "source": [
    "df.apply(lambda x: x*3) # ie same as df*3"
   ]
  },
  {
   "cell_type": "code",
   "execution_count": 124,
   "metadata": {},
   "outputs": [
    {
     "data": {
      "text/html": [
       "<div>\n",
       "<style scoped>\n",
       "    .dataframe tbody tr th:only-of-type {\n",
       "        vertical-align: middle;\n",
       "    }\n",
       "\n",
       "    .dataframe tbody tr th {\n",
       "        vertical-align: top;\n",
       "    }\n",
       "\n",
       "    .dataframe thead th {\n",
       "        text-align: right;\n",
       "    }\n",
       "</style>\n",
       "<table border=\"1\" class=\"dataframe\">\n",
       "  <thead>\n",
       "    <tr style=\"text-align: right;\">\n",
       "      <th></th>\n",
       "      <th>key</th>\n",
       "      <th>data</th>\n",
       "    </tr>\n",
       "  </thead>\n",
       "  <tbody>\n",
       "    <tr>\n",
       "      <th>0</th>\n",
       "      <td>A</td>\n",
       "      <td>0</td>\n",
       "    </tr>\n",
       "    <tr>\n",
       "      <th>1</th>\n",
       "      <td>B</td>\n",
       "      <td>1</td>\n",
       "    </tr>\n",
       "    <tr>\n",
       "      <th>2</th>\n",
       "      <td>C</td>\n",
       "      <td>2</td>\n",
       "    </tr>\n",
       "    <tr>\n",
       "      <th>3</th>\n",
       "      <td>A</td>\n",
       "      <td>3</td>\n",
       "    </tr>\n",
       "    <tr>\n",
       "      <th>4</th>\n",
       "      <td>B</td>\n",
       "      <td>4</td>\n",
       "    </tr>\n",
       "    <tr>\n",
       "      <th>5</th>\n",
       "      <td>C</td>\n",
       "      <td>5</td>\n",
       "    </tr>\n",
       "  </tbody>\n",
       "</table>\n",
       "</div>"
      ],
      "text/plain": [
       "  key  data\n",
       "0   A     0\n",
       "1   B     1\n",
       "2   C     2\n",
       "3   A     3\n",
       "4   B     4\n",
       "5   C     5"
      ]
     },
     "execution_count": 124,
     "metadata": {},
     "output_type": "execute_result"
    }
   ],
   "source": [
    "df = pd.DataFrame({'key': ['A', 'B', 'C', 'A', 'B', 'C'], 'data': range(6)}, columns=['key', 'data'])\n",
    "df"
   ]
  },
  {
   "cell_type": "code",
   "execution_count": 125,
   "metadata": {},
   "outputs": [
    {
     "data": {
      "text/plain": [
       "<pandas.core.groupby.generic.DataFrameGroupBy object at 0x1104c8cd0>"
      ]
     },
     "execution_count": 125,
     "metadata": {},
     "output_type": "execute_result"
    }
   ],
   "source": [
    "df.groupby('key')"
   ]
  },
  {
   "cell_type": "code",
   "execution_count": 126,
   "metadata": {},
   "outputs": [
    {
     "data": {
      "text/html": [
       "<div>\n",
       "<style scoped>\n",
       "    .dataframe tbody tr th:only-of-type {\n",
       "        vertical-align: middle;\n",
       "    }\n",
       "\n",
       "    .dataframe tbody tr th {\n",
       "        vertical-align: top;\n",
       "    }\n",
       "\n",
       "    .dataframe thead th {\n",
       "        text-align: right;\n",
       "    }\n",
       "</style>\n",
       "<table border=\"1\" class=\"dataframe\">\n",
       "  <thead>\n",
       "    <tr style=\"text-align: right;\">\n",
       "      <th></th>\n",
       "      <th>data</th>\n",
       "    </tr>\n",
       "    <tr>\n",
       "      <th>key</th>\n",
       "      <th></th>\n",
       "    </tr>\n",
       "  </thead>\n",
       "  <tbody>\n",
       "    <tr>\n",
       "      <th>A</th>\n",
       "      <td>3</td>\n",
       "    </tr>\n",
       "    <tr>\n",
       "      <th>B</th>\n",
       "      <td>5</td>\n",
       "    </tr>\n",
       "    <tr>\n",
       "      <th>C</th>\n",
       "      <td>7</td>\n",
       "    </tr>\n",
       "  </tbody>\n",
       "</table>\n",
       "</div>"
      ],
      "text/plain": [
       "     data\n",
       "key      \n",
       "A       3\n",
       "B       5\n",
       "C       7"
      ]
     },
     "execution_count": 126,
     "metadata": {},
     "output_type": "execute_result"
    }
   ],
   "source": [
    "df.groupby('key').sum()"
   ]
  },
  {
   "cell_type": "code",
   "execution_count": 127,
   "metadata": {},
   "outputs": [
    {
     "name": "stdout",
     "output_type": "stream",
     "text": [
      "Help on method groupby in module pandas.core.frame:\n",
      "\n",
      "groupby(by=None, axis=0, level=None, as_index: 'bool' = True, sort: 'bool' = True, group_keys: 'bool' = True, squeeze: 'bool' = <object object at 0x10adb6140>, observed: 'bool' = False, dropna: 'bool' = True) -> 'DataFrameGroupBy' method of pandas.core.frame.DataFrame instance\n",
      "    Group DataFrame using a mapper or by a Series of columns.\n",
      "    \n",
      "    A groupby operation involves some combination of splitting the\n",
      "    object, applying a function, and combining the results. This can be\n",
      "    used to group large amounts of data and compute operations on these\n",
      "    groups.\n",
      "    \n",
      "    Parameters\n",
      "    ----------\n",
      "    by : mapping, function, label, or list of labels\n",
      "        Used to determine the groups for the groupby.\n",
      "        If ``by`` is a function, it's called on each value of the object's\n",
      "        index. If a dict or Series is passed, the Series or dict VALUES\n",
      "        will be used to determine the groups (the Series' values are first\n",
      "        aligned; see ``.align()`` method). If an ndarray is passed, the\n",
      "        values are used as-is to determine the groups. A label or list of\n",
      "        labels may be passed to group by the columns in ``self``. Notice\n",
      "        that a tuple is interpreted as a (single) key.\n",
      "    axis : {0 or 'index', 1 or 'columns'}, default 0\n",
      "        Split along rows (0) or columns (1).\n",
      "    level : int, level name, or sequence of such, default None\n",
      "        If the axis is a MultiIndex (hierarchical), group by a particular\n",
      "        level or levels.\n",
      "    as_index : bool, default True\n",
      "        For aggregated output, return object with group labels as the\n",
      "        index. Only relevant for DataFrame input. as_index=False is\n",
      "        effectively \"SQL-style\" grouped output.\n",
      "    sort : bool, default True\n",
      "        Sort group keys. Get better performance by turning this off.\n",
      "        Note this does not influence the order of observations within each\n",
      "        group. Groupby preserves the order of rows within each group.\n",
      "    group_keys : bool, default True\n",
      "        When calling apply, add group keys to index to identify pieces.\n",
      "    squeeze : bool, default False\n",
      "        Reduce the dimensionality of the return type if possible,\n",
      "        otherwise return a consistent type.\n",
      "    \n",
      "        .. deprecated:: 1.1.0\n",
      "    \n",
      "    observed : bool, default False\n",
      "        This only applies if any of the groupers are Categoricals.\n",
      "        If True: only show observed values for categorical groupers.\n",
      "        If False: show all values for categorical groupers.\n",
      "    dropna : bool, default True\n",
      "        If True, and if group keys contain NA values, NA values together\n",
      "        with row/column will be dropped.\n",
      "        If False, NA values will also be treated as the key in groups\n",
      "    \n",
      "        .. versionadded:: 1.1.0\n",
      "    \n",
      "    Returns\n",
      "    -------\n",
      "    DataFrameGroupBy\n",
      "        Returns a groupby object that contains information about the groups.\n",
      "    \n",
      "    See Also\n",
      "    --------\n",
      "    resample : Convenience method for frequency conversion and resampling\n",
      "        of time series.\n",
      "    \n",
      "    Notes\n",
      "    -----\n",
      "    See the `user guide\n",
      "    <https://pandas.pydata.org/pandas-docs/stable/groupby.html>`_ for more.\n",
      "    \n",
      "    Examples\n",
      "    --------\n",
      "    >>> df = pd.DataFrame({'Animal': ['Falcon', 'Falcon',\n",
      "    ...                               'Parrot', 'Parrot'],\n",
      "    ...                    'Max Speed': [380., 370., 24., 26.]})\n",
      "    >>> df\n",
      "       Animal  Max Speed\n",
      "    0  Falcon      380.0\n",
      "    1  Falcon      370.0\n",
      "    2  Parrot       24.0\n",
      "    3  Parrot       26.0\n",
      "    >>> df.groupby(['Animal']).mean()\n",
      "            Max Speed\n",
      "    Animal\n",
      "    Falcon      375.0\n",
      "    Parrot       25.0\n",
      "    \n",
      "    **Hierarchical Indexes**\n",
      "    \n",
      "    We can groupby different levels of a hierarchical index\n",
      "    using the `level` parameter:\n",
      "    \n",
      "    >>> arrays = [['Falcon', 'Falcon', 'Parrot', 'Parrot'],\n",
      "    ...           ['Captive', 'Wild', 'Captive', 'Wild']]\n",
      "    >>> index = pd.MultiIndex.from_arrays(arrays, names=('Animal', 'Type'))\n",
      "    >>> df = pd.DataFrame({'Max Speed': [390., 350., 30., 20.]},\n",
      "    ...                   index=index)\n",
      "    >>> df\n",
      "                    Max Speed\n",
      "    Animal Type\n",
      "    Falcon Captive      390.0\n",
      "           Wild         350.0\n",
      "    Parrot Captive       30.0\n",
      "           Wild          20.0\n",
      "    >>> df.groupby(level=0).mean()\n",
      "            Max Speed\n",
      "    Animal\n",
      "    Falcon      370.0\n",
      "    Parrot       25.0\n",
      "    >>> df.groupby(level=\"Type\").mean()\n",
      "             Max Speed\n",
      "    Type\n",
      "    Captive      210.0\n",
      "    Wild         185.0\n",
      "    \n",
      "    We can also choose to include NA in group keys or not by setting\n",
      "    `dropna` parameter, the default setting is `True`:\n",
      "    \n",
      "    >>> l = [[1, 2, 3], [1, None, 4], [2, 1, 3], [1, 2, 2]]\n",
      "    >>> df = pd.DataFrame(l, columns=[\"a\", \"b\", \"c\"])\n",
      "    \n",
      "    >>> df.groupby(by=[\"b\"]).sum()\n",
      "        a   c\n",
      "    b\n",
      "    1.0 2   3\n",
      "    2.0 2   5\n",
      "    \n",
      "    >>> df.groupby(by=[\"b\"], dropna=False).sum()\n",
      "        a   c\n",
      "    b\n",
      "    1.0 2   3\n",
      "    2.0 2   5\n",
      "    NaN 1   4\n",
      "    \n",
      "    >>> l = [[\"a\", 12, 12], [None, 12.3, 33.], [\"b\", 12.3, 123], [\"a\", 1, 1]]\n",
      "    >>> df = pd.DataFrame(l, columns=[\"a\", \"b\", \"c\"])\n",
      "    \n",
      "    >>> df.groupby(by=\"a\").sum()\n",
      "        b     c\n",
      "    a\n",
      "    a   13.0   13.0\n",
      "    b   12.3  123.0\n",
      "    \n",
      "    >>> df.groupby(by=\"a\", dropna=False).sum()\n",
      "        b     c\n",
      "    a\n",
      "    a   13.0   13.0\n",
      "    b   12.3  123.0\n",
      "    NaN 12.3   33.0\n",
      "\n"
     ]
    }
   ],
   "source": [
    "help(df.groupby)"
   ]
  },
  {
   "cell_type": "markdown",
   "metadata": {},
   "source": [
    "### Time series"
   ]
  },
  {
   "cell_type": "code",
   "execution_count": 128,
   "metadata": {},
   "outputs": [],
   "source": [
    "ts = pd.Series(np.random.randn(3650), index=pd.date_range('11/18/2008', periods=3650))"
   ]
  },
  {
   "cell_type": "code",
   "execution_count": 129,
   "metadata": {},
   "outputs": [
    {
     "data": {
      "text/plain": [
       "2008-11-18   -0.918815\n",
       "2008-11-19   -2.160569\n",
       "2008-11-20   -0.055554\n",
       "2008-11-21    0.956840\n",
       "2008-11-22   -0.820016\n",
       "                ...   \n",
       "2018-11-11   -0.776955\n",
       "2018-11-12    0.483701\n",
       "2018-11-13   -0.432894\n",
       "2018-11-14   -0.571332\n",
       "2018-11-15   -0.974758\n",
       "Freq: D, Length: 3650, dtype: float64"
      ]
     },
     "execution_count": 129,
     "metadata": {},
     "output_type": "execute_result"
    }
   ],
   "source": [
    "ts"
   ]
  },
  {
   "cell_type": "code",
   "execution_count": 130,
   "metadata": {},
   "outputs": [],
   "source": [
    "ts = ts.cumsum() # cumulative sum"
   ]
  },
  {
   "cell_type": "code",
   "execution_count": 131,
   "metadata": {},
   "outputs": [
    {
     "data": {
      "text/plain": [
       "2008-11-18     -0.918815\n",
       "2008-11-19     -3.079384\n",
       "2008-11-20     -3.134938\n",
       "2008-11-21     -2.178098\n",
       "2008-11-22     -2.998114\n",
       "                 ...    \n",
       "2018-11-11    106.439605\n",
       "2018-11-12    106.923306\n",
       "2018-11-13    106.490412\n",
       "2018-11-14    105.919080\n",
       "2018-11-15    104.944321\n",
       "Freq: D, Length: 3650, dtype: float64"
      ]
     },
     "execution_count": 131,
     "metadata": {},
     "output_type": "execute_result"
    }
   ],
   "source": [
    "ts"
   ]
  },
  {
   "cell_type": "code",
   "execution_count": 132,
   "metadata": {},
   "outputs": [
    {
     "data": {
      "text/plain": [
       "<AxesSubplot:>"
      ]
     },
     "execution_count": 132,
     "metadata": {},
     "output_type": "execute_result"
    },
    {
     "data": {
      "image/png": "[encoded data removed]",
      "text/plain": [
       "<Figure size 432x288 with 1 Axes>"
      ]
     },
     "metadata": {
      "needs_background": "light"
     },
     "output_type": "display_data"
    }
   ],
   "source": [
    "ts.plot()"
   ]
  },
  {
   "cell_type": "code",
   "execution_count": 133,
   "metadata": {},
   "outputs": [],
   "source": [
    "ts[\"2014-01-01\":\"2016-01-01\"] = np.NaN"
   ]
  },
  {
   "cell_type": "code",
   "execution_count": 134,
   "metadata": {},
   "outputs": [
    {
     "data": {
      "text/plain": [
       "<AxesSubplot:>"
      ]
     },
     "execution_count": 134,
     "metadata": {},
     "output_type": "execute_result"
    },
    {
     "data": {
      "image/png": "[encoded data removed]",
      "text/plain": [
       "<Figure size 432x288 with 1 Axes>"
      ]
     },
     "metadata": {
      "needs_background": "light"
     },
     "output_type": "display_data"
    }
   ],
   "source": [
    "ts.plot()"
   ]
  },
  {
   "cell_type": "code",
   "execution_count": 135,
   "metadata": {},
   "outputs": [
    {
     "data": {
      "text/plain": [
       "2008-11-18           NaN\n",
       "2008-11-19           NaN\n",
       "2008-11-20           NaN\n",
       "2008-11-21           NaN\n",
       "2008-11-22           NaN\n",
       "                 ...    \n",
       "2018-11-11    103.898995\n",
       "2018-11-12    103.991165\n",
       "2018-11-13    104.075431\n",
       "2018-11-14    104.159374\n",
       "2018-11-15    104.240824\n",
       "Freq: D, Length: 3650, dtype: float64"
      ]
     },
     "execution_count": 135,
     "metadata": {},
     "output_type": "execute_result"
    }
   ],
   "source": [
    "rolling_avg = ts.rolling(window=90).mean()\n",
    "rolling_avg"
   ]
  },
  {
   "cell_type": "code",
   "execution_count": 136,
   "metadata": {},
   "outputs": [
    {
     "data": {
      "text/plain": [
       "<AxesSubplot:>"
      ]
     },
     "execution_count": 136,
     "metadata": {},
     "output_type": "execute_result"
    },
    {
     "data": {
      "image/png": "[encoded data removed]",
      "text/plain": [
       "<Figure size 432x288 with 1 Axes>"
      ]
     },
     "metadata": {
      "needs_background": "light"
     },
     "output_type": "display_data"
    }
   ],
   "source": [
    "rolling_avg.plot()"
   ]
  },
  {
   "cell_type": "markdown",
   "metadata": {},
   "source": [
    "## File operations"
   ]
  },
  {
   "cell_type": "code",
   "execution_count": 137,
   "metadata": {},
   "outputs": [],
   "source": [
    "# CSV\n",
    "# Writing to a csv file."
   ]
  },
  {
   "cell_type": "code",
   "execution_count": 138,
   "metadata": {},
   "outputs": [],
   "source": [
    "df.to_csv(\"testing.csv\")"
   ]
  },
  {
   "cell_type": "code",
   "execution_count": null,
   "metadata": {},
   "outputs": [],
   "source": [
    "# Reading from csv\n"
   ]
  },
  {
   "cell_type": "code",
   "execution_count": 139,
   "metadata": {},
   "outputs": [
    {
     "data": {
      "text/html": [
       "<div>\n",
       "<style scoped>\n",
       "    .dataframe tbody tr th:only-of-type {\n",
       "        vertical-align: middle;\n",
       "    }\n",
       "\n",
       "    .dataframe tbody tr th {\n",
       "        vertical-align: top;\n",
       "    }\n",
       "\n",
       "    .dataframe thead th {\n",
       "        text-align: right;\n",
       "    }\n",
       "</style>\n",
       "<table border=\"1\" class=\"dataframe\">\n",
       "  <thead>\n",
       "    <tr style=\"text-align: right;\">\n",
       "      <th></th>\n",
       "      <th>key</th>\n",
       "      <th>data</th>\n",
       "    </tr>\n",
       "  </thead>\n",
       "  <tbody>\n",
       "    <tr>\n",
       "      <th>0</th>\n",
       "      <td>A</td>\n",
       "      <td>0</td>\n",
       "    </tr>\n",
       "    <tr>\n",
       "      <th>1</th>\n",
       "      <td>B</td>\n",
       "      <td>1</td>\n",
       "    </tr>\n",
       "    <tr>\n",
       "      <th>2</th>\n",
       "      <td>C</td>\n",
       "      <td>2</td>\n",
       "    </tr>\n",
       "    <tr>\n",
       "      <th>3</th>\n",
       "      <td>A</td>\n",
       "      <td>3</td>\n",
       "    </tr>\n",
       "    <tr>\n",
       "      <th>4</th>\n",
       "      <td>B</td>\n",
       "      <td>4</td>\n",
       "    </tr>\n",
       "  </tbody>\n",
       "</table>\n",
       "</div>"
      ],
      "text/plain": [
       "  key  data\n",
       "0   A     0\n",
       "1   B     1\n",
       "2   C     2\n",
       "3   A     3\n",
       "4   B     4"
      ]
     },
     "execution_count": 139,
     "metadata": {},
     "output_type": "execute_result"
    }
   ],
   "source": [
    "new_df = pd.read_csv(\"testing.csv\", index_col=0)\n",
    "new_df.head()"
   ]
  },
  {
   "cell_type": "code",
   "execution_count": null,
   "metadata": {},
   "outputs": [],
   "source": [
    "# Excel"
   ]
  },
  {
   "cell_type": "code",
   "execution_count": 141,
   "metadata": {},
   "outputs": [],
   "source": [
    "# this will raise an error if 'openpyxl' package is not installed\n",
    "df.to_excel('myx.xlsx', sheet_name='Sheet1')\n"
   ]
  },
  {
   "cell_type": "code",
   "execution_count": 144,
   "metadata": {},
   "outputs": [],
   "source": [
    "df6=pd.read_excel('myx.xlsx', 'Sheet1', index_col=0, na_values=['NA'])"
   ]
  },
  {
   "cell_type": "code",
   "execution_count": 145,
   "metadata": {},
   "outputs": [
    {
     "data": {
      "text/html": [
       "<div>\n",
       "<style scoped>\n",
       "    .dataframe tbody tr th:only-of-type {\n",
       "        vertical-align: middle;\n",
       "    }\n",
       "\n",
       "    .dataframe tbody tr th {\n",
       "        vertical-align: top;\n",
       "    }\n",
       "\n",
       "    .dataframe thead th {\n",
       "        text-align: right;\n",
       "    }\n",
       "</style>\n",
       "<table border=\"1\" class=\"dataframe\">\n",
       "  <thead>\n",
       "    <tr style=\"text-align: right;\">\n",
       "      <th></th>\n",
       "      <th>key</th>\n",
       "      <th>data</th>\n",
       "    </tr>\n",
       "  </thead>\n",
       "  <tbody>\n",
       "    <tr>\n",
       "      <th>0</th>\n",
       "      <td>A</td>\n",
       "      <td>0</td>\n",
       "    </tr>\n",
       "    <tr>\n",
       "      <th>1</th>\n",
       "      <td>B</td>\n",
       "      <td>1</td>\n",
       "    </tr>\n",
       "    <tr>\n",
       "      <th>2</th>\n",
       "      <td>C</td>\n",
       "      <td>2</td>\n",
       "    </tr>\n",
       "    <tr>\n",
       "      <th>3</th>\n",
       "      <td>A</td>\n",
       "      <td>3</td>\n",
       "    </tr>\n",
       "    <tr>\n",
       "      <th>4</th>\n",
       "      <td>B</td>\n",
       "      <td>4</td>\n",
       "    </tr>\n",
       "  </tbody>\n",
       "</table>\n",
       "</div>"
      ],
      "text/plain": [
       "  key  data\n",
       "0   A     0\n",
       "1   B     1\n",
       "2   C     2\n",
       "3   A     3\n",
       "4   B     4"
      ]
     },
     "execution_count": 145,
     "metadata": {},
     "output_type": "execute_result"
    }
   ],
   "source": [
    "df6.head()"
   ]
  },
  {
   "cell_type": "code",
   "execution_count": null,
   "metadata": {},
   "outputs": [],
   "source": []
  },
  {
   "cell_type": "code",
   "execution_count": null,
   "metadata": {},
   "outputs": [],
   "source": [
    "# basic DataFrame information:"
   ]
  },
  {
   "cell_type": "code",
   "execution_count": 146,
   "metadata": {},
   "outputs": [
    {
     "name": "stdout",
     "output_type": "stream",
     "text": [
      "<class 'pandas.core.frame.DataFrame'>\n",
      "RangeIndex: 6 entries, 0 to 5\n",
      "Data columns (total 2 columns):\n",
      " #   Column  Non-Null Count  Dtype \n",
      "---  ------  --------------  ----- \n",
      " 0   key     6 non-null      object\n",
      " 1   data    6 non-null      int64 \n",
      "dtypes: int64(1), object(1)\n",
      "memory usage: 224.0+ bytes\n"
     ]
    }
   ],
   "source": [
    "df.info()"
   ]
  },
  {
   "cell_type": "code",
   "execution_count": 147,
   "metadata": {},
   "outputs": [
    {
     "name": "stdout",
     "output_type": "stream",
     "text": [
      "<class 'pandas.core.frame.DataFrame'>\n",
      "RangeIndex: 6 entries, 0 to 5\n",
      "Data columns (total 2 columns):\n",
      " #   Column  Non-Null Count  Dtype \n",
      "---  ------  --------------  ----- \n",
      " 0   key     6 non-null      object\n",
      " 1   data    6 non-null      int64 \n",
      "dtypes: int64(1), object(1)\n",
      "memory usage: 524.0 bytes\n"
     ]
    }
   ],
   "source": [
    "df.info(memory_usage=\"deep\") # more reliable info"
   ]
  }
 ],
 "metadata": {
  "kernelspec": {
   "display_name": "Python 3 (ipykernel)",
   "language": "python",
   "name": "python3"
  },
  "language_info": {
   "codemirror_mode": {
    "name": "ipython",
    "version": 3
   },
   "file_extension": ".py",
   "mimetype": "text/x-python",
   "name": "python",
   "nbconvert_exporter": "python",
   "pygments_lexer": "ipython3",
   "version": "3.7.15"
  }
 },
 "nbformat": 4,
 "nbformat_minor": 2
}
