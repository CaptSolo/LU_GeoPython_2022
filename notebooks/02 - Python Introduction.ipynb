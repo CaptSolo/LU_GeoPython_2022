{
 "cells": [
  {
   "cell_type": "markdown",
   "metadata": {
    "id": "oXukXEtEyk6m"
   },
   "source": [
    "## Python Introduction with some detours (2)\n",
    "![Python](https://www.python.org/static/community_logos/python-logo-generic.svg)"
   ]
  },
  {
   "cell_type": "markdown",
   "metadata": {
    "id": "0I4yCl8Ayk6q"
   },
   "source": [
    "# Table of Contents <a class=\"anchor\" id=\"toc\">\n",
    "\n",
    "* [String Methods](#string-methods)\n",
    "* [Program Flow Control](#flow-control)\n",
    "* [Libraries](#libraries)\n",
    "* [Crucial Python Ideas](#python-ideas)\n",
    "* [Learning Resources](#learning-resources)"
   ]
  },
  {
   "cell_type": "markdown",
   "metadata": {
    "id": "zMrBVe2FBeuB"
   },
   "source": [
    "## String Methods <a class=\"anchor\" id=\"string-methods\">\n"
   ]
  },
  {
   "cell_type": "code",
   "execution_count": null,
   "metadata": {},
   "outputs": [],
   "source": [
    "name = \"uldis\"\n",
    "last_name = \"bojārs\"\n",
    "full_name = name + \" \" + last_name"
   ]
  },
  {
   "cell_type": "code",
   "execution_count": null,
   "metadata": {
    "colab": {
     "base_uri": "https://localhost:8080/",
     "height": 35
    },
    "id": "jBgJH-wjBjkE",
    "outputId": "fb11b4f5-bf3f-4700-a038-1fb41e91079b"
   },
   "outputs": [],
   "source": [
    "name"
   ]
  },
  {
   "cell_type": "code",
   "execution_count": null,
   "metadata": {
    "colab": {
     "base_uri": "https://localhost:8080/",
     "height": 35
    },
    "id": "lsmV20tGB7eq",
    "outputId": "0e6b014e-3341-442a-87fc-b1c85136f6c7"
   },
   "outputs": [],
   "source": [
    "name.capitalize()"
   ]
  },
  {
   "cell_type": "code",
   "execution_count": null,
   "metadata": {
    "colab": {
     "base_uri": "https://localhost:8080/",
     "height": 35
    },
    "id": "dXdFK-7MCGvq",
    "outputId": "45f1eb55-2a7a-406a-9275-46d806270350"
   },
   "outputs": [],
   "source": [
    "some_string = \"aBBa\"\n",
    "some_string"
   ]
  },
  {
   "cell_type": "code",
   "execution_count": null,
   "metadata": {
    "colab": {
     "base_uri": "https://localhost:8080/",
     "height": 35
    },
    "id": "WgluZQdZCLse",
    "outputId": "bc28719e-2943-440d-a2e7-88cfaf17c098"
   },
   "outputs": [],
   "source": [
    "some_string.capitalize()"
   ]
  },
  {
   "cell_type": "code",
   "execution_count": null,
   "metadata": {
    "colab": {
     "base_uri": "https://localhost:8080/"
    },
    "id": "E1D7PZtRCWEW",
    "outputId": "b472bbd9-035e-4947-9494-c60fb30e33d3"
   },
   "outputs": [],
   "source": [
    "some_string.count(\"B\")"
   ]
  },
  {
   "cell_type": "code",
   "execution_count": null,
   "metadata": {
    "colab": {
     "base_uri": "https://localhost:8080/"
    },
    "id": "9ONwV1ESCpoM",
    "outputId": "3323d8c4-f080-450d-b323-afca04cc39ca"
   },
   "outputs": [],
   "source": [
    "help(str.count)"
   ]
  },
  {
   "cell_type": "code",
   "execution_count": null,
   "metadata": {
    "colab": {
     "base_uri": "https://localhost:8080/"
    },
    "id": "exvpiGcyCx-G",
    "outputId": "af8f3cfd-610a-4b0f-d77d-d2337443c7f1"
   },
   "outputs": [],
   "source": [
    "\"BBBB\".count(\"BB\") # so count method will not consider overlaps - "
   ]
  },
  {
   "cell_type": "code",
   "execution_count": null,
   "metadata": {
    "colab": {
     "base_uri": "https://localhost:8080/"
    },
    "id": "GhiSjX6BCdrE",
    "outputId": "e847e4d1-0c36-4c89-90b6-5bc5b9d39ff2"
   },
   "outputs": [],
   "source": [
    "some_string.endswith(\"Ba\")"
   ]
  },
  {
   "cell_type": "code",
   "execution_count": null,
   "metadata": {
    "colab": {
     "base_uri": "https://localhost:8080/"
    },
    "id": "llQhTEw0DGLn",
    "outputId": "2bd1855b-c69b-45da-fc0a-204babf452b3"
   },
   "outputs": [],
   "source": [
    "some_string.find(\"B\") # returns index of first occurence"
   ]
  },
  {
   "cell_type": "code",
   "execution_count": null,
   "metadata": {
    "colab": {
     "base_uri": "https://localhost:8080/"
    },
    "id": "oUz4FHnlDNFv",
    "outputId": "37ac3613-b27c-4781-c560-bb3bcd7d4dab"
   },
   "outputs": [],
   "source": [
    "name.find(\"dis\")"
   ]
  },
  {
   "cell_type": "code",
   "execution_count": null,
   "metadata": {
    "colab": {
     "base_uri": "https://localhost:8080/",
     "height": 35
    },
    "id": "79IKuewEDT9D",
    "outputId": "e0e65a69-6289-4ae2-d220-fa3cdc12e746"
   },
   "outputs": [],
   "source": [
    "name[2:]"
   ]
  },
  {
   "cell_type": "code",
   "execution_count": null,
   "metadata": {
    "colab": {
     "base_uri": "https://localhost:8080/"
    },
    "id": "36tDkgu3DW4t",
    "outputId": "eb0d9b16-462e-40cc-8b88-ff68d8e8133a"
   },
   "outputs": [],
   "source": [
    "name.isascii()"
   ]
  },
  {
   "cell_type": "code",
   "execution_count": null,
   "metadata": {
    "colab": {
     "base_uri": "https://localhost:8080/",
     "height": 35
    },
    "id": "RsxGCGa9DfQx",
    "outputId": "3cc5d003-fa17-4dd0-a8f5-e660c6bfbe3c"
   },
   "outputs": [],
   "source": [
    "last_name"
   ]
  },
  {
   "cell_type": "code",
   "execution_count": null,
   "metadata": {
    "colab": {
     "base_uri": "https://localhost:8080/"
    },
    "id": "TU-wyDVCDiFI",
    "outputId": "bfdb8b35-15fa-4429-df5e-2a9ba0473f90"
   },
   "outputs": [],
   "source": [
    "last_name.isascii()"
   ]
  },
  {
   "cell_type": "code",
   "execution_count": null,
   "metadata": {
    "colab": {
     "base_uri": "https://localhost:8080/",
     "height": 35
    },
    "id": "nv-moFmMDlGM",
    "outputId": "513cf88c-4886-4cf9-ba02-1baccfff69d1"
   },
   "outputs": [],
   "source": [
    "name.lower() # everything to lowercase"
   ]
  },
  {
   "cell_type": "code",
   "execution_count": null,
   "metadata": {
    "colab": {
     "base_uri": "https://localhost:8080/",
     "height": 35
    },
    "id": "eFcwSZkkD_ID",
    "outputId": "147c4bac-94f0-4e0f-995a-c512579001de"
   },
   "outputs": [],
   "source": [
    "name.upper()"
   ]
  },
  {
   "cell_type": "code",
   "execution_count": null,
   "metadata": {
    "colab": {
     "base_uri": "https://localhost:8080/",
     "height": 35
    },
    "id": "abBhVGSIEDu6",
    "outputId": "9261e094-1ab5-4b03-9ea1-21ab466195a0"
   },
   "outputs": [],
   "source": [
    "name.replace(\"u\", \"Va\")"
   ]
  },
  {
   "cell_type": "code",
   "execution_count": null,
   "metadata": {
    "colab": {
     "base_uri": "https://localhost:8080/",
     "height": 35
    },
    "id": "Yyw-W36uENgW",
    "outputId": "fa6e2543-47a7-4df0-b919-5601c16257b3"
   },
   "outputs": [],
   "source": [
    "name # strings are not Mutable! so what to do"
   ]
  },
  {
   "cell_type": "code",
   "execution_count": null,
   "metadata": {
    "colab": {
     "base_uri": "https://localhost:8080/",
     "height": 35
    },
    "id": "M4u7um2VFFuz",
    "outputId": "f23a0630-760d-4258-8c61-61cbf678f15a"
   },
   "outputs": [],
   "source": [
    "new_name = name.replace(\"u\", \"Va\")\n",
    "new_name"
   ]
  },
  {
   "cell_type": "code",
   "execution_count": null,
   "metadata": {
    "colab": {
     "base_uri": "https://localhost:8080/",
     "height": 35
    },
    "id": "46zM2BHBFJv7",
    "outputId": "bea00c62-7973-4afd-9d76-7cb5d5f8807a"
   },
   "outputs": [],
   "source": [
    "name"
   ]
  },
  {
   "cell_type": "code",
   "execution_count": null,
   "metadata": {
    "colab": {
     "base_uri": "https://localhost:8080/",
     "height": 35
    },
    "id": "uHnbDmgGFMio",
    "outputId": "8ae8f65d-d0ad-4c9d-f95a-e605bf7e8209"
   },
   "outputs": [],
   "source": [
    "# i could overwrite the old name\n",
    "name = name.replace(\"u\", \"Va\")\n",
    "name"
   ]
  },
  {
   "cell_type": "code",
   "execution_count": null,
   "metadata": {
    "colab": {
     "base_uri": "https://localhost:8080/",
     "height": 35
    },
    "id": "5X9nhb5XEZrT",
    "outputId": "fb5a11ff-5f03-4875-aeb3-0bb1f64b449b"
   },
   "outputs": [],
   "source": [
    "full_name"
   ]
  },
  {
   "cell_type": "code",
   "execution_count": null,
   "metadata": {
    "colab": {
     "base_uri": "https://localhost:8080/",
     "height": 35
    },
    "id": "0uQUdM90E1wH",
    "outputId": "0d0845cb-d1d0-4e63-e159-90ef2a250bc5"
   },
   "outputs": [],
   "source": [
    "full_name.capitalize()"
   ]
  },
  {
   "cell_type": "code",
   "execution_count": null,
   "metadata": {
    "colab": {
     "base_uri": "https://localhost:8080/",
     "height": 35
    },
    "id": "qvDBUivJE608",
    "outputId": "48c0c195-7f41-4910-e2cd-3046357bb559"
   },
   "outputs": [],
   "source": [
    "\"quick brown fox\".title()"
   ]
  },
  {
   "cell_type": "code",
   "execution_count": null,
   "metadata": {
    "colab": {
     "base_uri": "https://localhost:8080/",
     "height": 35
    },
    "id": "Q3hL4EJRE9-p",
    "outputId": "5ec83d44-1a02-4b60-ac6e-2985bf7a5840"
   },
   "outputs": [],
   "source": [
    "\"quick brown fox\".capitalize()"
   ]
  },
  {
   "cell_type": "code",
   "execution_count": null,
   "metadata": {
    "colab": {
     "base_uri": "https://localhost:8080/",
     "height": 35
    },
    "id": "CeRFDraZFD5U",
    "outputId": "4add547d-f857-4a0e-c811-f7f67d30abdf"
   },
   "outputs": [],
   "source": [
    "sentence = \"A quick brown fox jumped over       a sleeping dog\"\n",
    "sentence"
   ]
  },
  {
   "cell_type": "code",
   "execution_count": null,
   "metadata": {
    "colab": {
     "base_uri": "https://localhost:8080/"
    },
    "id": "YaUm8vXdFp3S",
    "outputId": "db05e4ba-def4-4a40-a5d6-f82480bbe8ce"
   },
   "outputs": [],
   "source": [
    "words = sentence.split() # we get a list of words split by any amount of whitespace including newlines , tabs etc\n",
    "words"
   ]
  },
  {
   "cell_type": "code",
   "execution_count": null,
   "metadata": {
    "colab": {
     "base_uri": "https://localhost:8080/",
     "height": 35
    },
    "id": "Sa_nm2JLGHDn",
    "outputId": "57af6d70-c8af-4b8f-8cf8-082316addc4d"
   },
   "outputs": [],
   "source": [
    "joined_string = \" \".join(words) # so join list of words using a single whitespace as the joining element\n",
    "joined_string"
   ]
  },
  {
   "cell_type": "code",
   "execution_count": null,
   "metadata": {
    "colab": {
     "base_uri": "https://localhost:8080/",
     "height": 35
    },
    "id": "lb8Whe35Ggji",
    "outputId": "a378054d-97c4-42fe-d027-2238ef909960"
   },
   "outputs": [],
   "source": [
    "smiley_string = \" 😀 \".join(words) # you can join by multipl characters \n",
    "smiley_string"
   ]
  },
  {
   "cell_type": "code",
   "execution_count": null,
   "metadata": {
    "colab": {
     "base_uri": "https://localhost:8080/"
    },
    "id": "YAeunaKDF61P",
    "outputId": "37a93aab-fa16-4297-f1b3-c9b919fdcd4a",
    "scrolled": true
   },
   "outputs": [],
   "source": [
    "\"Uldis\".split(\"d\")"
   ]
  },
  {
   "cell_type": "code",
   "execution_count": null,
   "metadata": {
    "colab": {
     "base_uri": "https://localhost:8080/"
    },
    "id": "V9tvNzyTzlhY",
    "outputId": "7ee2a482-7116-4480-a246-7a1de2add738"
   },
   "outputs": [],
   "source": [
    "\"dis\" in name"
   ]
  },
  {
   "cell_type": "code",
   "execution_count": null,
   "metadata": {
    "colab": {
     "base_uri": "https://localhost:8080/"
    },
    "id": "rNORT9z4zrSx",
    "outputId": "0934496a-8b67-4c6d-8eed-e2ca9200958a"
   },
   "outputs": [],
   "source": [
    "\"al\" in name # Uldis does not have \"al\" substring"
   ]
  },
  {
   "cell_type": "code",
   "execution_count": null,
   "metadata": {
    "colab": {
     "base_uri": "https://localhost:8080/"
    },
    "id": "05uwzExvzwUK",
    "outputId": "1b18fa1a-88f4-4e0d-8102-466eaa45abc9"
   },
   "outputs": [],
   "source": [
    "\"al\" in \"Valdis\""
   ]
  },
  {
   "cell_type": "code",
   "execution_count": null,
   "metadata": {},
   "outputs": [],
   "source": []
  },
  {
   "cell_type": "code",
   "execution_count": null,
   "metadata": {},
   "outputs": [],
   "source": [
    "shopping_list = [\"Chocolate\", \"Milk\", \"Cookies\"] # a list of 3 strings - can be changed later on as needed\n",
    "shopping_list"
   ]
  },
  {
   "cell_type": "code",
   "execution_count": null,
   "metadata": {
    "colab": {
     "base_uri": "https://localhost:8080/"
    },
    "id": "JO5st21XyVhY",
    "outputId": "a1d2807d-e336-4c6f-972c-9c1f9c404e81"
   },
   "outputs": [],
   "source": [
    "shopping_list.append(\"fork\")\n",
    "shopping_list"
   ]
  },
  {
   "cell_type": "code",
   "execution_count": null,
   "metadata": {
    "colab": {
     "base_uri": "https://localhost:8080/"
    },
    "id": "rwChOk8GyvbG",
    "outputId": "869715bf-d676-4779-9a76-8fcef59153ba"
   },
   "outputs": [],
   "source": [
    "new_shopping_list = shopping_list[:-3] # so remove last 3 items\n",
    "new_shopping_list"
   ]
  },
  {
   "cell_type": "code",
   "execution_count": null,
   "metadata": {
    "colab": {
     "base_uri": "https://localhost:8080/"
    },
    "id": "g5FqcG8eyeKH",
    "outputId": "5c5d2ba6-216e-49f3-a4dc-cae3efd28407"
   },
   "outputs": [],
   "source": [
    "shopping_list.sort()\n",
    "shopping_list"
   ]
  },
  {
   "cell_type": "code",
   "execution_count": null,
   "metadata": {
    "colab": {
     "base_uri": "https://localhost:8080/"
    },
    "id": "lDug1ZoazASu",
    "outputId": "71593163-de2a-444e-99b5-425c784b309f"
   },
   "outputs": [],
   "source": [
    "shopping_list.remove(\"Milk\")\n",
    "shopping_list"
   ]
  },
  {
   "cell_type": "code",
   "execution_count": null,
   "metadata": {},
   "outputs": [],
   "source": [
    "shopping_list.append(\"Kefir\")\n",
    "shopping_list"
   ]
  },
  {
   "cell_type": "code",
   "execution_count": null,
   "metadata": {
    "colab": {
     "base_uri": "https://localhost:8080/"
    },
    "id": "FkHGu6fazRCF",
    "outputId": "257007c1-bcf6-4f20-b0f8-021e6edc8d6d"
   },
   "outputs": [],
   "source": [
    "\"Kefir\" in shopping_list  # this needs to be exact match"
   ]
  },
  {
   "cell_type": "code",
   "execution_count": null,
   "metadata": {
    "colab": {
     "base_uri": "https://localhost:8080/"
    },
    "id": "LBm6xnhAzb9Y",
    "outputId": "ff613497-b96f-4c1b-cf76-c855a14ab87c"
   },
   "outputs": [],
   "source": [
    "\"kefir\" in shopping_list # case sensitive so it should be false"
   ]
  },
  {
   "cell_type": "code",
   "execution_count": null,
   "metadata": {
    "colab": {
     "base_uri": "https://localhost:8080/"
    },
    "id": "b-aF5slHzYG5",
    "outputId": "6746dd62-94a5-4b75-dcc9-cd47723c4495"
   },
   "outputs": [],
   "source": [
    "\"Milk\" in shopping_list"
   ]
  },
  {
   "cell_type": "markdown",
   "metadata": {
    "id": "94m41ooSyk67"
   },
   "source": [
    "## Flow Control <a class=\"anchor\" id=\"flow-control\">\n",
    "    \n",
    "[Back to Table of Contents](#toc)"
   ]
  },
  {
   "cell_type": "code",
   "execution_count": null,
   "metadata": {
    "id": "T7BtimQbyk67"
   },
   "outputs": [],
   "source": [
    "# With Flow Control we can tell our program/cells to choose different paths"
   ]
  },
  {
   "cell_type": "markdown",
   "metadata": {
    "id": "u8W4uJO1yk68"
   },
   "source": [
    "## Conditional operators \n",
    "\n",
    "`< > <= >= == != and or not`"
   ]
  },
  {
   "cell_type": "code",
   "execution_count": null,
   "metadata": {
    "id": "om2-RYt5yk68"
   },
   "outputs": [],
   "source": [
    "# What is truth in computer language?"
   ]
  },
  {
   "cell_type": "code",
   "execution_count": null,
   "metadata": {
    "colab": {
     "base_uri": "https://localhost:8080/"
    },
    "id": "MONkq4S3yk68",
    "outputId": "0fbdb333-b5cc-4346-aff8-f92a493f820e"
   },
   "outputs": [],
   "source": [
    "2*2 == 4"
   ]
  },
  {
   "cell_type": "code",
   "execution_count": null,
   "metadata": {
    "colab": {
     "base_uri": "https://localhost:8080/"
    },
    "id": "osZweVjuyk68",
    "outputId": "b31a49bf-63df-4742-a98b-c4d7e21e42f2"
   },
   "outputs": [],
   "source": [
    "5 > 7\n"
   ]
  },
  {
   "cell_type": "code",
   "execution_count": null,
   "metadata": {
    "colab": {
     "base_uri": "https://localhost:8080/"
    },
    "id": "WtcIqTKqyk68",
    "outputId": "861bad64-5e8a-42fd-d7c7-ca64195e328c"
   },
   "outputs": [],
   "source": [
    "print(5 == int('5'))\n",
    "\n",
    "print(5 <= 6)"
   ]
  },
  {
   "cell_type": "code",
   "execution_count": null,
   "metadata": {
    "colab": {
     "base_uri": "https://localhost:8080/"
    },
    "id": "RjVP_FTuyk68",
    "outputId": "79ddfd76-d9d4-4722-961d-bfdbdb37df89"
   },
   "outputs": [],
   "source": [
    "print(5 <= 5)\n",
    "\n",
    "# check if 5 is NOT equal to 6\n",
    "print(5 != 6)\n",
    "\n",
    "print(5 != 5)\n"
   ]
  },
  {
   "cell_type": "code",
   "execution_count": null,
   "metadata": {
    "colab": {
     "base_uri": "https://localhost:8080/"
    },
    "id": "dV-16LNayk68",
    "outputId": "9af7fc04-2f72-4992-ba80-e7f1ff21e1c9"
   },
   "outputs": [],
   "source": [
    "# We check each letter from left side\n",
    "# on mismatch we check ASCII (UTF-8) tables for values\n",
    "# so called lexicographical ordering\n",
    "'VALDIS' < 'VOLDEMARS'"
   ]
  },
  {
   "cell_type": "code",
   "execution_count": null,
   "metadata": {
    "colab": {
     "base_uri": "https://localhost:8080/"
    },
    "id": "xy9l-PiVLTkp",
    "outputId": "b2b5ff00-c16b-4529-f98a-59c3673f13e4"
   },
   "outputs": [],
   "source": [
    "ord(\"V\")"
   ]
  },
  {
   "cell_type": "code",
   "execution_count": null,
   "metadata": {
    "colab": {
     "base_uri": "https://localhost:8080/"
    },
    "id": "KoLh6BVELq6O",
    "outputId": "c55daaa6-f17b-44ae-eca3-4010d544cee8"
   },
   "outputs": [],
   "source": [
    "ord(\"A\")"
   ]
  },
  {
   "cell_type": "code",
   "execution_count": null,
   "metadata": {
    "colab": {
     "base_uri": "https://localhost:8080/"
    },
    "id": "RVmBCTTbLum5",
    "outputId": "3991017f-4c52-4510-902c-1ddf9482a4fb"
   },
   "outputs": [],
   "source": [
    "ord(\"O\")"
   ]
  },
  {
   "cell_type": "code",
   "execution_count": null,
   "metadata": {
    "colab": {
     "base_uri": "https://localhost:8080/"
    },
    "id": "AmklqPDEL1Bm",
    "outputId": "429dd1b3-2112-42d4-b797-f77df8d77c0d"
   },
   "outputs": [],
   "source": [
    "'VāLDIS' < 'VOLDEMARS'"
   ]
  },
  {
   "cell_type": "code",
   "execution_count": null,
   "metadata": {
    "colab": {
     "base_uri": "https://localhost:8080/"
    },
    "id": "Yfbm2hb2LcEq",
    "outputId": "c69c35b1-0451-4e1f-e9cf-1d64ed41582d"
   },
   "outputs": [],
   "source": [
    "ord(\"ā\") # latvian long a"
   ]
  },
  {
   "cell_type": "code",
   "execution_count": null,
   "metadata": {
    "colab": {
     "base_uri": "https://localhost:8080/"
    },
    "id": "LBrFsFhLyk68",
    "outputId": "9de05aff-33cb-4d46-99f8-c2405b50eb92"
   },
   "outputs": [],
   "source": [
    "len('VALDIS') < len('VOLDEMARS')"
   ]
  },
  {
   "cell_type": "code",
   "execution_count": null,
   "metadata": {
    "colab": {
     "base_uri": "https://localhost:8080/"
    },
    "id": "wNB92r86yk68",
    "outputId": "3dad9c68-65a9-4d0a-cab7-918dd3c1bde6"
   },
   "outputs": [],
   "source": [
    "True and True"
   ]
  },
  {
   "cell_type": "code",
   "execution_count": null,
   "metadata": {
    "colab": {
     "base_uri": "https://localhost:8080/"
    },
    "id": "PDSDoyhtyk69",
    "outputId": "b8265154-50f1-4348-d517-217fe0d051c8"
   },
   "outputs": [],
   "source": [
    "True or False"
   ]
  },
  {
   "cell_type": "code",
   "execution_count": null,
   "metadata": {
    "colab": {
     "base_uri": "https://localhost:8080/"
    },
    "id": "_yRvWtvsyk69",
    "outputId": "577a9ad1-b628-4ca1-c701-78d9b8a666e9"
   },
   "outputs": [],
   "source": [
    "not True"
   ]
  },
  {
   "cell_type": "code",
   "execution_count": null,
   "metadata": {
    "colab": {
     "base_uri": "https://localhost:8080/"
    },
    "id": "iRQiRFKhMdOA",
    "outputId": "ac09e8fb-3318-4f60-9905-c9ce9e4f4104"
   },
   "outputs": [],
   "source": [
    "\"AL\" in \"VALDIS\""
   ]
  },
  {
   "cell_type": "markdown",
   "metadata": {
    "id": "8Lh_uafdyk69"
   },
   "source": [
    "## If Statement"
   ]
  },
  {
   "cell_type": "code",
   "execution_count": null,
   "metadata": {
    "colab": {
     "base_uri": "https://localhost:8080/"
    },
    "id": "1VFw0D6Yyk69",
    "outputId": "7e5e1c9e-8bfb-4269-83dc-3ebd90755045"
   },
   "outputs": [],
   "source": [
    "## Conditional execution\n",
    "# if 4 is larger than 5 then do something\n",
    "if 4 > 5:\n",
    "    print(\"4 is larger than 5 wow!\")\n",
    "    print(\"Still inside if statement\")\n",
    "# now I am out of if\n",
    "print(\"Always prints\")"
   ]
  },
  {
   "cell_type": "code",
   "execution_count": null,
   "metadata": {
    "colab": {
     "base_uri": "https://localhost:8080/"
    },
    "id": "ff_Wgf1kyk69",
    "outputId": "3c2d007e-163c-4782-ed23-c7c22f1e7a7d"
   },
   "outputs": [],
   "source": [
    "if 5 >= 5:\n",
    "    print(\"hello\")\n",
    "if 5 <= 5:\n",
    "    print(\"hello\")\n",
    "if 5 == 6:\n",
    "    print(\"hello that's magic\")\n",
    "if 5 != 6:\n",
    "    print(\"hello that's not magic\")"
   ]
  },
  {
   "cell_type": "code",
   "execution_count": null,
   "metadata": {
    "colab": {
     "base_uri": "https://localhost:8080/"
    },
    "id": "mjfeVd-9NE-b",
    "outputId": "52eaa3c2-fdff-49d7-8a8b-4272abd94897"
   },
   "outputs": [],
   "source": [
    "\"Valdis\" != \"Uldis\" # we check for inequality"
   ]
  },
  {
   "cell_type": "code",
   "execution_count": null,
   "metadata": {
    "colab": {
     "base_uri": "https://localhost:8080/"
    },
    "id": "kw3qO4D8NKp1",
    "outputId": "7932199e-3926-4b56-eeb4-3acce727d98d"
   },
   "outputs": [],
   "source": [
    "# same as\n",
    "not \"Valdis\" == \"Uldis\" # if you are not sure of precedence you can but parenthesis but here we did not need"
   ]
  },
  {
   "cell_type": "code",
   "execution_count": null,
   "metadata": {
    "colab": {
     "base_uri": "https://localhost:8080/"
    },
    "id": "07vTwFUXyk69",
    "outputId": "fc2035d8-ea47-4ac5-8ab4-6685c81d87ad"
   },
   "outputs": [],
   "source": [
    "if 2*2 == 4:\n",
    "    print(\"Do one thing if if is True\")\n",
    "    print(\"DO more things if if is True\")\n",
    "    # we can keep adding more things here\n",
    "    print(\"Also do when if is True\")\n",
    "    \n",
    "print(\"Do this always\")"
   ]
  },
  {
   "cell_type": "code",
   "execution_count": null,
   "metadata": {
    "colab": {
     "base_uri": "https://localhost:8080/"
    },
    "id": "bwQ6KgAJyk6-",
    "outputId": "eb5fbfd1-5384-4cd7-d227-8d69d40bfe46"
   },
   "outputs": [],
   "source": [
    "a = 13\n",
    "# so if and else here are part of the same statement\n",
    "if a > 5:\n",
    "    print('a is larger than 5')\n",
    "    # do more stuff\n",
    "else:\n",
    "    print('a is NOT larger than 5')\n",
    "    # do more stuff if a is not larger than 5"
   ]
  },
  {
   "cell_type": "markdown",
   "metadata": {
    "id": "QtrFl0dByk6-"
   },
   "source": [
    "## Loops"
   ]
  },
  {
   "cell_type": "code",
   "execution_count": null,
   "metadata": {
    "id": "nMuqut4Fyk6-"
   },
   "outputs": [],
   "source": [
    "# How would be perform the same/similar action multiple times?"
   ]
  },
  {
   "cell_type": "code",
   "execution_count": null,
   "metadata": {
    "colab": {
     "base_uri": "https://localhost:8080/"
    },
    "id": "4lBUdvm7yk6-",
    "outputId": "11f44c44-096d-4e5d-ac0b-638b7215300e"
   },
   "outputs": [],
   "source": [
    "i = 0\n",
    "print(\"Alice did \")\n",
    "while i < 5:\n",
    "    print(\"talk\")\n",
    "    print(\"i is \", i)\n",
    "    i += 1 # same as i = i + 1"
   ]
  },
  {
   "cell_type": "code",
   "execution_count": null,
   "metadata": {
    "colab": {
     "base_uri": "https://localhost:8080/"
    },
    "id": "gVUkUAQFQQlo",
    "outputId": "2cf7aa42-c29f-4bd0-dda3-2b22f157e4aa"
   },
   "outputs": [],
   "source": [
    "i"
   ]
  },
  {
   "cell_type": "code",
   "execution_count": null,
   "metadata": {
    "colab": {
     "base_uri": "https://localhost:8080/",
     "height": 1000
    },
    "id": "niBTEsgDQKwO",
    "outputId": "61122ef8-4a5e-4c42-b3bd-c00278242289"
   },
   "outputs": [],
   "source": [
    "i = 5 \n",
    "\n",
    "while i < 10:\n",
    "    print(\"Hmm\")\n",
    "    i = i + 1"
   ]
  },
  {
   "cell_type": "code",
   "execution_count": null,
   "metadata": {
    "id": "O8Rk73-4yk6-"
   },
   "outputs": [],
   "source": [
    "# What would happen if we did not have i+=1 in our above program ?"
   ]
  },
  {
   "cell_type": "code",
   "execution_count": null,
   "metadata": {
    "colab": {
     "base_uri": "https://localhost:8080/"
    },
    "id": "9iQlG4C5yk6-",
    "outputId": "06c379dd-2746-4b3c-f4db-b4514c097628"
   },
   "outputs": [],
   "source": [
    "for x in range(10): # remember range is a number factory (iterator technically)\n",
    "    print(x)"
   ]
  },
  {
   "cell_type": "code",
   "execution_count": null,
   "metadata": {
    "colab": {
     "base_uri": "https://localhost:8080/"
    },
    "id": "o7QcqVXDyk6-",
    "outputId": "073e7be1-8764-427c-9748-1bcc64a88939"
   },
   "outputs": [],
   "source": [
    "# we can loop / iterate through strings\n",
    "for c in \"Uldis\":\n",
    "    print(c)"
   ]
  },
  {
   "cell_type": "code",
   "execution_count": null,
   "metadata": {
    "colab": {
     "base_uri": "https://localhost:8080/"
    },
    "id": "Agmjsv_bQ9ja",
    "outputId": "3a78bd7a-13d2-48c1-889c-8ec33d23955d"
   },
   "outputs": [],
   "source": [
    "# we use enumerate when we need index for whatever we are looping through\n",
    "for i, c in enumerate(name):\n",
    "    print(i, c)"
   ]
  },
  {
   "cell_type": "code",
   "execution_count": null,
   "metadata": {
    "colab": {
     "base_uri": "https://localhost:8080/"
    },
    "id": "Ul9aqgSkRSC0",
    "outputId": "904a10e1-9352-4d96-e1a6-2c44a544b86b"
   },
   "outputs": [],
   "source": [
    "i"
   ]
  },
  {
   "cell_type": "code",
   "execution_count": null,
   "metadata": {
    "colab": {
     "base_uri": "https://localhost:8080/",
     "height": 35
    },
    "id": "LillgUSSRTMr",
    "outputId": "33335f31-0f48-4dcc-880b-0f7ea1f6e22c"
   },
   "outputs": [],
   "source": [
    "c"
   ]
  },
  {
   "cell_type": "code",
   "execution_count": null,
   "metadata": {
    "colab": {
     "base_uri": "https://localhost:8080/"
    },
    "id": "jjbRaZW_RY-_",
    "outputId": "ed3fa438-af10-4c19-9f16-e5288afbeacf"
   },
   "outputs": [],
   "source": [
    "new_string = \"\"\n",
    "new_list = []\n",
    "for i, c in enumerate(last_name):\n",
    "    if i % 2 == 0:\n",
    "        print(c.lower())\n",
    "        new_string += c.lower() # this is same as saying new_string = new_string + c\n",
    "        new_list.append(c.lower())\n",
    "    else:\n",
    "        print(c.upper())\n",
    "        new_string += c.upper()  # this += is fine for smaller strings\n",
    "        new_list.append(c.upper())\n",
    "print(new_string)"
   ]
  },
  {
   "cell_type": "code",
   "execution_count": null,
   "metadata": {
    "colab": {
     "base_uri": "https://localhost:8080/"
    },
    "id": "YoxSa-uqSX4n",
    "outputId": "fd765f19-9e75-4dd1-f678-41d56e06d53d"
   },
   "outputs": [],
   "source": [
    "new_list"
   ]
  },
  {
   "cell_type": "code",
   "execution_count": null,
   "metadata": {
    "colab": {
     "base_uri": "https://localhost:8080/",
     "height": 35
    },
    "id": "gVz-46KeSatC",
    "outputId": "ce23b014-7346-4606-da98-0f06dc897049"
   },
   "outputs": [],
   "source": [
    "str(new_list)"
   ]
  },
  {
   "cell_type": "code",
   "execution_count": null,
   "metadata": {
    "colab": {
     "base_uri": "https://localhost:8080/",
     "height": 35
    },
    "id": "DXDEj4P5SdWm",
    "outputId": "1f4477af-c7ee-4ddc-b253-58f4c561b489"
   },
   "outputs": [],
   "source": [
    "my_new_string = \"\".join(new_list) # so our separator is an empty string, you could use something else if you want such as space\n",
    "my_new_string"
   ]
  },
  {
   "cell_type": "code",
   "execution_count": null,
   "metadata": {
    "colab": {
     "base_uri": "https://localhost:8080/"
    },
    "id": "AXrGVP8xSzD4",
    "outputId": "341afd6a-a329-449e-da91-e06e01257fa6"
   },
   "outputs": [],
   "source": [
    "mylist = range(11,21)"
   ]
  },
  {
   "cell_type": "code",
   "execution_count": null,
   "metadata": {
    "colab": {
     "base_uri": "https://localhost:8080/"
    },
    "id": "b90_H3Vtzb40",
    "outputId": "9bbe0c60-e9a5-4e6d-d76f-3179c28cdbf7"
   },
   "outputs": [],
   "source": [
    "for item in mylist:\n",
    "    print(\"Item\", item)"
   ]
  },
  {
   "cell_type": "code",
   "execution_count": null,
   "metadata": {
    "colab": {
     "base_uri": "https://localhost:8080/"
    },
    "id": "1ykMR6anS1wS",
    "outputId": "e2a86d7f-acd9-4a48-f980-3265ca9e2eb9"
   },
   "outputs": [],
   "source": [
    "for need_to_buy in shopping_list:\n",
    "    print(\"Need to buy\", need_to_buy)\n",
    "    # here we could actually do the actual buying operation"
   ]
  },
  {
   "cell_type": "code",
   "execution_count": null,
   "metadata": {
    "id": "RhVAv5xjyk6_"
   },
   "outputs": [],
   "source": [
    "## Splitting a line of text into words\n",
    "mytext = \"A quick brown fox jumped over a sleeping dog\"\n",
    "words = mytext.split()\n"
   ]
  },
  {
   "cell_type": "code",
   "execution_count": null,
   "metadata": {
    "id": "zFuwBnH0yk6_"
   },
   "outputs": [],
   "source": [
    "print(words)"
   ]
  },
  {
   "cell_type": "code",
   "execution_count": null,
   "metadata": {
    "id": "NGODLi24yk6_"
   },
   "outputs": [],
   "source": [
    "## Print first letter of each word\n",
    "for w in words:\n",
    "    print(w[0], w[0].isupper(), w.istitle()) ## istitle() checks every word in a string so not good for unsplit strings"
   ]
  },
  {
   "cell_type": "code",
   "execution_count": null,
   "metadata": {
    "id": "hwjDVnwpyk6_"
   },
   "outputs": [],
   "source": [
    "myline=\"Mr. Sherlock Holmes, who was usually very late in the mornings\""
   ]
  },
  {
   "cell_type": "code",
   "execution_count": null,
   "metadata": {
    "id": "n5wwnnSHyk7A"
   },
   "outputs": [],
   "source": [
    "words=myline.split()"
   ]
  },
  {
   "cell_type": "code",
   "execution_count": null,
   "metadata": {
    "id": "tBGR77iWyk7B"
   },
   "outputs": [],
   "source": [
    "words"
   ]
  },
  {
   "cell_type": "code",
   "execution_count": null,
   "metadata": {
    "id": "2ljnfqi1yk7B"
   },
   "outputs": [],
   "source": [
    "words[1][0].isupper()"
   ]
  },
  {
   "cell_type": "code",
   "execution_count": null,
   "metadata": {
    "id": "9d01teFfyk7B"
   },
   "outputs": [],
   "source": [
    "# Enumerate for showing index of item when going through many items\n",
    "for i, x in enumerate(range(10,15)):\n",
    "    print(i, x)"
   ]
  },
  {
   "cell_type": "code",
   "execution_count": null,
   "metadata": {
    "id": "lZhC-cpoyk7B"
   },
   "outputs": [],
   "source": [
    "for i, c in enumerate(full_name):\n",
    "    print(i, c)"
   ]
  },
  {
   "cell_type": "markdown",
   "metadata": {
    "id": "Ab46RX_Ayk63"
   },
   "source": [
    "## Python Lists\n",
    "\n",
    "* Ordered\n",
    "* Mutable(can change individual members!)\n",
    "* Comma separated between brackets [1,3,2,5,6,2]\n",
    "* Can have duplicates\n",
    "* Can be nested\n"
   ]
  },
  {
   "cell_type": "code",
   "execution_count": null,
   "metadata": {
    "colab": {
     "base_uri": "https://localhost:8080/"
    },
    "id": "Pj1LtSiiyk63",
    "outputId": "30883ca8-54b2-415a-a5b6-25e29cf8e2a9"
   },
   "outputs": [],
   "source": [
    "mylist = list(range(11,21,1)) \n",
    "# mylist = [11, 12, 13, 14, 15, 16, 17, 18, 19, 20] would work too but not practical for longer ranges...\n",
    "print(mylist)"
   ]
  },
  {
   "cell_type": "code",
   "execution_count": null,
   "metadata": {
    "colab": {
     "base_uri": "https://localhost:8080/"
    },
    "id": "ov8VuKAEw4oZ",
    "outputId": "0b7ba00a-8970-476b-e492-7ae7166e3f21"
   },
   "outputs": [],
   "source": [
    "shopping_list = [\"Chocolate\", \"Milk\", \"Cookies\"] # so i created a list of 3 strings - can be changed later on as needed\n",
    "shopping_list"
   ]
  },
  {
   "cell_type": "markdown",
   "metadata": {
    "id": "lS62R1xHyk63"
   },
   "source": [
    "### Slice notation\n",
    "\n",
    "somestring[start:end:step]\n",
    "\n",
    "somelist[start:end:step]\n",
    "\n",
    "start is at index 0(first element), end is -1 the actual index\n",
    "#### Examples below"
   ]
  },
  {
   "cell_type": "code",
   "execution_count": null,
   "metadata": {
    "colab": {
     "base_uri": "https://localhost:8080/"
    },
    "id": "tKZeoEl-yk64",
    "outputId": "9b4ba575-ea8d-4cd7-b578-cfff8ffe8c3a"
   },
   "outputs": [],
   "source": [
    "mylist[0]"
   ]
  },
  {
   "cell_type": "code",
   "execution_count": null,
   "metadata": {
    "colab": {
     "base_uri": "https://localhost:8080/",
     "height": 35
    },
    "id": "zyZZ9KXGxQog",
    "outputId": "758948ca-56fb-49ab-a9b6-d2a6cf8787e1"
   },
   "outputs": [],
   "source": [
    "shopping_list[-1]"
   ]
  },
  {
   "cell_type": "code",
   "execution_count": null,
   "metadata": {
    "colab": {
     "base_uri": "https://localhost:8080/"
    },
    "id": "Xd3DkIPgxYmL",
    "outputId": "5ed2c01a-c6e1-49dc-a44d-6144266ce1d3"
   },
   "outputs": [],
   "source": [
    "shopping_list[-1] = \"Potatoes\"\n",
    "shopping_list"
   ]
  },
  {
   "cell_type": "code",
   "execution_count": null,
   "metadata": {
    "colab": {
     "base_uri": "https://localhost:8080/"
    },
    "id": "cg8Nn8Xlyk64",
    "outputId": "65fbf700-9692-409e-d0ec-f59e492fe137"
   },
   "outputs": [],
   "source": [
    "mylist[3:] # so starting from the 4th element(with index 3)"
   ]
  },
  {
   "cell_type": "code",
   "execution_count": null,
   "metadata": {
    "colab": {
     "base_uri": "https://localhost:8080/"
    },
    "id": "PF9Pqnyeyk64",
    "outputId": "a1043717-e3ea-465c-fa66-7ba751d57e5a"
   },
   "outputs": [],
   "source": [
    "mylist[:-2] # so everything BUT the last two items"
   ]
  },
  {
   "cell_type": "code",
   "execution_count": null,
   "metadata": {
    "colab": {
     "base_uri": "https://localhost:8080/"
    },
    "id": "xmKJGEc0yk64",
    "outputId": "217193c9-ec5a-49d7-cad0-82bbbde1077d"
   },
   "outputs": [],
   "source": [
    "mylist[::2]"
   ]
  },
  {
   "cell_type": "code",
   "execution_count": null,
   "metadata": {
    "colab": {
     "base_uri": "https://localhost:8080/",
     "height": 35
    },
    "id": "XBQVRvFCyk64",
    "outputId": "a1ea3900-d7f5-4818-f60f-379f751255a6"
   },
   "outputs": [],
   "source": [
    "\"Valdis\"[2:5]"
   ]
  },
  {
   "cell_type": "code",
   "execution_count": null,
   "metadata": {
    "id": "32NEQe4vyk64"
   },
   "outputs": [],
   "source": [
    "myname[-1]"
   ]
  },
  {
   "cell_type": "code",
   "execution_count": null,
   "metadata": {
    "id": "XsTGTVo0yk65"
   },
   "outputs": [],
   "source": [
    "name[::-1]"
   ]
  },
  {
   "cell_type": "markdown",
   "metadata": {
    "id": "LFGg71Z6yk65"
   },
   "source": [
    "\n",
    "### Common list methods.\n",
    "* list.append(elem) -- adds a single element to the end of the list. Common error: does not return the new list, just modifies the original.\n",
    "* list.insert(index, elem) -- inserts the element at the given index, shifting elements to the right.\n",
    "* list.extend(list2) adds the elements in list2 to the end of the list. Using + or += on a list is similar to using extend().\n",
    "* list.index(elem) -- searches for the given element from the start of the list and returns its index. Throws a ValueError if the element does not appear (use \"in\" to check without a ValueError).\n",
    "* list.remove(elem) -- searches for the first instance of the given element and removes it (throws ValueError if not present)\n",
    "* list.sort() -- sorts the list in place (does not return it). (The sorted() function shown later is preferred.)\n",
    "* list.reverse() -- reverses the list in place (does not return it)\n",
    "* list.pop(index)-- removes and returns the element at the given index. Returns the rightmost element if index is omitted (roughly the opposite of append())."
   ]
  },
  {
   "cell_type": "code",
   "execution_count": null,
   "metadata": {
    "colab": {
     "base_uri": "https://localhost:8080/"
    },
    "id": "pbsx7duKx5ha",
    "outputId": "9d38e52e-d13f-4184-ee34-5388b275b855"
   },
   "outputs": [],
   "source": [
    "shopping_list"
   ]
  },
  {
   "cell_type": "code",
   "execution_count": null,
   "metadata": {
    "colab": {
     "base_uri": "https://localhost:8080/"
    },
    "id": "Kbu66bEgx9-s",
    "outputId": "057cf978-3cc9-4538-d61a-f644b51860d6"
   },
   "outputs": [],
   "source": [
    "shopping_list.append(\"Kefir\")\n",
    "shopping_list"
   ]
  },
  {
   "cell_type": "code",
   "execution_count": null,
   "metadata": {
    "colab": {
     "base_uri": "https://localhost:8080/"
    },
    "id": "U3febKV1yMUI",
    "outputId": "691623b1-2a67-4e80-d2df-af8ee0d792f5",
    "scrolled": true
   },
   "outputs": [],
   "source": [
    "shopping_list.sort() # this will sort a list\n",
    "shopping_list"
   ]
  },
  {
   "cell_type": "markdown",
   "metadata": {
    "id": "rQWerPaTyk7D"
   },
   "source": [
    "## Libraries <a class=\"anchor\" id=\"libraries\">\n",
    "    \n",
    "[Back to Table of Contents](#toc)"
   ]
  },
  {
   "cell_type": "code",
   "execution_count": null,
   "metadata": {
    "id": "ue-Y0NMtyk7D"
   },
   "outputs": [],
   "source": [
    "# Python and Batteries Included Philosophy\n",
    "## Why reinvent the wheel?"
   ]
  },
  {
   "cell_type": "code",
   "execution_count": null,
   "metadata": {
    "id": "JSa9NWcYyk7D"
   },
   "outputs": [],
   "source": [
    "# Try importing this\n",
    "import this"
   ]
  },
  {
   "cell_type": "code",
   "execution_count": null,
   "metadata": {
    "id": "kKAZZ2RPyk7D"
   },
   "outputs": [],
   "source": [
    "import math\n"
   ]
  },
  {
   "cell_type": "code",
   "execution_count": null,
   "metadata": {
    "id": "xrBBGDl-yk7D"
   },
   "outputs": [],
   "source": [
    "# notice the . syntax helper\n",
    "math.cos(3.14)"
   ]
  },
  {
   "cell_type": "code",
   "execution_count": null,
   "metadata": {
    "id": "jyiYv9ZWyk7D"
   },
   "outputs": [],
   "source": [
    "from collections import Counter"
   ]
  },
  {
   "cell_type": "code",
   "execution_count": null,
   "metadata": {
    "id": "naQt3oPuyk7D"
   },
   "outputs": [],
   "source": [
    "magic = \"abracadabra\"\n",
    "cnt = Counter(magic)\n",
    "cnt"
   ]
  },
  {
   "cell_type": "code",
   "execution_count": null,
   "metadata": {
    "id": "gi5kXSV8yk7E"
   },
   "outputs": [],
   "source": [
    "# There are hundreds of useful Python libraries\n",
    "## Crucial libraries are collected in Standard Library\n",
    "# https://docs.python.org/3/library/\n",
    "# Batteries included\n"
   ]
  },
  {
   "cell_type": "markdown",
   "metadata": {
    "id": "Rq7cOLLMyk7E"
   },
   "source": [
    "## Most important Python ideas <a class=\"anchor\" id=\"python-ideas\">\n",
    "    \n",
    "[Back to Table of Contents](#toc)\n",
    "\n",
    "* dir(myobject) to find what can be done (most decent text editors/IDEs will offer autocompletion and hints though)\n",
    "* help(myobject) general help\n",
    "* type(myobject) what type it is\n",
    "\n",
    "## Slicing Syntax for sequences(strings,lists and more)\n",
    "`\n",
    "myname[start:end:step]\n",
    "myname[:5]`\n",
    "\n",
    "## : indicates a new indentation level \n",
    "\n",
    "`if x > 5:\n",
    "     print(\"Do Work when x > 5\")\n",
    "print(\"Always Do this\")`"
   ]
  },
  {
   "cell_type": "markdown",
   "metadata": {
    "id": "z1q0FQFKyk7E"
   },
   "source": [
    "# Python Resources <a class=\"anchor\" id=\"learning-resources\">\n",
    "    \n",
    "[Back to Table of Contents](#toc)"
   ]
  },
  {
   "cell_type": "markdown",
   "metadata": {
    "id": "ghG_aM5ayk7E"
   },
   "source": [
    "## Wiki for Tutorials\n",
    "\n",
    "https://wiki.python.org/moin/BeginnersGuide/NonProgrammers"
   ]
  },
  {
   "cell_type": "markdown",
   "metadata": {
    "id": "R34PGbyzyk7E"
   },
   "source": [
    "## Tutorials Begginner to Intermediate\n",
    "\n",
    "\n",
    "\n",
    "\n",
    "* https://automatetheboringstuff.com/ - Anything by Al Sweigart is great\n",
    "* http://newcoder.io/tutorials/ - 5 sets of practical tutorials\n",
    "* [Think Like a Computer Scientist](http://interactivepython.org/runestone/static/thinkcspy/index.html) full tutorial\n",
    "* [Non-Programmers Tutorial for Python 3](https://en.wikibooks.org/wiki/Non-Programmer%27s_Tutorial_for_Python_3) quite good for wikibooks\n",
    "* [Real Python](https://realpython.com/) Python Tutorials for all levels\n",
    "\n",
    "\n",
    "* [Learn Python 3 the Hard Way](https://learnpythonthehardway.org/python3/intro.html) controversial author but very exhaustive, some like this approach"
   ]
  },
  {
   "cell_type": "markdown",
   "metadata": {
    "id": "k65CF3Hdyk7E"
   },
   "source": [
    "## More Advanced Python Specific Books\n",
    "\n",
    "* [Python Cookbook](https://www.amazon.com/Python-Cookbook-Third-David-Beazley/dp/1449340377) Recipes for specific situations\n",
    "\n",
    "* [Effective Python](https://effectivepython.com/) best practices\n",
    "* [Fluent Python](http://shop.oreilly.com/product/0636920032519.do) **highly recommended**, shows Python's advantages"
   ]
  },
  {
   "cell_type": "markdown",
   "metadata": {
    "id": "B0Q3iEMFyk7E"
   },
   "source": [
    "## General Best Practices Books\n",
    "#### (not Python specific)\n",
    "\n",
    "* [Code Complete 2](https://www.goodreads.com/book/show/4845.Code_Complete) - Fantastic best practices\n",
    "* [The Mythical Man-Month](https://en.wikipedia.org/wiki/The_Mythical_Man-Month) - No silver bullet even after 40 years.\n",
    "* [The Pragmatic Programmer](https://www.amazon.com/Pragmatic-Programmer-Journeyman-Master/dp/020161622X) - More practical advice\n",
    "* [Clean Code](https://www.amazon.com/Clean-Code-Handbook-Software-Craftsmanship/dp/0132350882) - more towards agile"
   ]
  },
  {
   "cell_type": "markdown",
   "metadata": {
    "id": "EJoNusgnyk7E"
   },
   "source": [
    "## Blogs / Personalities / forums\n",
    "\n",
    "* [Dan Bader](https://dbader.org/)\n",
    "* [Reddit Python](https://www.reddit.com/r/python)"
   ]
  },
  {
   "cell_type": "markdown",
   "metadata": {
    "id": "Vb1uuHhJyk7E"
   },
   "source": [
    "## Exercises/Challenges\n",
    "* http://www.pythonchallenge.com/ - first one is easy but after that...\n",
    "* [Advent of Code](https://adventofcode.com/) - yearly programming challenges\n",
    "* https://projecteuler.net/ - gets very mathematical but first problems are great for testing "
   ]
  },
  {
   "cell_type": "markdown",
   "metadata": {
    "id": "6AePUe0Qyk7F"
   },
   "source": [
    "## Explore Public Notebooks on Github\n",
    " Download them and try them out for yourself\n",
    " \n",
    "https://github.com/jupyter/jupyter/wiki/A-gallery-of-interesting-Jupyter-Notebooks"
   ]
  },
  {
   "cell_type": "markdown",
   "metadata": {
    "id": "IuOw1wXiyk7F"
   },
   "source": [
    "## Questions / Suggestions ? \n",
    "\n",
    "Pull requests welcome\n",
    "\n",
    "e-mail **valdis.s.coding at gmail.com**"
   ]
  }
 ],
 "metadata": {
  "colab": {
   "name": "Python Introduction.ipynb",
   "provenance": []
  },
  "kernelspec": {
   "display_name": "Python 3 (ipykernel)",
   "language": "python",
   "name": "python3"
  },
  "language_info": {
   "codemirror_mode": {
    "name": "ipython",
    "version": 3
   },
   "file_extension": ".py",
   "mimetype": "text/x-python",
   "name": "python",
   "nbconvert_exporter": "python",
   "pygments_lexer": "ipython3",
   "version": "3.7.12"
  }
 },
 "nbformat": 4,
 "nbformat_minor": 1
}
